{
 "metadata": {
  "language_info": {
   "codemirror_mode": {
    "name": "ipython",
    "version": 3
   },
   "file_extension": ".py",
   "mimetype": "text/x-python",
   "name": "python",
   "nbconvert_exporter": "python",
   "pygments_lexer": "ipython3",
   "version": "3.8.3"
  },
  "orig_nbformat": 2,
  "kernelspec": {
   "name": "python383jvsc74a57bd0cc0f564a2842815ce2e202ab27614177d11b657bc1d48b3d4cc73b91c2a37dec",
   "display_name": "Python 3.8.3 64-bit ('base': conda)"
  }
 },
 "nbformat": 4,
 "nbformat_minor": 2,
 "cells": [
  {
   "source": [
    "# Tipos de Variables que componen un data frame (9/29)"
   ],
   "cell_type": "markdown",
   "metadata": {}
  },
  {
   "cell_type": "code",
   "execution_count": 1,
   "metadata": {},
   "outputs": [],
   "source": [
    "import pandas as pd \n",
    "import numpy as np \n"
   ]
  },
  {
   "cell_type": "code",
   "execution_count": 2,
   "metadata": {},
   "outputs": [
    {
     "output_type": "execute_result",
     "data": {
      "text/plain": [
       "             name     id nametype              recclass      mass   fall  \\\n",
       "0          Aachen      1    Valid                    L5      21.0   Fell   \n",
       "1          Aarhus      2    Valid                    H6     720.0   Fell   \n",
       "2            Abee      6    Valid                   EH4  107000.0   Fell   \n",
       "3        Acapulco     10    Valid           Acapulcoite    1914.0   Fell   \n",
       "4         Achiras    370    Valid                    L6     780.0   Fell   \n",
       "...           ...    ...      ...                   ...       ...    ...   \n",
       "45711  Zillah 002  31356    Valid               Eucrite     172.0  Found   \n",
       "45712      Zinder  30409    Valid  Pallasite, ungrouped      46.0  Found   \n",
       "45713        Zlin  30410    Valid                    H4       3.3  Found   \n",
       "45714   Zubkovsky  31357    Valid                    L6    2167.0  Found   \n",
       "45715  Zulu Queen  30414    Valid                  L3.7     200.0  Found   \n",
       "\n",
       "         year    reclat    reclong               GeoLocation  \n",
       "0      1880.0  50.77500    6.08333     (50.775000, 6.083330)  \n",
       "1      1951.0  56.18333   10.23333    (56.183330, 10.233330)  \n",
       "2      1952.0  54.21667 -113.00000  (54.216670, -113.000000)  \n",
       "3      1976.0  16.88333  -99.90000   (16.883330, -99.900000)  \n",
       "4      1902.0 -33.16667  -64.95000  (-33.166670, -64.950000)  \n",
       "...       ...       ...        ...                       ...  \n",
       "45711  1990.0  29.03700   17.01850    (29.037000, 17.018500)  \n",
       "45712  1999.0  13.78333    8.96667     (13.783330, 8.966670)  \n",
       "45713  1939.0  49.25000   17.66667    (49.250000, 17.666670)  \n",
       "45714  2003.0  49.78917   41.50460    (49.789170, 41.504600)  \n",
       "45715  1976.0  33.98333 -115.68333  (33.983330, -115.683330)  \n",
       "\n",
       "[45716 rows x 10 columns]"
      ],
      "text/html": "<div>\n<style scoped>\n    .dataframe tbody tr th:only-of-type {\n        vertical-align: middle;\n    }\n\n    .dataframe tbody tr th {\n        vertical-align: top;\n    }\n\n    .dataframe thead th {\n        text-align: right;\n    }\n</style>\n<table border=\"1\" class=\"dataframe\">\n  <thead>\n    <tr style=\"text-align: right;\">\n      <th></th>\n      <th>name</th>\n      <th>id</th>\n      <th>nametype</th>\n      <th>recclass</th>\n      <th>mass</th>\n      <th>fall</th>\n      <th>year</th>\n      <th>reclat</th>\n      <th>reclong</th>\n      <th>GeoLocation</th>\n    </tr>\n  </thead>\n  <tbody>\n    <tr>\n      <th>0</th>\n      <td>Aachen</td>\n      <td>1</td>\n      <td>Valid</td>\n      <td>L5</td>\n      <td>21.0</td>\n      <td>Fell</td>\n      <td>1880.0</td>\n      <td>50.77500</td>\n      <td>6.08333</td>\n      <td>(50.775000, 6.083330)</td>\n    </tr>\n    <tr>\n      <th>1</th>\n      <td>Aarhus</td>\n      <td>2</td>\n      <td>Valid</td>\n      <td>H6</td>\n      <td>720.0</td>\n      <td>Fell</td>\n      <td>1951.0</td>\n      <td>56.18333</td>\n      <td>10.23333</td>\n      <td>(56.183330, 10.233330)</td>\n    </tr>\n    <tr>\n      <th>2</th>\n      <td>Abee</td>\n      <td>6</td>\n      <td>Valid</td>\n      <td>EH4</td>\n      <td>107000.0</td>\n      <td>Fell</td>\n      <td>1952.0</td>\n      <td>54.21667</td>\n      <td>-113.00000</td>\n      <td>(54.216670, -113.000000)</td>\n    </tr>\n    <tr>\n      <th>3</th>\n      <td>Acapulco</td>\n      <td>10</td>\n      <td>Valid</td>\n      <td>Acapulcoite</td>\n      <td>1914.0</td>\n      <td>Fell</td>\n      <td>1976.0</td>\n      <td>16.88333</td>\n      <td>-99.90000</td>\n      <td>(16.883330, -99.900000)</td>\n    </tr>\n    <tr>\n      <th>4</th>\n      <td>Achiras</td>\n      <td>370</td>\n      <td>Valid</td>\n      <td>L6</td>\n      <td>780.0</td>\n      <td>Fell</td>\n      <td>1902.0</td>\n      <td>-33.16667</td>\n      <td>-64.95000</td>\n      <td>(-33.166670, -64.950000)</td>\n    </tr>\n    <tr>\n      <th>...</th>\n      <td>...</td>\n      <td>...</td>\n      <td>...</td>\n      <td>...</td>\n      <td>...</td>\n      <td>...</td>\n      <td>...</td>\n      <td>...</td>\n      <td>...</td>\n      <td>...</td>\n    </tr>\n    <tr>\n      <th>45711</th>\n      <td>Zillah 002</td>\n      <td>31356</td>\n      <td>Valid</td>\n      <td>Eucrite</td>\n      <td>172.0</td>\n      <td>Found</td>\n      <td>1990.0</td>\n      <td>29.03700</td>\n      <td>17.01850</td>\n      <td>(29.037000, 17.018500)</td>\n    </tr>\n    <tr>\n      <th>45712</th>\n      <td>Zinder</td>\n      <td>30409</td>\n      <td>Valid</td>\n      <td>Pallasite, ungrouped</td>\n      <td>46.0</td>\n      <td>Found</td>\n      <td>1999.0</td>\n      <td>13.78333</td>\n      <td>8.96667</td>\n      <td>(13.783330, 8.966670)</td>\n    </tr>\n    <tr>\n      <th>45713</th>\n      <td>Zlin</td>\n      <td>30410</td>\n      <td>Valid</td>\n      <td>H4</td>\n      <td>3.3</td>\n      <td>Found</td>\n      <td>1939.0</td>\n      <td>49.25000</td>\n      <td>17.66667</td>\n      <td>(49.250000, 17.666670)</td>\n    </tr>\n    <tr>\n      <th>45714</th>\n      <td>Zubkovsky</td>\n      <td>31357</td>\n      <td>Valid</td>\n      <td>L6</td>\n      <td>2167.0</td>\n      <td>Found</td>\n      <td>2003.0</td>\n      <td>49.78917</td>\n      <td>41.50460</td>\n      <td>(49.789170, 41.504600)</td>\n    </tr>\n    <tr>\n      <th>45715</th>\n      <td>Zulu Queen</td>\n      <td>30414</td>\n      <td>Valid</td>\n      <td>L3.7</td>\n      <td>200.0</td>\n      <td>Found</td>\n      <td>1976.0</td>\n      <td>33.98333</td>\n      <td>-115.68333</td>\n      <td>(33.983330, -115.683330)</td>\n    </tr>\n  </tbody>\n</table>\n<p>45716 rows × 10 columns</p>\n</div>"
     },
     "metadata": {},
     "execution_count": 2
    }
   ],
   "source": [
    "df_meteorites = pd.read_csv('./pandas/meteorite-landings.csv')\n",
    "df_meteorites\n"
   ]
  },
  {
   "cell_type": "code",
   "execution_count": 3,
   "metadata": {},
   "outputs": [
    {
     "output_type": "execute_result",
     "data": {
      "text/plain": [
       "       name   id nametype     recclass      mass  fall    year    reclat  \\\n",
       "0    Aachen    1    Valid           L5      21.0  Fell  1880.0  50.77500   \n",
       "1    Aarhus    2    Valid           H6     720.0  Fell  1951.0  56.18333   \n",
       "2      Abee    6    Valid          EH4  107000.0  Fell  1952.0  54.21667   \n",
       "3  Acapulco   10    Valid  Acapulcoite    1914.0  Fell  1976.0  16.88333   \n",
       "4   Achiras  370    Valid           L6     780.0  Fell  1902.0 -33.16667   \n",
       "\n",
       "     reclong               GeoLocation  \n",
       "0    6.08333     (50.775000, 6.083330)  \n",
       "1   10.23333    (56.183330, 10.233330)  \n",
       "2 -113.00000  (54.216670, -113.000000)  \n",
       "3  -99.90000   (16.883330, -99.900000)  \n",
       "4  -64.95000  (-33.166670, -64.950000)  "
      ],
      "text/html": "<div>\n<style scoped>\n    .dataframe tbody tr th:only-of-type {\n        vertical-align: middle;\n    }\n\n    .dataframe tbody tr th {\n        vertical-align: top;\n    }\n\n    .dataframe thead th {\n        text-align: right;\n    }\n</style>\n<table border=\"1\" class=\"dataframe\">\n  <thead>\n    <tr style=\"text-align: right;\">\n      <th></th>\n      <th>name</th>\n      <th>id</th>\n      <th>nametype</th>\n      <th>recclass</th>\n      <th>mass</th>\n      <th>fall</th>\n      <th>year</th>\n      <th>reclat</th>\n      <th>reclong</th>\n      <th>GeoLocation</th>\n    </tr>\n  </thead>\n  <tbody>\n    <tr>\n      <th>0</th>\n      <td>Aachen</td>\n      <td>1</td>\n      <td>Valid</td>\n      <td>L5</td>\n      <td>21.0</td>\n      <td>Fell</td>\n      <td>1880.0</td>\n      <td>50.77500</td>\n      <td>6.08333</td>\n      <td>(50.775000, 6.083330)</td>\n    </tr>\n    <tr>\n      <th>1</th>\n      <td>Aarhus</td>\n      <td>2</td>\n      <td>Valid</td>\n      <td>H6</td>\n      <td>720.0</td>\n      <td>Fell</td>\n      <td>1951.0</td>\n      <td>56.18333</td>\n      <td>10.23333</td>\n      <td>(56.183330, 10.233330)</td>\n    </tr>\n    <tr>\n      <th>2</th>\n      <td>Abee</td>\n      <td>6</td>\n      <td>Valid</td>\n      <td>EH4</td>\n      <td>107000.0</td>\n      <td>Fell</td>\n      <td>1952.0</td>\n      <td>54.21667</td>\n      <td>-113.00000</td>\n      <td>(54.216670, -113.000000)</td>\n    </tr>\n    <tr>\n      <th>3</th>\n      <td>Acapulco</td>\n      <td>10</td>\n      <td>Valid</td>\n      <td>Acapulcoite</td>\n      <td>1914.0</td>\n      <td>Fell</td>\n      <td>1976.0</td>\n      <td>16.88333</td>\n      <td>-99.90000</td>\n      <td>(16.883330, -99.900000)</td>\n    </tr>\n    <tr>\n      <th>4</th>\n      <td>Achiras</td>\n      <td>370</td>\n      <td>Valid</td>\n      <td>L6</td>\n      <td>780.0</td>\n      <td>Fell</td>\n      <td>1902.0</td>\n      <td>-33.16667</td>\n      <td>-64.95000</td>\n      <td>(-33.166670, -64.950000)</td>\n    </tr>\n  </tbody>\n</table>\n</div>"
     },
     "metadata": {},
     "execution_count": 3
    }
   ],
   "source": [
    "df_meteorites.head() # Muestra los primeros 5 datos "
   ]
  },
  {
   "cell_type": "code",
   "execution_count": 4,
   "metadata": {},
   "outputs": [
    {
     "output_type": "execute_result",
     "data": {
      "text/plain": [
       "                   name   id nametype      recclass      mass  fall    year  \\\n",
       "0                Aachen    1    Valid            L5      21.0  Fell  1880.0   \n",
       "1                Aarhus    2    Valid            H6     720.0  Fell  1951.0   \n",
       "2                  Abee    6    Valid           EH4  107000.0  Fell  1952.0   \n",
       "3              Acapulco   10    Valid   Acapulcoite    1914.0  Fell  1976.0   \n",
       "4               Achiras  370    Valid            L6     780.0  Fell  1902.0   \n",
       "5              Adhi Kot  379    Valid           EH4    4239.0  Fell  1919.0   \n",
       "6   Adzhi-Bogdo (stone)  390    Valid         LL3-6     910.0  Fell  1949.0   \n",
       "7                  Agen  392    Valid            H5   30000.0  Fell  1814.0   \n",
       "8                Aguada  398    Valid            L6    1620.0  Fell  1930.0   \n",
       "9         Aguila Blanca  417    Valid             L    1440.0  Fell  1920.0   \n",
       "10     Aioun el Atrouss  423    Valid  Diogenite-pm    1000.0  Fell  1974.0   \n",
       "11                  Aïr  424    Valid            L6   24000.0  Fell  1925.0   \n",
       "12      Aire-sur-la-Lys  425    Valid       Unknown       NaN  Fell  1769.0   \n",
       "13                Akaba  426    Valid            L6     779.0  Fell  1949.0   \n",
       "14             Akbarpur  427    Valid            H4    1800.0  Fell  1838.0   \n",
       "\n",
       "      reclat    reclong               GeoLocation  \n",
       "0   50.77500    6.08333     (50.775000, 6.083330)  \n",
       "1   56.18333   10.23333    (56.183330, 10.233330)  \n",
       "2   54.21667 -113.00000  (54.216670, -113.000000)  \n",
       "3   16.88333  -99.90000   (16.883330, -99.900000)  \n",
       "4  -33.16667  -64.95000  (-33.166670, -64.950000)  \n",
       "5   32.10000   71.80000    (32.100000, 71.800000)  \n",
       "6   44.83333   95.16667    (44.833330, 95.166670)  \n",
       "7   44.21667    0.61667     (44.216670, 0.616670)  \n",
       "8  -31.60000  -65.23333  (-31.600000, -65.233330)  \n",
       "9  -30.86667  -64.55000  (-30.866670, -64.550000)  \n",
       "10  16.39806   -9.57028    (16.398060, -9.570280)  \n",
       "11  19.08333    8.38333     (19.083330, 8.383330)  \n",
       "12  50.66667    2.33333     (50.666670, 2.333330)  \n",
       "13  29.51667   35.05000    (29.516670, 35.050000)  \n",
       "14  29.71667   77.95000    (29.716670, 77.950000)  "
      ],
      "text/html": "<div>\n<style scoped>\n    .dataframe tbody tr th:only-of-type {\n        vertical-align: middle;\n    }\n\n    .dataframe tbody tr th {\n        vertical-align: top;\n    }\n\n    .dataframe thead th {\n        text-align: right;\n    }\n</style>\n<table border=\"1\" class=\"dataframe\">\n  <thead>\n    <tr style=\"text-align: right;\">\n      <th></th>\n      <th>name</th>\n      <th>id</th>\n      <th>nametype</th>\n      <th>recclass</th>\n      <th>mass</th>\n      <th>fall</th>\n      <th>year</th>\n      <th>reclat</th>\n      <th>reclong</th>\n      <th>GeoLocation</th>\n    </tr>\n  </thead>\n  <tbody>\n    <tr>\n      <th>0</th>\n      <td>Aachen</td>\n      <td>1</td>\n      <td>Valid</td>\n      <td>L5</td>\n      <td>21.0</td>\n      <td>Fell</td>\n      <td>1880.0</td>\n      <td>50.77500</td>\n      <td>6.08333</td>\n      <td>(50.775000, 6.083330)</td>\n    </tr>\n    <tr>\n      <th>1</th>\n      <td>Aarhus</td>\n      <td>2</td>\n      <td>Valid</td>\n      <td>H6</td>\n      <td>720.0</td>\n      <td>Fell</td>\n      <td>1951.0</td>\n      <td>56.18333</td>\n      <td>10.23333</td>\n      <td>(56.183330, 10.233330)</td>\n    </tr>\n    <tr>\n      <th>2</th>\n      <td>Abee</td>\n      <td>6</td>\n      <td>Valid</td>\n      <td>EH4</td>\n      <td>107000.0</td>\n      <td>Fell</td>\n      <td>1952.0</td>\n      <td>54.21667</td>\n      <td>-113.00000</td>\n      <td>(54.216670, -113.000000)</td>\n    </tr>\n    <tr>\n      <th>3</th>\n      <td>Acapulco</td>\n      <td>10</td>\n      <td>Valid</td>\n      <td>Acapulcoite</td>\n      <td>1914.0</td>\n      <td>Fell</td>\n      <td>1976.0</td>\n      <td>16.88333</td>\n      <td>-99.90000</td>\n      <td>(16.883330, -99.900000)</td>\n    </tr>\n    <tr>\n      <th>4</th>\n      <td>Achiras</td>\n      <td>370</td>\n      <td>Valid</td>\n      <td>L6</td>\n      <td>780.0</td>\n      <td>Fell</td>\n      <td>1902.0</td>\n      <td>-33.16667</td>\n      <td>-64.95000</td>\n      <td>(-33.166670, -64.950000)</td>\n    </tr>\n    <tr>\n      <th>5</th>\n      <td>Adhi Kot</td>\n      <td>379</td>\n      <td>Valid</td>\n      <td>EH4</td>\n      <td>4239.0</td>\n      <td>Fell</td>\n      <td>1919.0</td>\n      <td>32.10000</td>\n      <td>71.80000</td>\n      <td>(32.100000, 71.800000)</td>\n    </tr>\n    <tr>\n      <th>6</th>\n      <td>Adzhi-Bogdo (stone)</td>\n      <td>390</td>\n      <td>Valid</td>\n      <td>LL3-6</td>\n      <td>910.0</td>\n      <td>Fell</td>\n      <td>1949.0</td>\n      <td>44.83333</td>\n      <td>95.16667</td>\n      <td>(44.833330, 95.166670)</td>\n    </tr>\n    <tr>\n      <th>7</th>\n      <td>Agen</td>\n      <td>392</td>\n      <td>Valid</td>\n      <td>H5</td>\n      <td>30000.0</td>\n      <td>Fell</td>\n      <td>1814.0</td>\n      <td>44.21667</td>\n      <td>0.61667</td>\n      <td>(44.216670, 0.616670)</td>\n    </tr>\n    <tr>\n      <th>8</th>\n      <td>Aguada</td>\n      <td>398</td>\n      <td>Valid</td>\n      <td>L6</td>\n      <td>1620.0</td>\n      <td>Fell</td>\n      <td>1930.0</td>\n      <td>-31.60000</td>\n      <td>-65.23333</td>\n      <td>(-31.600000, -65.233330)</td>\n    </tr>\n    <tr>\n      <th>9</th>\n      <td>Aguila Blanca</td>\n      <td>417</td>\n      <td>Valid</td>\n      <td>L</td>\n      <td>1440.0</td>\n      <td>Fell</td>\n      <td>1920.0</td>\n      <td>-30.86667</td>\n      <td>-64.55000</td>\n      <td>(-30.866670, -64.550000)</td>\n    </tr>\n    <tr>\n      <th>10</th>\n      <td>Aioun el Atrouss</td>\n      <td>423</td>\n      <td>Valid</td>\n      <td>Diogenite-pm</td>\n      <td>1000.0</td>\n      <td>Fell</td>\n      <td>1974.0</td>\n      <td>16.39806</td>\n      <td>-9.57028</td>\n      <td>(16.398060, -9.570280)</td>\n    </tr>\n    <tr>\n      <th>11</th>\n      <td>Aïr</td>\n      <td>424</td>\n      <td>Valid</td>\n      <td>L6</td>\n      <td>24000.0</td>\n      <td>Fell</td>\n      <td>1925.0</td>\n      <td>19.08333</td>\n      <td>8.38333</td>\n      <td>(19.083330, 8.383330)</td>\n    </tr>\n    <tr>\n      <th>12</th>\n      <td>Aire-sur-la-Lys</td>\n      <td>425</td>\n      <td>Valid</td>\n      <td>Unknown</td>\n      <td>NaN</td>\n      <td>Fell</td>\n      <td>1769.0</td>\n      <td>50.66667</td>\n      <td>2.33333</td>\n      <td>(50.666670, 2.333330)</td>\n    </tr>\n    <tr>\n      <th>13</th>\n      <td>Akaba</td>\n      <td>426</td>\n      <td>Valid</td>\n      <td>L6</td>\n      <td>779.0</td>\n      <td>Fell</td>\n      <td>1949.0</td>\n      <td>29.51667</td>\n      <td>35.05000</td>\n      <td>(29.516670, 35.050000)</td>\n    </tr>\n    <tr>\n      <th>14</th>\n      <td>Akbarpur</td>\n      <td>427</td>\n      <td>Valid</td>\n      <td>H4</td>\n      <td>1800.0</td>\n      <td>Fell</td>\n      <td>1838.0</td>\n      <td>29.71667</td>\n      <td>77.95000</td>\n      <td>(29.716670, 77.950000)</td>\n    </tr>\n  </tbody>\n</table>\n</div>"
     },
     "metadata": {},
     "execution_count": 4
    }
   ],
   "source": [
    "df_meteorites.head(15) # Si quiero ver n numeros de datos hay que colocarlo dentro del parentesis en este caso los primeros 15"
   ]
  },
  {
   "cell_type": "code",
   "execution_count": 5,
   "metadata": {},
   "outputs": [
    {
     "output_type": "execute_result",
     "data": {
      "text/plain": [
       "             name     id nametype              recclass    mass   fall  \\\n",
       "45711  Zillah 002  31356    Valid               Eucrite   172.0  Found   \n",
       "45712      Zinder  30409    Valid  Pallasite, ungrouped    46.0  Found   \n",
       "45713        Zlin  30410    Valid                    H4     3.3  Found   \n",
       "45714   Zubkovsky  31357    Valid                    L6  2167.0  Found   \n",
       "45715  Zulu Queen  30414    Valid                  L3.7   200.0  Found   \n",
       "\n",
       "         year    reclat    reclong               GeoLocation  \n",
       "45711  1990.0  29.03700   17.01850    (29.037000, 17.018500)  \n",
       "45712  1999.0  13.78333    8.96667     (13.783330, 8.966670)  \n",
       "45713  1939.0  49.25000   17.66667    (49.250000, 17.666670)  \n",
       "45714  2003.0  49.78917   41.50460    (49.789170, 41.504600)  \n",
       "45715  1976.0  33.98333 -115.68333  (33.983330, -115.683330)  "
      ],
      "text/html": "<div>\n<style scoped>\n    .dataframe tbody tr th:only-of-type {\n        vertical-align: middle;\n    }\n\n    .dataframe tbody tr th {\n        vertical-align: top;\n    }\n\n    .dataframe thead th {\n        text-align: right;\n    }\n</style>\n<table border=\"1\" class=\"dataframe\">\n  <thead>\n    <tr style=\"text-align: right;\">\n      <th></th>\n      <th>name</th>\n      <th>id</th>\n      <th>nametype</th>\n      <th>recclass</th>\n      <th>mass</th>\n      <th>fall</th>\n      <th>year</th>\n      <th>reclat</th>\n      <th>reclong</th>\n      <th>GeoLocation</th>\n    </tr>\n  </thead>\n  <tbody>\n    <tr>\n      <th>45711</th>\n      <td>Zillah 002</td>\n      <td>31356</td>\n      <td>Valid</td>\n      <td>Eucrite</td>\n      <td>172.0</td>\n      <td>Found</td>\n      <td>1990.0</td>\n      <td>29.03700</td>\n      <td>17.01850</td>\n      <td>(29.037000, 17.018500)</td>\n    </tr>\n    <tr>\n      <th>45712</th>\n      <td>Zinder</td>\n      <td>30409</td>\n      <td>Valid</td>\n      <td>Pallasite, ungrouped</td>\n      <td>46.0</td>\n      <td>Found</td>\n      <td>1999.0</td>\n      <td>13.78333</td>\n      <td>8.96667</td>\n      <td>(13.783330, 8.966670)</td>\n    </tr>\n    <tr>\n      <th>45713</th>\n      <td>Zlin</td>\n      <td>30410</td>\n      <td>Valid</td>\n      <td>H4</td>\n      <td>3.3</td>\n      <td>Found</td>\n      <td>1939.0</td>\n      <td>49.25000</td>\n      <td>17.66667</td>\n      <td>(49.250000, 17.666670)</td>\n    </tr>\n    <tr>\n      <th>45714</th>\n      <td>Zubkovsky</td>\n      <td>31357</td>\n      <td>Valid</td>\n      <td>L6</td>\n      <td>2167.0</td>\n      <td>Found</td>\n      <td>2003.0</td>\n      <td>49.78917</td>\n      <td>41.50460</td>\n      <td>(49.789170, 41.504600)</td>\n    </tr>\n    <tr>\n      <th>45715</th>\n      <td>Zulu Queen</td>\n      <td>30414</td>\n      <td>Valid</td>\n      <td>L3.7</td>\n      <td>200.0</td>\n      <td>Found</td>\n      <td>1976.0</td>\n      <td>33.98333</td>\n      <td>-115.68333</td>\n      <td>(33.983330, -115.683330)</td>\n    </tr>\n  </tbody>\n</table>\n</div>"
     },
     "metadata": {},
     "execution_count": 5
    }
   ],
   "source": [
    "df_meteorites.tail() # Muestra los ultimos 5 datos"
   ]
  },
  {
   "cell_type": "code",
   "execution_count": 6,
   "metadata": {},
   "outputs": [
    {
     "output_type": "execute_result",
     "data": {
      "text/plain": [
       "             name     id nametype              recclass       mass   fall  \\\n",
       "45701      Zegdou  30398    Valid                    H3     6700.0  Found   \n",
       "45702     Zelfana  31353    Valid                    L5     1058.0  Found   \n",
       "45703       Zenda  30400    Valid     Iron, IAB complex     3700.0  Found   \n",
       "45704       Zerga  30402    Valid                   LL6       76.0  Found   \n",
       "45705    Zerhamra  30403    Valid        Iron, IIIAB-an   630000.0  Found   \n",
       "45706     Zerkaly  31354    Valid                    H5    16000.0  Found   \n",
       "45707    Zhaoping  54609    Valid     Iron, IAB complex  2000000.0  Found   \n",
       "45708    Zhigansk  30405    Valid           Iron, IIIAB   900000.0  Found   \n",
       "45709  Zhongxiang  30406    Valid                  Iron   100000.0  Found   \n",
       "45710  Zillah 001  31355    Valid                    L6     1475.0  Found   \n",
       "45711  Zillah 002  31356    Valid               Eucrite      172.0  Found   \n",
       "45712      Zinder  30409    Valid  Pallasite, ungrouped       46.0  Found   \n",
       "45713        Zlin  30410    Valid                    H4        3.3  Found   \n",
       "45714   Zubkovsky  31357    Valid                    L6     2167.0  Found   \n",
       "45715  Zulu Queen  30414    Valid                  L3.7      200.0  Found   \n",
       "\n",
       "         year    reclat    reclong               GeoLocation  \n",
       "45701  1998.0  29.75000   -4.50000    (29.750000, -4.500000)  \n",
       "45702  2002.0  32.15833    4.63333     (32.158330, 4.633330)  \n",
       "45703  1955.0  42.51333  -88.48944   (42.513330, -88.489440)  \n",
       "45704  1973.0  20.25000  -12.68333   (20.250000, -12.683330)  \n",
       "45705  1967.0  29.85861   -2.64500    (29.858610, -2.645000)  \n",
       "45706  1956.0  52.13333   81.96667    (52.133330, 81.966670)  \n",
       "45707  1983.0  24.23333  111.18333   (24.233330, 111.183330)  \n",
       "45708  1966.0  68.00000  128.30000   (68.000000, 128.300000)  \n",
       "45709  1981.0  31.20000  112.50000   (31.200000, 112.500000)  \n",
       "45710  1990.0  29.03700   17.01850    (29.037000, 17.018500)  \n",
       "45711  1990.0  29.03700   17.01850    (29.037000, 17.018500)  \n",
       "45712  1999.0  13.78333    8.96667     (13.783330, 8.966670)  \n",
       "45713  1939.0  49.25000   17.66667    (49.250000, 17.666670)  \n",
       "45714  2003.0  49.78917   41.50460    (49.789170, 41.504600)  \n",
       "45715  1976.0  33.98333 -115.68333  (33.983330, -115.683330)  "
      ],
      "text/html": "<div>\n<style scoped>\n    .dataframe tbody tr th:only-of-type {\n        vertical-align: middle;\n    }\n\n    .dataframe tbody tr th {\n        vertical-align: top;\n    }\n\n    .dataframe thead th {\n        text-align: right;\n    }\n</style>\n<table border=\"1\" class=\"dataframe\">\n  <thead>\n    <tr style=\"text-align: right;\">\n      <th></th>\n      <th>name</th>\n      <th>id</th>\n      <th>nametype</th>\n      <th>recclass</th>\n      <th>mass</th>\n      <th>fall</th>\n      <th>year</th>\n      <th>reclat</th>\n      <th>reclong</th>\n      <th>GeoLocation</th>\n    </tr>\n  </thead>\n  <tbody>\n    <tr>\n      <th>45701</th>\n      <td>Zegdou</td>\n      <td>30398</td>\n      <td>Valid</td>\n      <td>H3</td>\n      <td>6700.0</td>\n      <td>Found</td>\n      <td>1998.0</td>\n      <td>29.75000</td>\n      <td>-4.50000</td>\n      <td>(29.750000, -4.500000)</td>\n    </tr>\n    <tr>\n      <th>45702</th>\n      <td>Zelfana</td>\n      <td>31353</td>\n      <td>Valid</td>\n      <td>L5</td>\n      <td>1058.0</td>\n      <td>Found</td>\n      <td>2002.0</td>\n      <td>32.15833</td>\n      <td>4.63333</td>\n      <td>(32.158330, 4.633330)</td>\n    </tr>\n    <tr>\n      <th>45703</th>\n      <td>Zenda</td>\n      <td>30400</td>\n      <td>Valid</td>\n      <td>Iron, IAB complex</td>\n      <td>3700.0</td>\n      <td>Found</td>\n      <td>1955.0</td>\n      <td>42.51333</td>\n      <td>-88.48944</td>\n      <td>(42.513330, -88.489440)</td>\n    </tr>\n    <tr>\n      <th>45704</th>\n      <td>Zerga</td>\n      <td>30402</td>\n      <td>Valid</td>\n      <td>LL6</td>\n      <td>76.0</td>\n      <td>Found</td>\n      <td>1973.0</td>\n      <td>20.25000</td>\n      <td>-12.68333</td>\n      <td>(20.250000, -12.683330)</td>\n    </tr>\n    <tr>\n      <th>45705</th>\n      <td>Zerhamra</td>\n      <td>30403</td>\n      <td>Valid</td>\n      <td>Iron, IIIAB-an</td>\n      <td>630000.0</td>\n      <td>Found</td>\n      <td>1967.0</td>\n      <td>29.85861</td>\n      <td>-2.64500</td>\n      <td>(29.858610, -2.645000)</td>\n    </tr>\n    <tr>\n      <th>45706</th>\n      <td>Zerkaly</td>\n      <td>31354</td>\n      <td>Valid</td>\n      <td>H5</td>\n      <td>16000.0</td>\n      <td>Found</td>\n      <td>1956.0</td>\n      <td>52.13333</td>\n      <td>81.96667</td>\n      <td>(52.133330, 81.966670)</td>\n    </tr>\n    <tr>\n      <th>45707</th>\n      <td>Zhaoping</td>\n      <td>54609</td>\n      <td>Valid</td>\n      <td>Iron, IAB complex</td>\n      <td>2000000.0</td>\n      <td>Found</td>\n      <td>1983.0</td>\n      <td>24.23333</td>\n      <td>111.18333</td>\n      <td>(24.233330, 111.183330)</td>\n    </tr>\n    <tr>\n      <th>45708</th>\n      <td>Zhigansk</td>\n      <td>30405</td>\n      <td>Valid</td>\n      <td>Iron, IIIAB</td>\n      <td>900000.0</td>\n      <td>Found</td>\n      <td>1966.0</td>\n      <td>68.00000</td>\n      <td>128.30000</td>\n      <td>(68.000000, 128.300000)</td>\n    </tr>\n    <tr>\n      <th>45709</th>\n      <td>Zhongxiang</td>\n      <td>30406</td>\n      <td>Valid</td>\n      <td>Iron</td>\n      <td>100000.0</td>\n      <td>Found</td>\n      <td>1981.0</td>\n      <td>31.20000</td>\n      <td>112.50000</td>\n      <td>(31.200000, 112.500000)</td>\n    </tr>\n    <tr>\n      <th>45710</th>\n      <td>Zillah 001</td>\n      <td>31355</td>\n      <td>Valid</td>\n      <td>L6</td>\n      <td>1475.0</td>\n      <td>Found</td>\n      <td>1990.0</td>\n      <td>29.03700</td>\n      <td>17.01850</td>\n      <td>(29.037000, 17.018500)</td>\n    </tr>\n    <tr>\n      <th>45711</th>\n      <td>Zillah 002</td>\n      <td>31356</td>\n      <td>Valid</td>\n      <td>Eucrite</td>\n      <td>172.0</td>\n      <td>Found</td>\n      <td>1990.0</td>\n      <td>29.03700</td>\n      <td>17.01850</td>\n      <td>(29.037000, 17.018500)</td>\n    </tr>\n    <tr>\n      <th>45712</th>\n      <td>Zinder</td>\n      <td>30409</td>\n      <td>Valid</td>\n      <td>Pallasite, ungrouped</td>\n      <td>46.0</td>\n      <td>Found</td>\n      <td>1999.0</td>\n      <td>13.78333</td>\n      <td>8.96667</td>\n      <td>(13.783330, 8.966670)</td>\n    </tr>\n    <tr>\n      <th>45713</th>\n      <td>Zlin</td>\n      <td>30410</td>\n      <td>Valid</td>\n      <td>H4</td>\n      <td>3.3</td>\n      <td>Found</td>\n      <td>1939.0</td>\n      <td>49.25000</td>\n      <td>17.66667</td>\n      <td>(49.250000, 17.666670)</td>\n    </tr>\n    <tr>\n      <th>45714</th>\n      <td>Zubkovsky</td>\n      <td>31357</td>\n      <td>Valid</td>\n      <td>L6</td>\n      <td>2167.0</td>\n      <td>Found</td>\n      <td>2003.0</td>\n      <td>49.78917</td>\n      <td>41.50460</td>\n      <td>(49.789170, 41.504600)</td>\n    </tr>\n    <tr>\n      <th>45715</th>\n      <td>Zulu Queen</td>\n      <td>30414</td>\n      <td>Valid</td>\n      <td>L3.7</td>\n      <td>200.0</td>\n      <td>Found</td>\n      <td>1976.0</td>\n      <td>33.98333</td>\n      <td>-115.68333</td>\n      <td>(33.983330, -115.683330)</td>\n    </tr>\n  </tbody>\n</table>\n</div>"
     },
     "metadata": {},
     "execution_count": 6
    }
   ],
   "source": [
    "df_meteorites.tail(15) # Si quiero ver n numeros de datos hay que colocarlo dentro del parentesis en este caso los ultimos 15"
   ]
  },
  {
   "cell_type": "code",
   "execution_count": 7,
   "metadata": {},
   "outputs": [
    {
     "output_type": "execute_result",
     "data": {
      "text/plain": [
       "                      name     id nametype recclass  mass   fall    year  \\\n",
       "25413  Miller Range 090339  53450    Valid       L5   6.5  Found  2009.0   \n",
       "\n",
       "       reclat  reclong           GeoLocation  \n",
       "25413     0.0      0.0  (0.000000, 0.000000)  "
      ],
      "text/html": "<div>\n<style scoped>\n    .dataframe tbody tr th:only-of-type {\n        vertical-align: middle;\n    }\n\n    .dataframe tbody tr th {\n        vertical-align: top;\n    }\n\n    .dataframe thead th {\n        text-align: right;\n    }\n</style>\n<table border=\"1\" class=\"dataframe\">\n  <thead>\n    <tr style=\"text-align: right;\">\n      <th></th>\n      <th>name</th>\n      <th>id</th>\n      <th>nametype</th>\n      <th>recclass</th>\n      <th>mass</th>\n      <th>fall</th>\n      <th>year</th>\n      <th>reclat</th>\n      <th>reclong</th>\n      <th>GeoLocation</th>\n    </tr>\n  </thead>\n  <tbody>\n    <tr>\n      <th>25413</th>\n      <td>Miller Range 090339</td>\n      <td>53450</td>\n      <td>Valid</td>\n      <td>L5</td>\n      <td>6.5</td>\n      <td>Found</td>\n      <td>2009.0</td>\n      <td>0.0</td>\n      <td>0.0</td>\n      <td>(0.000000, 0.000000)</td>\n    </tr>\n  </tbody>\n</table>\n</div>"
     },
     "metadata": {},
     "execution_count": 7
    }
   ],
   "source": [
    "df_meteorites.sample() # Toma un dato aleatorio"
   ]
  },
  {
   "cell_type": "code",
   "execution_count": 8,
   "metadata": {},
   "outputs": [
    {
     "output_type": "execute_result",
     "data": {
      "text/plain": [
       "                          name     id nametype recclass    mass   fall  \\\n",
       "12934    Graves Nunataks 98130  11121    Valid       L4   45.10  Found   \n",
       "37817           Tanezrouft 019  23820    Valid       H5   32.00  Found   \n",
       "31822  Pecora Escarpment 91342  18633    Valid       H5   13.00  Found   \n",
       "7833                Dhofar 473   7234    Valid       L6  145.00  Found   \n",
       "44438            Yamato 982135  38757    Valid       H4    4.01  Found   \n",
       "40799            Yamato 791610  26959    Valid       H5   22.61  Found   \n",
       "40665            Yamato 791468  26817    Valid       H5   11.29  Found   \n",
       "18826     LaPaz Icefield 04698  45246    Valid       L5    5.40  Found   \n",
       "27343    Northwest Africa 2282  30941    Valid       L6  155.00  Found   \n",
       "31722  Pecora Escarpment 91242  18533    Valid       H5   21.90  Found   \n",
       "\n",
       "         year    reclat    reclong                GeoLocation  \n",
       "12934  1998.0 -86.71667 -141.50000  (-86.716670, -141.500000)  \n",
       "37817  1991.0  24.74611    0.19889      (24.746110, 0.198890)  \n",
       "31822  1991.0 -85.67691  -69.06912   (-85.676910, -69.069120)  \n",
       "7833   2001.0  19.17597   54.76417     (19.175970, 54.764170)  \n",
       "44438  1998.0   0.00000    0.00000       (0.000000, 0.000000)  \n",
       "40799  1979.0 -71.50000   35.66667    (-71.500000, 35.666670)  \n",
       "40665  1979.0 -71.50000   35.66667    (-71.500000, 35.666670)  \n",
       "18826  2004.0       NaN        NaN                        NaN  \n",
       "27343  2003.0       NaN        NaN                        NaN  \n",
       "31722  1991.0 -85.57651  -68.52910   (-85.576510, -68.529100)  "
      ],
      "text/html": "<div>\n<style scoped>\n    .dataframe tbody tr th:only-of-type {\n        vertical-align: middle;\n    }\n\n    .dataframe tbody tr th {\n        vertical-align: top;\n    }\n\n    .dataframe thead th {\n        text-align: right;\n    }\n</style>\n<table border=\"1\" class=\"dataframe\">\n  <thead>\n    <tr style=\"text-align: right;\">\n      <th></th>\n      <th>name</th>\n      <th>id</th>\n      <th>nametype</th>\n      <th>recclass</th>\n      <th>mass</th>\n      <th>fall</th>\n      <th>year</th>\n      <th>reclat</th>\n      <th>reclong</th>\n      <th>GeoLocation</th>\n    </tr>\n  </thead>\n  <tbody>\n    <tr>\n      <th>12934</th>\n      <td>Graves Nunataks 98130</td>\n      <td>11121</td>\n      <td>Valid</td>\n      <td>L4</td>\n      <td>45.10</td>\n      <td>Found</td>\n      <td>1998.0</td>\n      <td>-86.71667</td>\n      <td>-141.50000</td>\n      <td>(-86.716670, -141.500000)</td>\n    </tr>\n    <tr>\n      <th>37817</th>\n      <td>Tanezrouft 019</td>\n      <td>23820</td>\n      <td>Valid</td>\n      <td>H5</td>\n      <td>32.00</td>\n      <td>Found</td>\n      <td>1991.0</td>\n      <td>24.74611</td>\n      <td>0.19889</td>\n      <td>(24.746110, 0.198890)</td>\n    </tr>\n    <tr>\n      <th>31822</th>\n      <td>Pecora Escarpment 91342</td>\n      <td>18633</td>\n      <td>Valid</td>\n      <td>H5</td>\n      <td>13.00</td>\n      <td>Found</td>\n      <td>1991.0</td>\n      <td>-85.67691</td>\n      <td>-69.06912</td>\n      <td>(-85.676910, -69.069120)</td>\n    </tr>\n    <tr>\n      <th>7833</th>\n      <td>Dhofar 473</td>\n      <td>7234</td>\n      <td>Valid</td>\n      <td>L6</td>\n      <td>145.00</td>\n      <td>Found</td>\n      <td>2001.0</td>\n      <td>19.17597</td>\n      <td>54.76417</td>\n      <td>(19.175970, 54.764170)</td>\n    </tr>\n    <tr>\n      <th>44438</th>\n      <td>Yamato 982135</td>\n      <td>38757</td>\n      <td>Valid</td>\n      <td>H4</td>\n      <td>4.01</td>\n      <td>Found</td>\n      <td>1998.0</td>\n      <td>0.00000</td>\n      <td>0.00000</td>\n      <td>(0.000000, 0.000000)</td>\n    </tr>\n    <tr>\n      <th>40799</th>\n      <td>Yamato 791610</td>\n      <td>26959</td>\n      <td>Valid</td>\n      <td>H5</td>\n      <td>22.61</td>\n      <td>Found</td>\n      <td>1979.0</td>\n      <td>-71.50000</td>\n      <td>35.66667</td>\n      <td>(-71.500000, 35.666670)</td>\n    </tr>\n    <tr>\n      <th>40665</th>\n      <td>Yamato 791468</td>\n      <td>26817</td>\n      <td>Valid</td>\n      <td>H5</td>\n      <td>11.29</td>\n      <td>Found</td>\n      <td>1979.0</td>\n      <td>-71.50000</td>\n      <td>35.66667</td>\n      <td>(-71.500000, 35.666670)</td>\n    </tr>\n    <tr>\n      <th>18826</th>\n      <td>LaPaz Icefield 04698</td>\n      <td>45246</td>\n      <td>Valid</td>\n      <td>L5</td>\n      <td>5.40</td>\n      <td>Found</td>\n      <td>2004.0</td>\n      <td>NaN</td>\n      <td>NaN</td>\n      <td>NaN</td>\n    </tr>\n    <tr>\n      <th>27343</th>\n      <td>Northwest Africa 2282</td>\n      <td>30941</td>\n      <td>Valid</td>\n      <td>L6</td>\n      <td>155.00</td>\n      <td>Found</td>\n      <td>2003.0</td>\n      <td>NaN</td>\n      <td>NaN</td>\n      <td>NaN</td>\n    </tr>\n    <tr>\n      <th>31722</th>\n      <td>Pecora Escarpment 91242</td>\n      <td>18533</td>\n      <td>Valid</td>\n      <td>H5</td>\n      <td>21.90</td>\n      <td>Found</td>\n      <td>1991.0</td>\n      <td>-85.57651</td>\n      <td>-68.52910</td>\n      <td>(-85.576510, -68.529100)</td>\n    </tr>\n  </tbody>\n</table>\n</div>"
     },
     "metadata": {},
     "execution_count": 8
    }
   ],
   "source": [
    "df_meteorites.sample(10) # Toma datos aleatorios segun el numero que se coloca dentro del parentesis en este caso 10"
   ]
  },
  {
   "cell_type": "code",
   "execution_count": 9,
   "metadata": {},
   "outputs": [
    {
     "output_type": "execute_result",
     "data": {
      "text/plain": [
       "(45716, 10)"
      ]
     },
     "metadata": {},
     "execution_count": 9
    }
   ],
   "source": [
    "df_meteorites.shape # Devueleve el numero de fila y columnas respectivamente"
   ]
  },
  {
   "cell_type": "code",
   "execution_count": 10,
   "metadata": {},
   "outputs": [
    {
     "output_type": "execute_result",
     "data": {
      "text/plain": [
       "457160"
      ]
     },
     "metadata": {},
     "execution_count": 10
    }
   ],
   "source": [
    "df_meteorites.size # Devuelve la cantida de los datos totales que hay en la base"
   ]
  },
  {
   "cell_type": "code",
   "execution_count": 11,
   "metadata": {},
   "outputs": [
    {
     "output_type": "execute_result",
     "data": {
      "text/plain": [
       "                 id          mass          year        reclat       reclong\n",
       "count  45716.000000  4.558500e+04  45428.000000  38401.000000  38401.000000\n",
       "mean   26889.735104  1.327808e+04   1991.772189    -39.122580     61.074319\n",
       "std    16860.683030  5.749889e+05     27.181247     46.378511     80.647298\n",
       "min        1.000000  0.000000e+00    301.000000    -87.366670   -165.433330\n",
       "25%    12688.750000  7.200000e+00   1987.000000    -76.714240      0.000000\n",
       "50%    24261.500000  3.260000e+01   1998.000000    -71.500000     35.666670\n",
       "75%    40656.750000  2.026000e+02   2003.000000      0.000000    157.166670\n",
       "max    57458.000000  6.000000e+07   2501.000000     81.166670    354.473330"
      ],
      "text/html": "<div>\n<style scoped>\n    .dataframe tbody tr th:only-of-type {\n        vertical-align: middle;\n    }\n\n    .dataframe tbody tr th {\n        vertical-align: top;\n    }\n\n    .dataframe thead th {\n        text-align: right;\n    }\n</style>\n<table border=\"1\" class=\"dataframe\">\n  <thead>\n    <tr style=\"text-align: right;\">\n      <th></th>\n      <th>id</th>\n      <th>mass</th>\n      <th>year</th>\n      <th>reclat</th>\n      <th>reclong</th>\n    </tr>\n  </thead>\n  <tbody>\n    <tr>\n      <th>count</th>\n      <td>45716.000000</td>\n      <td>4.558500e+04</td>\n      <td>45428.000000</td>\n      <td>38401.000000</td>\n      <td>38401.000000</td>\n    </tr>\n    <tr>\n      <th>mean</th>\n      <td>26889.735104</td>\n      <td>1.327808e+04</td>\n      <td>1991.772189</td>\n      <td>-39.122580</td>\n      <td>61.074319</td>\n    </tr>\n    <tr>\n      <th>std</th>\n      <td>16860.683030</td>\n      <td>5.749889e+05</td>\n      <td>27.181247</td>\n      <td>46.378511</td>\n      <td>80.647298</td>\n    </tr>\n    <tr>\n      <th>min</th>\n      <td>1.000000</td>\n      <td>0.000000e+00</td>\n      <td>301.000000</td>\n      <td>-87.366670</td>\n      <td>-165.433330</td>\n    </tr>\n    <tr>\n      <th>25%</th>\n      <td>12688.750000</td>\n      <td>7.200000e+00</td>\n      <td>1987.000000</td>\n      <td>-76.714240</td>\n      <td>0.000000</td>\n    </tr>\n    <tr>\n      <th>50%</th>\n      <td>24261.500000</td>\n      <td>3.260000e+01</td>\n      <td>1998.000000</td>\n      <td>-71.500000</td>\n      <td>35.666670</td>\n    </tr>\n    <tr>\n      <th>75%</th>\n      <td>40656.750000</td>\n      <td>2.026000e+02</td>\n      <td>2003.000000</td>\n      <td>0.000000</td>\n      <td>157.166670</td>\n    </tr>\n    <tr>\n      <th>max</th>\n      <td>57458.000000</td>\n      <td>6.000000e+07</td>\n      <td>2501.000000</td>\n      <td>81.166670</td>\n      <td>354.473330</td>\n    </tr>\n  </tbody>\n</table>\n</div>"
     },
     "metadata": {},
     "execution_count": 11
    }
   ],
   "source": [
    "df_meteorites.describe() # estadistica de los datos"
   ]
  },
  {
   "cell_type": "code",
   "execution_count": 12,
   "metadata": {},
   "outputs": [],
   "source": [
    "pd.options.display.float_format='{:.1f}'.format # Este quita las notaciones cientificas y lo que esta entre {} es donde se colocan los decimales deseables "
   ]
  },
  {
   "cell_type": "code",
   "execution_count": 13,
   "metadata": {},
   "outputs": [
    {
     "output_type": "execute_result",
     "data": {
      "text/plain": [
       "                       name      id nametype recclass       mass   fall  \\\n",
       "count                 45716 45716.0    45716    45716    45585.0  45716   \n",
       "unique                45716     NaN        2      466        NaN      2   \n",
       "top     Coyote Dry Lake 002     NaN    Valid       L6        NaN  Found   \n",
       "freq                      1     NaN    45641     8285        NaN  44609   \n",
       "mean                    NaN 26889.7      NaN      NaN    13278.1    NaN   \n",
       "std                     NaN 16860.7      NaN      NaN   574988.9    NaN   \n",
       "min                     NaN     1.0      NaN      NaN        0.0    NaN   \n",
       "25%                     NaN 12688.8      NaN      NaN        7.2    NaN   \n",
       "50%                     NaN 24261.5      NaN      NaN       32.6    NaN   \n",
       "75%                     NaN 40656.8      NaN      NaN      202.6    NaN   \n",
       "max                     NaN 57458.0      NaN      NaN 60000000.0    NaN   \n",
       "\n",
       "          year  reclat  reclong           GeoLocation  \n",
       "count  45428.0 38401.0  38401.0                 38401  \n",
       "unique     NaN     NaN      NaN                 17100  \n",
       "top        NaN     NaN      NaN  (0.000000, 0.000000)  \n",
       "freq       NaN     NaN      NaN                  6214  \n",
       "mean    1991.8   -39.1     61.1                   NaN  \n",
       "std       27.2    46.4     80.6                   NaN  \n",
       "min      301.0   -87.4   -165.4                   NaN  \n",
       "25%     1987.0   -76.7      0.0                   NaN  \n",
       "50%     1998.0   -71.5     35.7                   NaN  \n",
       "75%     2003.0     0.0    157.2                   NaN  \n",
       "max     2501.0    81.2    354.5                   NaN  "
      ],
      "text/html": "<div>\n<style scoped>\n    .dataframe tbody tr th:only-of-type {\n        vertical-align: middle;\n    }\n\n    .dataframe tbody tr th {\n        vertical-align: top;\n    }\n\n    .dataframe thead th {\n        text-align: right;\n    }\n</style>\n<table border=\"1\" class=\"dataframe\">\n  <thead>\n    <tr style=\"text-align: right;\">\n      <th></th>\n      <th>name</th>\n      <th>id</th>\n      <th>nametype</th>\n      <th>recclass</th>\n      <th>mass</th>\n      <th>fall</th>\n      <th>year</th>\n      <th>reclat</th>\n      <th>reclong</th>\n      <th>GeoLocation</th>\n    </tr>\n  </thead>\n  <tbody>\n    <tr>\n      <th>count</th>\n      <td>45716</td>\n      <td>45716.0</td>\n      <td>45716</td>\n      <td>45716</td>\n      <td>45585.0</td>\n      <td>45716</td>\n      <td>45428.0</td>\n      <td>38401.0</td>\n      <td>38401.0</td>\n      <td>38401</td>\n    </tr>\n    <tr>\n      <th>unique</th>\n      <td>45716</td>\n      <td>NaN</td>\n      <td>2</td>\n      <td>466</td>\n      <td>NaN</td>\n      <td>2</td>\n      <td>NaN</td>\n      <td>NaN</td>\n      <td>NaN</td>\n      <td>17100</td>\n    </tr>\n    <tr>\n      <th>top</th>\n      <td>Coyote Dry Lake 002</td>\n      <td>NaN</td>\n      <td>Valid</td>\n      <td>L6</td>\n      <td>NaN</td>\n      <td>Found</td>\n      <td>NaN</td>\n      <td>NaN</td>\n      <td>NaN</td>\n      <td>(0.000000, 0.000000)</td>\n    </tr>\n    <tr>\n      <th>freq</th>\n      <td>1</td>\n      <td>NaN</td>\n      <td>45641</td>\n      <td>8285</td>\n      <td>NaN</td>\n      <td>44609</td>\n      <td>NaN</td>\n      <td>NaN</td>\n      <td>NaN</td>\n      <td>6214</td>\n    </tr>\n    <tr>\n      <th>mean</th>\n      <td>NaN</td>\n      <td>26889.7</td>\n      <td>NaN</td>\n      <td>NaN</td>\n      <td>13278.1</td>\n      <td>NaN</td>\n      <td>1991.8</td>\n      <td>-39.1</td>\n      <td>61.1</td>\n      <td>NaN</td>\n    </tr>\n    <tr>\n      <th>std</th>\n      <td>NaN</td>\n      <td>16860.7</td>\n      <td>NaN</td>\n      <td>NaN</td>\n      <td>574988.9</td>\n      <td>NaN</td>\n      <td>27.2</td>\n      <td>46.4</td>\n      <td>80.6</td>\n      <td>NaN</td>\n    </tr>\n    <tr>\n      <th>min</th>\n      <td>NaN</td>\n      <td>1.0</td>\n      <td>NaN</td>\n      <td>NaN</td>\n      <td>0.0</td>\n      <td>NaN</td>\n      <td>301.0</td>\n      <td>-87.4</td>\n      <td>-165.4</td>\n      <td>NaN</td>\n    </tr>\n    <tr>\n      <th>25%</th>\n      <td>NaN</td>\n      <td>12688.8</td>\n      <td>NaN</td>\n      <td>NaN</td>\n      <td>7.2</td>\n      <td>NaN</td>\n      <td>1987.0</td>\n      <td>-76.7</td>\n      <td>0.0</td>\n      <td>NaN</td>\n    </tr>\n    <tr>\n      <th>50%</th>\n      <td>NaN</td>\n      <td>24261.5</td>\n      <td>NaN</td>\n      <td>NaN</td>\n      <td>32.6</td>\n      <td>NaN</td>\n      <td>1998.0</td>\n      <td>-71.5</td>\n      <td>35.7</td>\n      <td>NaN</td>\n    </tr>\n    <tr>\n      <th>75%</th>\n      <td>NaN</td>\n      <td>40656.8</td>\n      <td>NaN</td>\n      <td>NaN</td>\n      <td>202.6</td>\n      <td>NaN</td>\n      <td>2003.0</td>\n      <td>0.0</td>\n      <td>157.2</td>\n      <td>NaN</td>\n    </tr>\n    <tr>\n      <th>max</th>\n      <td>NaN</td>\n      <td>57458.0</td>\n      <td>NaN</td>\n      <td>NaN</td>\n      <td>60000000.0</td>\n      <td>NaN</td>\n      <td>2501.0</td>\n      <td>81.2</td>\n      <td>354.5</td>\n      <td>NaN</td>\n    </tr>\n  </tbody>\n</table>\n</div>"
     },
     "metadata": {},
     "execution_count": 13
    }
   ],
   "source": [
    "df_meteorites.describe(include='all') # Esto es para tener informacion de las variables tipo texto"
   ]
  },
  {
   "cell_type": "code",
   "execution_count": 14,
   "metadata": {},
   "outputs": [
    {
     "output_type": "stream",
     "name": "stdout",
     "text": [
      "<class 'pandas.core.frame.DataFrame'>\nRangeIndex: 45716 entries, 0 to 45715\nData columns (total 10 columns):\n #   Column       Non-Null Count  Dtype  \n---  ------       --------------  -----  \n 0   name         45716 non-null  object \n 1   id           45716 non-null  int64  \n 2   nametype     45716 non-null  object \n 3   recclass     45716 non-null  object \n 4   mass         45585 non-null  float64\n 5   fall         45716 non-null  object \n 6   year         45428 non-null  float64\n 7   reclat       38401 non-null  float64\n 8   reclong      38401 non-null  float64\n 9   GeoLocation  38401 non-null  object \ndtypes: float64(4), int64(1), object(5)\nmemory usage: 3.5+ MB\n"
     ]
    }
   ],
   "source": [
    "df_meteorites.info() # Es para ver de que estan compuesta nuestra informacion"
   ]
  },
  {
   "cell_type": "code",
   "execution_count": 15,
   "metadata": {},
   "outputs": [
    {
     "output_type": "execute_result",
     "data": {
      "text/plain": [
       "name            object\n",
       "id               int64\n",
       "nametype        object\n",
       "recclass        object\n",
       "mass           float64\n",
       "fall            object\n",
       "year           float64\n",
       "reclat         float64\n",
       "reclong        float64\n",
       "GeoLocation     object\n",
       "dtype: object"
      ]
     },
     "metadata": {},
     "execution_count": 15
    }
   ],
   "source": [
    "df_meteorites.dtypes # Tipo de las variables"
   ]
  },
  {
   "cell_type": "code",
   "execution_count": 16,
   "metadata": {},
   "outputs": [
    {
     "output_type": "execute_result",
     "data": {
      "text/plain": [
       "name            string\n",
       "id               Int64\n",
       "nametype        string\n",
       "recclass        string\n",
       "mass           Float64\n",
       "fall            string\n",
       "year             Int64\n",
       "reclat         Float64\n",
       "reclong        Float64\n",
       "GeoLocation     string\n",
       "dtype: object"
      ]
     },
     "metadata": {},
     "execution_count": 16
    }
   ],
   "source": [
    "df_meteorites.convert_dtypes().dtypes # Encontrar y convertir el formato mas indicado"
   ]
  },
  {
   "source": [
    "# Estructuras de dataframes en detalle (10/29)"
   ],
   "cell_type": "markdown",
   "metadata": {}
  },
  {
   "cell_type": "code",
   "execution_count": 17,
   "metadata": {},
   "outputs": [
    {
     "output_type": "execute_result",
     "data": {
      "text/plain": [
       "name           45716\n",
       "id             45716\n",
       "nametype           2\n",
       "recclass         466\n",
       "mass           12576\n",
       "fall               2\n",
       "year             268\n",
       "reclat         12738\n",
       "reclong        14640\n",
       "GeoLocation    17100\n",
       "dtype: int64"
      ]
     },
     "metadata": {},
     "execution_count": 17
    }
   ],
   "source": [
    "df_meteorites.nunique() # Para saber la variedad de los datos que conforma el dataframes"
   ]
  },
  {
   "cell_type": "code",
   "execution_count": 18,
   "metadata": {},
   "outputs": [
    {
     "output_type": "execute_result",
     "data": {
      "text/plain": [
       "        fall nametype\n",
       "0       Fell    Valid\n",
       "1       Fell    Valid\n",
       "2       Fell    Valid\n",
       "3       Fell    Valid\n",
       "4       Fell    Valid\n",
       "...      ...      ...\n",
       "45711  Found    Valid\n",
       "45712  Found    Valid\n",
       "45713  Found    Valid\n",
       "45714  Found    Valid\n",
       "45715  Found    Valid\n",
       "\n",
       "[45716 rows x 2 columns]"
      ],
      "text/html": "<div>\n<style scoped>\n    .dataframe tbody tr th:only-of-type {\n        vertical-align: middle;\n    }\n\n    .dataframe tbody tr th {\n        vertical-align: top;\n    }\n\n    .dataframe thead th {\n        text-align: right;\n    }\n</style>\n<table border=\"1\" class=\"dataframe\">\n  <thead>\n    <tr style=\"text-align: right;\">\n      <th></th>\n      <th>fall</th>\n      <th>nametype</th>\n    </tr>\n  </thead>\n  <tbody>\n    <tr>\n      <th>0</th>\n      <td>Fell</td>\n      <td>Valid</td>\n    </tr>\n    <tr>\n      <th>1</th>\n      <td>Fell</td>\n      <td>Valid</td>\n    </tr>\n    <tr>\n      <th>2</th>\n      <td>Fell</td>\n      <td>Valid</td>\n    </tr>\n    <tr>\n      <th>3</th>\n      <td>Fell</td>\n      <td>Valid</td>\n    </tr>\n    <tr>\n      <th>4</th>\n      <td>Fell</td>\n      <td>Valid</td>\n    </tr>\n    <tr>\n      <th>...</th>\n      <td>...</td>\n      <td>...</td>\n    </tr>\n    <tr>\n      <th>45711</th>\n      <td>Found</td>\n      <td>Valid</td>\n    </tr>\n    <tr>\n      <th>45712</th>\n      <td>Found</td>\n      <td>Valid</td>\n    </tr>\n    <tr>\n      <th>45713</th>\n      <td>Found</td>\n      <td>Valid</td>\n    </tr>\n    <tr>\n      <th>45714</th>\n      <td>Found</td>\n      <td>Valid</td>\n    </tr>\n    <tr>\n      <th>45715</th>\n      <td>Found</td>\n      <td>Valid</td>\n    </tr>\n  </tbody>\n</table>\n<p>45716 rows × 2 columns</p>\n</div>"
     },
     "metadata": {},
     "execution_count": 18
    }
   ],
   "source": [
    "df_meteorites[['fall','nametype']] # verificar que tiene "
   ]
  },
  {
   "cell_type": "code",
   "execution_count": 19,
   "metadata": {},
   "outputs": [
    {
     "output_type": "execute_result",
     "data": {
      "text/plain": [
       "        fall nametype\n",
       "0       Fell    Valid\n",
       "1       Fell    Valid\n",
       "2       Fell    Valid\n",
       "3       Fell    Valid\n",
       "4       Fell    Valid\n",
       "...      ...      ...\n",
       "45711  Found    Valid\n",
       "45712  Found    Valid\n",
       "45713  Found    Valid\n",
       "45714  Found    Valid\n",
       "45715  Found    Valid\n",
       "\n",
       "[45716 rows x 2 columns]"
      ],
      "text/html": "<div>\n<style scoped>\n    .dataframe tbody tr th:only-of-type {\n        vertical-align: middle;\n    }\n\n    .dataframe tbody tr th {\n        vertical-align: top;\n    }\n\n    .dataframe thead th {\n        text-align: right;\n    }\n</style>\n<table border=\"1\" class=\"dataframe\">\n  <thead>\n    <tr style=\"text-align: right;\">\n      <th></th>\n      <th>fall</th>\n      <th>nametype</th>\n    </tr>\n  </thead>\n  <tbody>\n    <tr>\n      <th>0</th>\n      <td>Fell</td>\n      <td>Valid</td>\n    </tr>\n    <tr>\n      <th>1</th>\n      <td>Fell</td>\n      <td>Valid</td>\n    </tr>\n    <tr>\n      <th>2</th>\n      <td>Fell</td>\n      <td>Valid</td>\n    </tr>\n    <tr>\n      <th>3</th>\n      <td>Fell</td>\n      <td>Valid</td>\n    </tr>\n    <tr>\n      <th>4</th>\n      <td>Fell</td>\n      <td>Valid</td>\n    </tr>\n    <tr>\n      <th>...</th>\n      <td>...</td>\n      <td>...</td>\n    </tr>\n    <tr>\n      <th>45711</th>\n      <td>Found</td>\n      <td>Valid</td>\n    </tr>\n    <tr>\n      <th>45712</th>\n      <td>Found</td>\n      <td>Valid</td>\n    </tr>\n    <tr>\n      <th>45713</th>\n      <td>Found</td>\n      <td>Valid</td>\n    </tr>\n    <tr>\n      <th>45714</th>\n      <td>Found</td>\n      <td>Valid</td>\n    </tr>\n    <tr>\n      <th>45715</th>\n      <td>Found</td>\n      <td>Valid</td>\n    </tr>\n  </tbody>\n</table>\n<p>45716 rows × 2 columns</p>\n</div>"
     },
     "metadata": {},
     "execution_count": 19
    }
   ],
   "source": [
    "df_meteorites[['fall','nametype']].astype('category') # Nombrar una nueva categoria en el dataframe"
   ]
  },
  {
   "cell_type": "code",
   "execution_count": 20,
   "metadata": {},
   "outputs": [],
   "source": [
    "df_meteorites[['fall','nametype']] = df_meteorites[['fall','nametype']].astype('category') # Hcer cambio en el tipo de variables "
   ]
  },
  {
   "cell_type": "code",
   "execution_count": 21,
   "metadata": {},
   "outputs": [
    {
     "output_type": "execute_result",
     "data": {
      "text/plain": [
       "name             object\n",
       "id                int64\n",
       "nametype       category\n",
       "recclass         object\n",
       "mass            float64\n",
       "fall           category\n",
       "year            float64\n",
       "reclat          float64\n",
       "reclong         float64\n",
       "GeoLocation      object\n",
       "dtype: object"
      ]
     },
     "metadata": {},
     "execution_count": 21
    }
   ],
   "source": [
    "df_meteorites.dtypes"
   ]
  },
  {
   "cell_type": "code",
   "execution_count": 22,
   "metadata": {},
   "outputs": [
    {
     "output_type": "execute_result",
     "data": {
      "text/plain": [
       "['Fell', 'Found']\n",
       "Categories (2, object): ['Fell', 'Found']"
      ]
     },
     "metadata": {},
     "execution_count": 22
    }
   ],
   "source": [
    "df_meteorites['fall'].unique() # Para saber cuales son las variables que componen la categorias"
   ]
  },
  {
   "cell_type": "code",
   "execution_count": 23,
   "metadata": {},
   "outputs": [
    {
     "output_type": "execute_result",
     "data": {
      "text/plain": [
       "Found    44609\n",
       "Fell      1107\n",
       "Name: fall, dtype: int64"
      ]
     },
     "metadata": {},
     "execution_count": 23
    }
   ],
   "source": [
    "df_meteorites['fall'].value_counts() # Muestra cuantas veces aparece la variable de cateforias en todo el dataframe"
   ]
  },
  {
   "cell_type": "code",
   "execution_count": 24,
   "metadata": {},
   "outputs": [
    {
     "output_type": "execute_result",
     "data": {
      "text/plain": [
       "       Fell  Found\n",
       "0         1      0\n",
       "1         1      0\n",
       "2         1      0\n",
       "3         1      0\n",
       "4         1      0\n",
       "...     ...    ...\n",
       "45711     0      1\n",
       "45712     0      1\n",
       "45713     0      1\n",
       "45714     0      1\n",
       "45715     0      1\n",
       "\n",
       "[45716 rows x 2 columns]"
      ],
      "text/html": "<div>\n<style scoped>\n    .dataframe tbody tr th:only-of-type {\n        vertical-align: middle;\n    }\n\n    .dataframe tbody tr th {\n        vertical-align: top;\n    }\n\n    .dataframe thead th {\n        text-align: right;\n    }\n</style>\n<table border=\"1\" class=\"dataframe\">\n  <thead>\n    <tr style=\"text-align: right;\">\n      <th></th>\n      <th>Fell</th>\n      <th>Found</th>\n    </tr>\n  </thead>\n  <tbody>\n    <tr>\n      <th>0</th>\n      <td>1</td>\n      <td>0</td>\n    </tr>\n    <tr>\n      <th>1</th>\n      <td>1</td>\n      <td>0</td>\n    </tr>\n    <tr>\n      <th>2</th>\n      <td>1</td>\n      <td>0</td>\n    </tr>\n    <tr>\n      <th>3</th>\n      <td>1</td>\n      <td>0</td>\n    </tr>\n    <tr>\n      <th>4</th>\n      <td>1</td>\n      <td>0</td>\n    </tr>\n    <tr>\n      <th>...</th>\n      <td>...</td>\n      <td>...</td>\n    </tr>\n    <tr>\n      <th>45711</th>\n      <td>0</td>\n      <td>1</td>\n    </tr>\n    <tr>\n      <th>45712</th>\n      <td>0</td>\n      <td>1</td>\n    </tr>\n    <tr>\n      <th>45713</th>\n      <td>0</td>\n      <td>1</td>\n    </tr>\n    <tr>\n      <th>45714</th>\n      <td>0</td>\n      <td>1</td>\n    </tr>\n    <tr>\n      <th>45715</th>\n      <td>0</td>\n      <td>1</td>\n    </tr>\n  </tbody>\n</table>\n<p>45716 rows × 2 columns</p>\n</div>"
     },
     "metadata": {},
     "execution_count": 24
    }
   ],
   "source": [
    "pd.get_dummies(df_meteorites['fall']) # Crea un nuevo dataframes mostrando que cuando esta la palabra es 1 y cuando no es 0, donde nuestro formato texto pasa a formato numerico"
   ]
  },
  {
   "cell_type": "code",
   "execution_count": 25,
   "metadata": {},
   "outputs": [
    {
     "output_type": "execute_result",
     "data": {
      "text/plain": [
       "             name     id nametype              recclass     mass   fall  \\\n",
       "0          Aachen      1    Valid                    L5     21.0   Fell   \n",
       "1          Aarhus      2    Valid                    H6    720.0   Fell   \n",
       "2            Abee      6    Valid                   EH4 107000.0   Fell   \n",
       "3        Acapulco     10    Valid           Acapulcoite   1914.0   Fell   \n",
       "4         Achiras    370    Valid                    L6    780.0   Fell   \n",
       "...           ...    ...      ...                   ...      ...    ...   \n",
       "45711  Zillah 002  31356    Valid               Eucrite    172.0  Found   \n",
       "45712      Zinder  30409    Valid  Pallasite, ungrouped     46.0  Found   \n",
       "45713        Zlin  30410    Valid                    H4      3.3  Found   \n",
       "45714   Zubkovsky  31357    Valid                    L6   2167.0  Found   \n",
       "45715  Zulu Queen  30414    Valid                  L3.7    200.0  Found   \n",
       "\n",
       "        year  reclat  reclong               GeoLocation  ones  \n",
       "0     1880.0    50.8      6.1     (50.775000, 6.083330)     1  \n",
       "1     1951.0    56.2     10.2    (56.183330, 10.233330)     1  \n",
       "2     1952.0    54.2   -113.0  (54.216670, -113.000000)     1  \n",
       "3     1976.0    16.9    -99.9   (16.883330, -99.900000)     1  \n",
       "4     1902.0   -33.2    -65.0  (-33.166670, -64.950000)     1  \n",
       "...      ...     ...      ...                       ...   ...  \n",
       "45711 1990.0    29.0     17.0    (29.037000, 17.018500)     1  \n",
       "45712 1999.0    13.8      9.0     (13.783330, 8.966670)     1  \n",
       "45713 1939.0    49.2     17.7    (49.250000, 17.666670)     1  \n",
       "45714 2003.0    49.8     41.5    (49.789170, 41.504600)     1  \n",
       "45715 1976.0    34.0   -115.7  (33.983330, -115.683330)     1  \n",
       "\n",
       "[45716 rows x 11 columns]"
      ],
      "text/html": "<div>\n<style scoped>\n    .dataframe tbody tr th:only-of-type {\n        vertical-align: middle;\n    }\n\n    .dataframe tbody tr th {\n        vertical-align: top;\n    }\n\n    .dataframe thead th {\n        text-align: right;\n    }\n</style>\n<table border=\"1\" class=\"dataframe\">\n  <thead>\n    <tr style=\"text-align: right;\">\n      <th></th>\n      <th>name</th>\n      <th>id</th>\n      <th>nametype</th>\n      <th>recclass</th>\n      <th>mass</th>\n      <th>fall</th>\n      <th>year</th>\n      <th>reclat</th>\n      <th>reclong</th>\n      <th>GeoLocation</th>\n      <th>ones</th>\n    </tr>\n  </thead>\n  <tbody>\n    <tr>\n      <th>0</th>\n      <td>Aachen</td>\n      <td>1</td>\n      <td>Valid</td>\n      <td>L5</td>\n      <td>21.0</td>\n      <td>Fell</td>\n      <td>1880.0</td>\n      <td>50.8</td>\n      <td>6.1</td>\n      <td>(50.775000, 6.083330)</td>\n      <td>1</td>\n    </tr>\n    <tr>\n      <th>1</th>\n      <td>Aarhus</td>\n      <td>2</td>\n      <td>Valid</td>\n      <td>H6</td>\n      <td>720.0</td>\n      <td>Fell</td>\n      <td>1951.0</td>\n      <td>56.2</td>\n      <td>10.2</td>\n      <td>(56.183330, 10.233330)</td>\n      <td>1</td>\n    </tr>\n    <tr>\n      <th>2</th>\n      <td>Abee</td>\n      <td>6</td>\n      <td>Valid</td>\n      <td>EH4</td>\n      <td>107000.0</td>\n      <td>Fell</td>\n      <td>1952.0</td>\n      <td>54.2</td>\n      <td>-113.0</td>\n      <td>(54.216670, -113.000000)</td>\n      <td>1</td>\n    </tr>\n    <tr>\n      <th>3</th>\n      <td>Acapulco</td>\n      <td>10</td>\n      <td>Valid</td>\n      <td>Acapulcoite</td>\n      <td>1914.0</td>\n      <td>Fell</td>\n      <td>1976.0</td>\n      <td>16.9</td>\n      <td>-99.9</td>\n      <td>(16.883330, -99.900000)</td>\n      <td>1</td>\n    </tr>\n    <tr>\n      <th>4</th>\n      <td>Achiras</td>\n      <td>370</td>\n      <td>Valid</td>\n      <td>L6</td>\n      <td>780.0</td>\n      <td>Fell</td>\n      <td>1902.0</td>\n      <td>-33.2</td>\n      <td>-65.0</td>\n      <td>(-33.166670, -64.950000)</td>\n      <td>1</td>\n    </tr>\n    <tr>\n      <th>...</th>\n      <td>...</td>\n      <td>...</td>\n      <td>...</td>\n      <td>...</td>\n      <td>...</td>\n      <td>...</td>\n      <td>...</td>\n      <td>...</td>\n      <td>...</td>\n      <td>...</td>\n      <td>...</td>\n    </tr>\n    <tr>\n      <th>45711</th>\n      <td>Zillah 002</td>\n      <td>31356</td>\n      <td>Valid</td>\n      <td>Eucrite</td>\n      <td>172.0</td>\n      <td>Found</td>\n      <td>1990.0</td>\n      <td>29.0</td>\n      <td>17.0</td>\n      <td>(29.037000, 17.018500)</td>\n      <td>1</td>\n    </tr>\n    <tr>\n      <th>45712</th>\n      <td>Zinder</td>\n      <td>30409</td>\n      <td>Valid</td>\n      <td>Pallasite, ungrouped</td>\n      <td>46.0</td>\n      <td>Found</td>\n      <td>1999.0</td>\n      <td>13.8</td>\n      <td>9.0</td>\n      <td>(13.783330, 8.966670)</td>\n      <td>1</td>\n    </tr>\n    <tr>\n      <th>45713</th>\n      <td>Zlin</td>\n      <td>30410</td>\n      <td>Valid</td>\n      <td>H4</td>\n      <td>3.3</td>\n      <td>Found</td>\n      <td>1939.0</td>\n      <td>49.2</td>\n      <td>17.7</td>\n      <td>(49.250000, 17.666670)</td>\n      <td>1</td>\n    </tr>\n    <tr>\n      <th>45714</th>\n      <td>Zubkovsky</td>\n      <td>31357</td>\n      <td>Valid</td>\n      <td>L6</td>\n      <td>2167.0</td>\n      <td>Found</td>\n      <td>2003.0</td>\n      <td>49.8</td>\n      <td>41.5</td>\n      <td>(49.789170, 41.504600)</td>\n      <td>1</td>\n    </tr>\n    <tr>\n      <th>45715</th>\n      <td>Zulu Queen</td>\n      <td>30414</td>\n      <td>Valid</td>\n      <td>L3.7</td>\n      <td>200.0</td>\n      <td>Found</td>\n      <td>1976.0</td>\n      <td>34.0</td>\n      <td>-115.7</td>\n      <td>(33.983330, -115.683330)</td>\n      <td>1</td>\n    </tr>\n  </tbody>\n</table>\n<p>45716 rows × 11 columns</p>\n</div>"
     },
     "metadata": {},
     "execution_count": 25
    }
   ],
   "source": [
    "df_meteorites['ones']=1 # Crea una nueva columnas con el numero 1 en todos los datos \n",
    "df_meteorites"
   ]
  },
  {
   "cell_type": "code",
   "execution_count": 26,
   "metadata": {},
   "outputs": [
    {
     "output_type": "execute_result",
     "data": {
      "text/plain": [
       "             name     id nametype              recclass     mass   fall  \\\n",
       "0          Aachen      1    Valid                    L5     21.0   Fell   \n",
       "1          Aarhus      2    Valid                    H6    720.0   Fell   \n",
       "2            Abee      6    Valid                   EH4 107000.0   Fell   \n",
       "3        Acapulco     10    Valid           Acapulcoite   1914.0   Fell   \n",
       "4         Achiras    370    Valid                    L6    780.0   Fell   \n",
       "...           ...    ...      ...                   ...      ...    ...   \n",
       "45711  Zillah 002  31356    Valid               Eucrite    172.0  Found   \n",
       "45712      Zinder  30409    Valid  Pallasite, ungrouped     46.0  Found   \n",
       "45713        Zlin  30410    Valid                    H4      3.3  Found   \n",
       "45714   Zubkovsky  31357    Valid                    L6   2167.0  Found   \n",
       "45715  Zulu Queen  30414    Valid                  L3.7    200.0  Found   \n",
       "\n",
       "        year  reclat  reclong               GeoLocation  ones  fell  found  \n",
       "0     1880.0    50.8      6.1     (50.775000, 6.083330)     1     1      0  \n",
       "1     1951.0    56.2     10.2    (56.183330, 10.233330)     1     1      0  \n",
       "2     1952.0    54.2   -113.0  (54.216670, -113.000000)     1     1      0  \n",
       "3     1976.0    16.9    -99.9   (16.883330, -99.900000)     1     1      0  \n",
       "4     1902.0   -33.2    -65.0  (-33.166670, -64.950000)     1     1      0  \n",
       "...      ...     ...      ...                       ...   ...   ...    ...  \n",
       "45711 1990.0    29.0     17.0    (29.037000, 17.018500)     1     0      1  \n",
       "45712 1999.0    13.8      9.0     (13.783330, 8.966670)     1     0      1  \n",
       "45713 1939.0    49.2     17.7    (49.250000, 17.666670)     1     0      1  \n",
       "45714 2003.0    49.8     41.5    (49.789170, 41.504600)     1     0      1  \n",
       "45715 1976.0    34.0   -115.7  (33.983330, -115.683330)     1     0      1  \n",
       "\n",
       "[45716 rows x 13 columns]"
      ],
      "text/html": "<div>\n<style scoped>\n    .dataframe tbody tr th:only-of-type {\n        vertical-align: middle;\n    }\n\n    .dataframe tbody tr th {\n        vertical-align: top;\n    }\n\n    .dataframe thead th {\n        text-align: right;\n    }\n</style>\n<table border=\"1\" class=\"dataframe\">\n  <thead>\n    <tr style=\"text-align: right;\">\n      <th></th>\n      <th>name</th>\n      <th>id</th>\n      <th>nametype</th>\n      <th>recclass</th>\n      <th>mass</th>\n      <th>fall</th>\n      <th>year</th>\n      <th>reclat</th>\n      <th>reclong</th>\n      <th>GeoLocation</th>\n      <th>ones</th>\n      <th>fell</th>\n      <th>found</th>\n    </tr>\n  </thead>\n  <tbody>\n    <tr>\n      <th>0</th>\n      <td>Aachen</td>\n      <td>1</td>\n      <td>Valid</td>\n      <td>L5</td>\n      <td>21.0</td>\n      <td>Fell</td>\n      <td>1880.0</td>\n      <td>50.8</td>\n      <td>6.1</td>\n      <td>(50.775000, 6.083330)</td>\n      <td>1</td>\n      <td>1</td>\n      <td>0</td>\n    </tr>\n    <tr>\n      <th>1</th>\n      <td>Aarhus</td>\n      <td>2</td>\n      <td>Valid</td>\n      <td>H6</td>\n      <td>720.0</td>\n      <td>Fell</td>\n      <td>1951.0</td>\n      <td>56.2</td>\n      <td>10.2</td>\n      <td>(56.183330, 10.233330)</td>\n      <td>1</td>\n      <td>1</td>\n      <td>0</td>\n    </tr>\n    <tr>\n      <th>2</th>\n      <td>Abee</td>\n      <td>6</td>\n      <td>Valid</td>\n      <td>EH4</td>\n      <td>107000.0</td>\n      <td>Fell</td>\n      <td>1952.0</td>\n      <td>54.2</td>\n      <td>-113.0</td>\n      <td>(54.216670, -113.000000)</td>\n      <td>1</td>\n      <td>1</td>\n      <td>0</td>\n    </tr>\n    <tr>\n      <th>3</th>\n      <td>Acapulco</td>\n      <td>10</td>\n      <td>Valid</td>\n      <td>Acapulcoite</td>\n      <td>1914.0</td>\n      <td>Fell</td>\n      <td>1976.0</td>\n      <td>16.9</td>\n      <td>-99.9</td>\n      <td>(16.883330, -99.900000)</td>\n      <td>1</td>\n      <td>1</td>\n      <td>0</td>\n    </tr>\n    <tr>\n      <th>4</th>\n      <td>Achiras</td>\n      <td>370</td>\n      <td>Valid</td>\n      <td>L6</td>\n      <td>780.0</td>\n      <td>Fell</td>\n      <td>1902.0</td>\n      <td>-33.2</td>\n      <td>-65.0</td>\n      <td>(-33.166670, -64.950000)</td>\n      <td>1</td>\n      <td>1</td>\n      <td>0</td>\n    </tr>\n    <tr>\n      <th>...</th>\n      <td>...</td>\n      <td>...</td>\n      <td>...</td>\n      <td>...</td>\n      <td>...</td>\n      <td>...</td>\n      <td>...</td>\n      <td>...</td>\n      <td>...</td>\n      <td>...</td>\n      <td>...</td>\n      <td>...</td>\n      <td>...</td>\n    </tr>\n    <tr>\n      <th>45711</th>\n      <td>Zillah 002</td>\n      <td>31356</td>\n      <td>Valid</td>\n      <td>Eucrite</td>\n      <td>172.0</td>\n      <td>Found</td>\n      <td>1990.0</td>\n      <td>29.0</td>\n      <td>17.0</td>\n      <td>(29.037000, 17.018500)</td>\n      <td>1</td>\n      <td>0</td>\n      <td>1</td>\n    </tr>\n    <tr>\n      <th>45712</th>\n      <td>Zinder</td>\n      <td>30409</td>\n      <td>Valid</td>\n      <td>Pallasite, ungrouped</td>\n      <td>46.0</td>\n      <td>Found</td>\n      <td>1999.0</td>\n      <td>13.8</td>\n      <td>9.0</td>\n      <td>(13.783330, 8.966670)</td>\n      <td>1</td>\n      <td>0</td>\n      <td>1</td>\n    </tr>\n    <tr>\n      <th>45713</th>\n      <td>Zlin</td>\n      <td>30410</td>\n      <td>Valid</td>\n      <td>H4</td>\n      <td>3.3</td>\n      <td>Found</td>\n      <td>1939.0</td>\n      <td>49.2</td>\n      <td>17.7</td>\n      <td>(49.250000, 17.666670)</td>\n      <td>1</td>\n      <td>0</td>\n      <td>1</td>\n    </tr>\n    <tr>\n      <th>45714</th>\n      <td>Zubkovsky</td>\n      <td>31357</td>\n      <td>Valid</td>\n      <td>L6</td>\n      <td>2167.0</td>\n      <td>Found</td>\n      <td>2003.0</td>\n      <td>49.8</td>\n      <td>41.5</td>\n      <td>(49.789170, 41.504600)</td>\n      <td>1</td>\n      <td>0</td>\n      <td>1</td>\n    </tr>\n    <tr>\n      <th>45715</th>\n      <td>Zulu Queen</td>\n      <td>30414</td>\n      <td>Valid</td>\n      <td>L3.7</td>\n      <td>200.0</td>\n      <td>Found</td>\n      <td>1976.0</td>\n      <td>34.0</td>\n      <td>-115.7</td>\n      <td>(33.983330, -115.683330)</td>\n      <td>1</td>\n      <td>0</td>\n      <td>1</td>\n    </tr>\n  </tbody>\n</table>\n<p>45716 rows × 13 columns</p>\n</div>"
     },
     "metadata": {},
     "execution_count": 26
    }
   ],
   "source": [
    "df_meteorites[['fell','found']] = pd.get_dummies(df_meteorites['fall']) # Crea 2 nuevas columnas con datos numericos\n",
    "df_meteorites"
   ]
  },
  {
   "cell_type": "code",
   "execution_count": 27,
   "metadata": {},
   "outputs": [
    {
     "output_type": "execute_result",
     "data": {
      "text/plain": [
       "0       1880.0\n",
       "1       1951.0\n",
       "2       1952.0\n",
       "3       1976.0\n",
       "4       1902.0\n",
       "         ...  \n",
       "45711   1990.0\n",
       "45712   1999.0\n",
       "45713   1939.0\n",
       "45714   2003.0\n",
       "45715   1976.0\n",
       "Name: year, Length: 45716, dtype: float64"
      ]
     },
     "metadata": {},
     "execution_count": 27
    }
   ],
   "source": [
    "df_meteorites['year']"
   ]
  },
  {
   "cell_type": "code",
   "execution_count": 28,
   "metadata": {},
   "outputs": [
    {
     "output_type": "execute_result",
     "data": {
      "text/plain": [
       "0       NaT\n",
       "1       NaT\n",
       "2       NaT\n",
       "3       NaT\n",
       "4       NaT\n",
       "         ..\n",
       "45711   NaT\n",
       "45712   NaT\n",
       "45713   NaT\n",
       "45714   NaT\n",
       "45715   NaT\n",
       "Name: year, Length: 45716, dtype: datetime64[ns]"
      ]
     },
     "metadata": {},
     "execution_count": 28
    }
   ],
   "source": [
    "pd.to_datetime(\n",
    "    df_meteorites['year'],\n",
    "    errors = 'coerce',\n",
    "    format ='%m/%d/%Y %H:%M:%S %p'\n",
    ")"
   ]
  },
  {
   "cell_type": "code",
   "execution_count": 29,
   "metadata": {},
   "outputs": [
    {
     "output_type": "execute_result",
     "data": {
      "text/plain": [
       "             name     id nametype              recclass     mass   fall  \\\n",
       "0          Aachen      1    Valid                    L5     21.0   Fell   \n",
       "1          Aarhus      2    Valid                    H6    720.0   Fell   \n",
       "2            Abee      6    Valid                   EH4 107000.0   Fell   \n",
       "3        Acapulco     10    Valid           Acapulcoite   1914.0   Fell   \n",
       "4         Achiras    370    Valid                    L6    780.0   Fell   \n",
       "...           ...    ...      ...                   ...      ...    ...   \n",
       "45711  Zillah 002  31356    Valid               Eucrite    172.0  Found   \n",
       "45712      Zinder  30409    Valid  Pallasite, ungrouped     46.0  Found   \n",
       "45713        Zlin  30410    Valid                    H4      3.3  Found   \n",
       "45714   Zubkovsky  31357    Valid                    L6   2167.0  Found   \n",
       "45715  Zulu Queen  30414    Valid                  L3.7    200.0  Found   \n",
       "\n",
       "        year  reclat  reclong               GeoLocation  ones  fell  found  \n",
       "0     1880.0    50.8      6.1     (50.775000, 6.083330)     1     1      0  \n",
       "1     1951.0    56.2     10.2    (56.183330, 10.233330)     1     1      0  \n",
       "2     1952.0    54.2   -113.0  (54.216670, -113.000000)     1     1      0  \n",
       "3     1976.0    16.9    -99.9   (16.883330, -99.900000)     1     1      0  \n",
       "4     1902.0   -33.2    -65.0  (-33.166670, -64.950000)     1     1      0  \n",
       "...      ...     ...      ...                       ...   ...   ...    ...  \n",
       "45711 1990.0    29.0     17.0    (29.037000, 17.018500)     1     0      1  \n",
       "45712 1999.0    13.8      9.0     (13.783330, 8.966670)     1     0      1  \n",
       "45713 1939.0    49.2     17.7    (49.250000, 17.666670)     1     0      1  \n",
       "45714 2003.0    49.8     41.5    (49.789170, 41.504600)     1     0      1  \n",
       "45715 1976.0    34.0   -115.7  (33.983330, -115.683330)     1     0      1  \n",
       "\n",
       "[45716 rows x 13 columns]"
      ],
      "text/html": "<div>\n<style scoped>\n    .dataframe tbody tr th:only-of-type {\n        vertical-align: middle;\n    }\n\n    .dataframe tbody tr th {\n        vertical-align: top;\n    }\n\n    .dataframe thead th {\n        text-align: right;\n    }\n</style>\n<table border=\"1\" class=\"dataframe\">\n  <thead>\n    <tr style=\"text-align: right;\">\n      <th></th>\n      <th>name</th>\n      <th>id</th>\n      <th>nametype</th>\n      <th>recclass</th>\n      <th>mass</th>\n      <th>fall</th>\n      <th>year</th>\n      <th>reclat</th>\n      <th>reclong</th>\n      <th>GeoLocation</th>\n      <th>ones</th>\n      <th>fell</th>\n      <th>found</th>\n    </tr>\n  </thead>\n  <tbody>\n    <tr>\n      <th>0</th>\n      <td>Aachen</td>\n      <td>1</td>\n      <td>Valid</td>\n      <td>L5</td>\n      <td>21.0</td>\n      <td>Fell</td>\n      <td>1880.0</td>\n      <td>50.8</td>\n      <td>6.1</td>\n      <td>(50.775000, 6.083330)</td>\n      <td>1</td>\n      <td>1</td>\n      <td>0</td>\n    </tr>\n    <tr>\n      <th>1</th>\n      <td>Aarhus</td>\n      <td>2</td>\n      <td>Valid</td>\n      <td>H6</td>\n      <td>720.0</td>\n      <td>Fell</td>\n      <td>1951.0</td>\n      <td>56.2</td>\n      <td>10.2</td>\n      <td>(56.183330, 10.233330)</td>\n      <td>1</td>\n      <td>1</td>\n      <td>0</td>\n    </tr>\n    <tr>\n      <th>2</th>\n      <td>Abee</td>\n      <td>6</td>\n      <td>Valid</td>\n      <td>EH4</td>\n      <td>107000.0</td>\n      <td>Fell</td>\n      <td>1952.0</td>\n      <td>54.2</td>\n      <td>-113.0</td>\n      <td>(54.216670, -113.000000)</td>\n      <td>1</td>\n      <td>1</td>\n      <td>0</td>\n    </tr>\n    <tr>\n      <th>3</th>\n      <td>Acapulco</td>\n      <td>10</td>\n      <td>Valid</td>\n      <td>Acapulcoite</td>\n      <td>1914.0</td>\n      <td>Fell</td>\n      <td>1976.0</td>\n      <td>16.9</td>\n      <td>-99.9</td>\n      <td>(16.883330, -99.900000)</td>\n      <td>1</td>\n      <td>1</td>\n      <td>0</td>\n    </tr>\n    <tr>\n      <th>4</th>\n      <td>Achiras</td>\n      <td>370</td>\n      <td>Valid</td>\n      <td>L6</td>\n      <td>780.0</td>\n      <td>Fell</td>\n      <td>1902.0</td>\n      <td>-33.2</td>\n      <td>-65.0</td>\n      <td>(-33.166670, -64.950000)</td>\n      <td>1</td>\n      <td>1</td>\n      <td>0</td>\n    </tr>\n    <tr>\n      <th>...</th>\n      <td>...</td>\n      <td>...</td>\n      <td>...</td>\n      <td>...</td>\n      <td>...</td>\n      <td>...</td>\n      <td>...</td>\n      <td>...</td>\n      <td>...</td>\n      <td>...</td>\n      <td>...</td>\n      <td>...</td>\n      <td>...</td>\n    </tr>\n    <tr>\n      <th>45711</th>\n      <td>Zillah 002</td>\n      <td>31356</td>\n      <td>Valid</td>\n      <td>Eucrite</td>\n      <td>172.0</td>\n      <td>Found</td>\n      <td>1990.0</td>\n      <td>29.0</td>\n      <td>17.0</td>\n      <td>(29.037000, 17.018500)</td>\n      <td>1</td>\n      <td>0</td>\n      <td>1</td>\n    </tr>\n    <tr>\n      <th>45712</th>\n      <td>Zinder</td>\n      <td>30409</td>\n      <td>Valid</td>\n      <td>Pallasite, ungrouped</td>\n      <td>46.0</td>\n      <td>Found</td>\n      <td>1999.0</td>\n      <td>13.8</td>\n      <td>9.0</td>\n      <td>(13.783330, 8.966670)</td>\n      <td>1</td>\n      <td>0</td>\n      <td>1</td>\n    </tr>\n    <tr>\n      <th>45713</th>\n      <td>Zlin</td>\n      <td>30410</td>\n      <td>Valid</td>\n      <td>H4</td>\n      <td>3.3</td>\n      <td>Found</td>\n      <td>1939.0</td>\n      <td>49.2</td>\n      <td>17.7</td>\n      <td>(49.250000, 17.666670)</td>\n      <td>1</td>\n      <td>0</td>\n      <td>1</td>\n    </tr>\n    <tr>\n      <th>45714</th>\n      <td>Zubkovsky</td>\n      <td>31357</td>\n      <td>Valid</td>\n      <td>L6</td>\n      <td>2167.0</td>\n      <td>Found</td>\n      <td>2003.0</td>\n      <td>49.8</td>\n      <td>41.5</td>\n      <td>(49.789170, 41.504600)</td>\n      <td>1</td>\n      <td>0</td>\n      <td>1</td>\n    </tr>\n    <tr>\n      <th>45715</th>\n      <td>Zulu Queen</td>\n      <td>30414</td>\n      <td>Valid</td>\n      <td>L3.7</td>\n      <td>200.0</td>\n      <td>Found</td>\n      <td>1976.0</td>\n      <td>34.0</td>\n      <td>-115.7</td>\n      <td>(33.983330, -115.683330)</td>\n      <td>1</td>\n      <td>0</td>\n      <td>1</td>\n    </tr>\n  </tbody>\n</table>\n<p>45716 rows × 13 columns</p>\n</div>"
     },
     "metadata": {},
     "execution_count": 29
    }
   ],
   "source": [
    "df_meteorites.rename(columns={'mass (g)': 'mass'}, inplace= True) # Renombrando una columna y inplace quiere decir que quedaran guardado inplace directamente"
   ]
  },
  {
   "source": [
    "# Borrar filas, columnas y copiar información (11/29)"
   ],
   "cell_type": "markdown",
   "metadata": {}
  },
  {
   "cell_type": "code",
   "execution_count": 38,
   "metadata": {},
   "outputs": [
    {
     "output_type": "error",
     "ename": "KeyError",
     "evalue": "\"['ones'] not found in axis\"",
     "traceback": [
      "\u001b[1;31m---------------------------------------------------------------------------\u001b[0m",
      "\u001b[1;31mKeyError\u001b[0m                                  Traceback (most recent call last)",
      "\u001b[1;32m<ipython-input-38-417d70bebe22>\u001b[0m in \u001b[0;36m<module>\u001b[1;34m\u001b[0m\n\u001b[1;32m----> 1\u001b[1;33m \u001b[0mdf_meteorites\u001b[0m\u001b[1;33m.\u001b[0m\u001b[0mdrop\u001b[0m\u001b[1;33m(\u001b[0m\u001b[1;33m[\u001b[0m\u001b[1;34m'ones'\u001b[0m\u001b[1;33m]\u001b[0m\u001b[1;33m,\u001b[0m \u001b[0maxis\u001b[0m\u001b[1;33m=\u001b[0m\u001b[1;36m1\u001b[0m\u001b[1;33m)\u001b[0m \u001b[1;31m# Elimiando columna y el axis quiere decir que es el dato de la columna\u001b[0m\u001b[1;33m\u001b[0m\u001b[1;33m\u001b[0m\u001b[0m\n\u001b[0m",
      "\u001b[1;32m~\\anaconda3\\lib\\site-packages\\pandas\\core\\frame.py\u001b[0m in \u001b[0;36mdrop\u001b[1;34m(self, labels, axis, index, columns, level, inplace, errors)\u001b[0m\n\u001b[0;32m   4306\u001b[0m                 \u001b[0mweight\u001b[0m  \u001b[1;36m1.0\u001b[0m     \u001b[1;36m0.8\u001b[0m\u001b[1;33m\u001b[0m\u001b[1;33m\u001b[0m\u001b[0m\n\u001b[0;32m   4307\u001b[0m         \"\"\"\n\u001b[1;32m-> 4308\u001b[1;33m         return super().drop(\n\u001b[0m\u001b[0;32m   4309\u001b[0m             \u001b[0mlabels\u001b[0m\u001b[1;33m=\u001b[0m\u001b[0mlabels\u001b[0m\u001b[1;33m,\u001b[0m\u001b[1;33m\u001b[0m\u001b[1;33m\u001b[0m\u001b[0m\n\u001b[0;32m   4310\u001b[0m             \u001b[0maxis\u001b[0m\u001b[1;33m=\u001b[0m\u001b[0maxis\u001b[0m\u001b[1;33m,\u001b[0m\u001b[1;33m\u001b[0m\u001b[1;33m\u001b[0m\u001b[0m\n",
      "\u001b[1;32m~\\anaconda3\\lib\\site-packages\\pandas\\core\\generic.py\u001b[0m in \u001b[0;36mdrop\u001b[1;34m(self, labels, axis, index, columns, level, inplace, errors)\u001b[0m\n\u001b[0;32m   4151\u001b[0m         \u001b[1;32mfor\u001b[0m \u001b[0maxis\u001b[0m\u001b[1;33m,\u001b[0m \u001b[0mlabels\u001b[0m \u001b[1;32min\u001b[0m \u001b[0maxes\u001b[0m\u001b[1;33m.\u001b[0m\u001b[0mitems\u001b[0m\u001b[1;33m(\u001b[0m\u001b[1;33m)\u001b[0m\u001b[1;33m:\u001b[0m\u001b[1;33m\u001b[0m\u001b[1;33m\u001b[0m\u001b[0m\n\u001b[0;32m   4152\u001b[0m             \u001b[1;32mif\u001b[0m \u001b[0mlabels\u001b[0m \u001b[1;32mis\u001b[0m \u001b[1;32mnot\u001b[0m \u001b[1;32mNone\u001b[0m\u001b[1;33m:\u001b[0m\u001b[1;33m\u001b[0m\u001b[1;33m\u001b[0m\u001b[0m\n\u001b[1;32m-> 4153\u001b[1;33m                 \u001b[0mobj\u001b[0m \u001b[1;33m=\u001b[0m \u001b[0mobj\u001b[0m\u001b[1;33m.\u001b[0m\u001b[0m_drop_axis\u001b[0m\u001b[1;33m(\u001b[0m\u001b[0mlabels\u001b[0m\u001b[1;33m,\u001b[0m \u001b[0maxis\u001b[0m\u001b[1;33m,\u001b[0m \u001b[0mlevel\u001b[0m\u001b[1;33m=\u001b[0m\u001b[0mlevel\u001b[0m\u001b[1;33m,\u001b[0m \u001b[0merrors\u001b[0m\u001b[1;33m=\u001b[0m\u001b[0merrors\u001b[0m\u001b[1;33m)\u001b[0m\u001b[1;33m\u001b[0m\u001b[1;33m\u001b[0m\u001b[0m\n\u001b[0m\u001b[0;32m   4154\u001b[0m \u001b[1;33m\u001b[0m\u001b[0m\n\u001b[0;32m   4155\u001b[0m         \u001b[1;32mif\u001b[0m \u001b[0minplace\u001b[0m\u001b[1;33m:\u001b[0m\u001b[1;33m\u001b[0m\u001b[1;33m\u001b[0m\u001b[0m\n",
      "\u001b[1;32m~\\anaconda3\\lib\\site-packages\\pandas\\core\\generic.py\u001b[0m in \u001b[0;36m_drop_axis\u001b[1;34m(self, labels, axis, level, errors)\u001b[0m\n\u001b[0;32m   4186\u001b[0m                 \u001b[0mnew_axis\u001b[0m \u001b[1;33m=\u001b[0m \u001b[0maxis\u001b[0m\u001b[1;33m.\u001b[0m\u001b[0mdrop\u001b[0m\u001b[1;33m(\u001b[0m\u001b[0mlabels\u001b[0m\u001b[1;33m,\u001b[0m \u001b[0mlevel\u001b[0m\u001b[1;33m=\u001b[0m\u001b[0mlevel\u001b[0m\u001b[1;33m,\u001b[0m \u001b[0merrors\u001b[0m\u001b[1;33m=\u001b[0m\u001b[0merrors\u001b[0m\u001b[1;33m)\u001b[0m\u001b[1;33m\u001b[0m\u001b[1;33m\u001b[0m\u001b[0m\n\u001b[0;32m   4187\u001b[0m             \u001b[1;32melse\u001b[0m\u001b[1;33m:\u001b[0m\u001b[1;33m\u001b[0m\u001b[1;33m\u001b[0m\u001b[0m\n\u001b[1;32m-> 4188\u001b[1;33m                 \u001b[0mnew_axis\u001b[0m \u001b[1;33m=\u001b[0m \u001b[0maxis\u001b[0m\u001b[1;33m.\u001b[0m\u001b[0mdrop\u001b[0m\u001b[1;33m(\u001b[0m\u001b[0mlabels\u001b[0m\u001b[1;33m,\u001b[0m \u001b[0merrors\u001b[0m\u001b[1;33m=\u001b[0m\u001b[0merrors\u001b[0m\u001b[1;33m)\u001b[0m\u001b[1;33m\u001b[0m\u001b[1;33m\u001b[0m\u001b[0m\n\u001b[0m\u001b[0;32m   4189\u001b[0m             \u001b[0mresult\u001b[0m \u001b[1;33m=\u001b[0m \u001b[0mself\u001b[0m\u001b[1;33m.\u001b[0m\u001b[0mreindex\u001b[0m\u001b[1;33m(\u001b[0m\u001b[1;33m**\u001b[0m\u001b[1;33m{\u001b[0m\u001b[0maxis_name\u001b[0m\u001b[1;33m:\u001b[0m \u001b[0mnew_axis\u001b[0m\u001b[1;33m}\u001b[0m\u001b[1;33m)\u001b[0m\u001b[1;33m\u001b[0m\u001b[1;33m\u001b[0m\u001b[0m\n\u001b[0;32m   4190\u001b[0m \u001b[1;33m\u001b[0m\u001b[0m\n",
      "\u001b[1;32m~\\anaconda3\\lib\\site-packages\\pandas\\core\\indexes\\base.py\u001b[0m in \u001b[0;36mdrop\u001b[1;34m(self, labels, errors)\u001b[0m\n\u001b[0;32m   5589\u001b[0m         \u001b[1;32mif\u001b[0m \u001b[0mmask\u001b[0m\u001b[1;33m.\u001b[0m\u001b[0many\u001b[0m\u001b[1;33m(\u001b[0m\u001b[1;33m)\u001b[0m\u001b[1;33m:\u001b[0m\u001b[1;33m\u001b[0m\u001b[1;33m\u001b[0m\u001b[0m\n\u001b[0;32m   5590\u001b[0m             \u001b[1;32mif\u001b[0m \u001b[0merrors\u001b[0m \u001b[1;33m!=\u001b[0m \u001b[1;34m\"ignore\"\u001b[0m\u001b[1;33m:\u001b[0m\u001b[1;33m\u001b[0m\u001b[1;33m\u001b[0m\u001b[0m\n\u001b[1;32m-> 5591\u001b[1;33m                 \u001b[1;32mraise\u001b[0m \u001b[0mKeyError\u001b[0m\u001b[1;33m(\u001b[0m\u001b[1;34mf\"{labels[mask]} not found in axis\"\u001b[0m\u001b[1;33m)\u001b[0m\u001b[1;33m\u001b[0m\u001b[1;33m\u001b[0m\u001b[0m\n\u001b[0m\u001b[0;32m   5592\u001b[0m             \u001b[0mindexer\u001b[0m \u001b[1;33m=\u001b[0m \u001b[0mindexer\u001b[0m\u001b[1;33m[\u001b[0m\u001b[1;33m~\u001b[0m\u001b[0mmask\u001b[0m\u001b[1;33m]\u001b[0m\u001b[1;33m\u001b[0m\u001b[1;33m\u001b[0m\u001b[0m\n\u001b[0;32m   5593\u001b[0m         \u001b[1;32mreturn\u001b[0m \u001b[0mself\u001b[0m\u001b[1;33m.\u001b[0m\u001b[0mdelete\u001b[0m\u001b[1;33m(\u001b[0m\u001b[0mindexer\u001b[0m\u001b[1;33m)\u001b[0m\u001b[1;33m\u001b[0m\u001b[1;33m\u001b[0m\u001b[0m\n",
      "\u001b[1;31mKeyError\u001b[0m: \"['ones'] not found in axis\""
     ]
    }
   ],
   "source": [
    "df_meteorites.drop(['ones'], axis=1, inplace=True) # Elimiando columna y el axis quiere decir que es el dato de la columna"
   ]
  },
  {
   "cell_type": "code",
   "execution_count": 40,
   "metadata": {},
   "outputs": [
    {
     "output_type": "execute_result",
     "data": {
      "text/plain": [
       "                name   id nametype      recclass    mass  fall   year  reclat  \\\n",
       "1             Aarhus    2    Valid            H6   720.0  Fell 1951.0    56.2   \n",
       "3           Acapulco   10    Valid   Acapulcoite  1914.0  Fell 1976.0    16.9   \n",
       "5           Adhi Kot  379    Valid           EH4  4239.0  Fell 1919.0    32.1   \n",
       "7               Agen  392    Valid            H5 30000.0  Fell 1814.0    44.2   \n",
       "8             Aguada  398    Valid            L6  1620.0  Fell 1930.0   -31.6   \n",
       "9      Aguila Blanca  417    Valid             L  1440.0  Fell 1920.0   -30.9   \n",
       "10  Aioun el Atrouss  423    Valid  Diogenite-pm  1000.0  Fell 1974.0    16.4   \n",
       "11               Aïr  424    Valid            L6 24000.0  Fell 1925.0    19.1   \n",
       "12   Aire-sur-la-Lys  425    Valid       Unknown     NaN  Fell 1769.0    50.7   \n",
       "13             Akaba  426    Valid            L6   779.0  Fell 1949.0    29.5   \n",
       "\n",
       "    reclong               GeoLocation  fell  found  \n",
       "1      10.2    (56.183330, 10.233330)     1      0  \n",
       "3     -99.9   (16.883330, -99.900000)     1      0  \n",
       "5      71.8    (32.100000, 71.800000)     1      0  \n",
       "7       0.6     (44.216670, 0.616670)     1      0  \n",
       "8     -65.2  (-31.600000, -65.233330)     1      0  \n",
       "9     -64.5  (-30.866670, -64.550000)     1      0  \n",
       "10     -9.6    (16.398060, -9.570280)     1      0  \n",
       "11      8.4     (19.083330, 8.383330)     1      0  \n",
       "12      2.3     (50.666670, 2.333330)     1      0  \n",
       "13     35.0    (29.516670, 35.050000)     1      0  "
      ],
      "text/html": "<div>\n<style scoped>\n    .dataframe tbody tr th:only-of-type {\n        vertical-align: middle;\n    }\n\n    .dataframe tbody tr th {\n        vertical-align: top;\n    }\n\n    .dataframe thead th {\n        text-align: right;\n    }\n</style>\n<table border=\"1\" class=\"dataframe\">\n  <thead>\n    <tr style=\"text-align: right;\">\n      <th></th>\n      <th>name</th>\n      <th>id</th>\n      <th>nametype</th>\n      <th>recclass</th>\n      <th>mass</th>\n      <th>fall</th>\n      <th>year</th>\n      <th>reclat</th>\n      <th>reclong</th>\n      <th>GeoLocation</th>\n      <th>fell</th>\n      <th>found</th>\n    </tr>\n  </thead>\n  <tbody>\n    <tr>\n      <th>1</th>\n      <td>Aarhus</td>\n      <td>2</td>\n      <td>Valid</td>\n      <td>H6</td>\n      <td>720.0</td>\n      <td>Fell</td>\n      <td>1951.0</td>\n      <td>56.2</td>\n      <td>10.2</td>\n      <td>(56.183330, 10.233330)</td>\n      <td>1</td>\n      <td>0</td>\n    </tr>\n    <tr>\n      <th>3</th>\n      <td>Acapulco</td>\n      <td>10</td>\n      <td>Valid</td>\n      <td>Acapulcoite</td>\n      <td>1914.0</td>\n      <td>Fell</td>\n      <td>1976.0</td>\n      <td>16.9</td>\n      <td>-99.9</td>\n      <td>(16.883330, -99.900000)</td>\n      <td>1</td>\n      <td>0</td>\n    </tr>\n    <tr>\n      <th>5</th>\n      <td>Adhi Kot</td>\n      <td>379</td>\n      <td>Valid</td>\n      <td>EH4</td>\n      <td>4239.0</td>\n      <td>Fell</td>\n      <td>1919.0</td>\n      <td>32.1</td>\n      <td>71.8</td>\n      <td>(32.100000, 71.800000)</td>\n      <td>1</td>\n      <td>0</td>\n    </tr>\n    <tr>\n      <th>7</th>\n      <td>Agen</td>\n      <td>392</td>\n      <td>Valid</td>\n      <td>H5</td>\n      <td>30000.0</td>\n      <td>Fell</td>\n      <td>1814.0</td>\n      <td>44.2</td>\n      <td>0.6</td>\n      <td>(44.216670, 0.616670)</td>\n      <td>1</td>\n      <td>0</td>\n    </tr>\n    <tr>\n      <th>8</th>\n      <td>Aguada</td>\n      <td>398</td>\n      <td>Valid</td>\n      <td>L6</td>\n      <td>1620.0</td>\n      <td>Fell</td>\n      <td>1930.0</td>\n      <td>-31.6</td>\n      <td>-65.2</td>\n      <td>(-31.600000, -65.233330)</td>\n      <td>1</td>\n      <td>0</td>\n    </tr>\n    <tr>\n      <th>9</th>\n      <td>Aguila Blanca</td>\n      <td>417</td>\n      <td>Valid</td>\n      <td>L</td>\n      <td>1440.0</td>\n      <td>Fell</td>\n      <td>1920.0</td>\n      <td>-30.9</td>\n      <td>-64.5</td>\n      <td>(-30.866670, -64.550000)</td>\n      <td>1</td>\n      <td>0</td>\n    </tr>\n    <tr>\n      <th>10</th>\n      <td>Aioun el Atrouss</td>\n      <td>423</td>\n      <td>Valid</td>\n      <td>Diogenite-pm</td>\n      <td>1000.0</td>\n      <td>Fell</td>\n      <td>1974.0</td>\n      <td>16.4</td>\n      <td>-9.6</td>\n      <td>(16.398060, -9.570280)</td>\n      <td>1</td>\n      <td>0</td>\n    </tr>\n    <tr>\n      <th>11</th>\n      <td>Aïr</td>\n      <td>424</td>\n      <td>Valid</td>\n      <td>L6</td>\n      <td>24000.0</td>\n      <td>Fell</td>\n      <td>1925.0</td>\n      <td>19.1</td>\n      <td>8.4</td>\n      <td>(19.083330, 8.383330)</td>\n      <td>1</td>\n      <td>0</td>\n    </tr>\n    <tr>\n      <th>12</th>\n      <td>Aire-sur-la-Lys</td>\n      <td>425</td>\n      <td>Valid</td>\n      <td>Unknown</td>\n      <td>NaN</td>\n      <td>Fell</td>\n      <td>1769.0</td>\n      <td>50.7</td>\n      <td>2.3</td>\n      <td>(50.666670, 2.333330)</td>\n      <td>1</td>\n      <td>0</td>\n    </tr>\n    <tr>\n      <th>13</th>\n      <td>Akaba</td>\n      <td>426</td>\n      <td>Valid</td>\n      <td>L6</td>\n      <td>779.0</td>\n      <td>Fell</td>\n      <td>1949.0</td>\n      <td>29.5</td>\n      <td>35.0</td>\n      <td>(29.516670, 35.050000)</td>\n      <td>1</td>\n      <td>0</td>\n    </tr>\n  </tbody>\n</table>\n</div>"
     },
     "metadata": {},
     "execution_count": 40
    }
   ],
   "source": [
    "df_meteorites.drop([0,2,4,6]).head(10) # Eliminando datos 0,2,4 y 6, estos datos se borran del eje numerico"
   ]
  },
  {
   "cell_type": "code",
   "execution_count": 41,
   "metadata": {},
   "outputs": [
    {
     "output_type": "execute_result",
     "data": {
      "text/plain": [
       "             name nametype    mass   fall   year  reclat  reclong  \\\n",
       "1          Aarhus    Valid   720.0   Fell 1951.0    56.2     10.2   \n",
       "3        Acapulco    Valid  1914.0   Fell 1976.0    16.9    -99.9   \n",
       "5        Adhi Kot    Valid  4239.0   Fell 1919.0    32.1     71.8   \n",
       "7            Agen    Valid 30000.0   Fell 1814.0    44.2      0.6   \n",
       "8          Aguada    Valid  1620.0   Fell 1930.0   -31.6    -65.2   \n",
       "...           ...      ...     ...    ...    ...     ...      ...   \n",
       "45711  Zillah 002    Valid   172.0  Found 1990.0    29.0     17.0   \n",
       "45712      Zinder    Valid    46.0  Found 1999.0    13.8      9.0   \n",
       "45713        Zlin    Valid     3.3  Found 1939.0    49.2     17.7   \n",
       "45714   Zubkovsky    Valid  2167.0  Found 2003.0    49.8     41.5   \n",
       "45715  Zulu Queen    Valid   200.0  Found 1976.0    34.0   -115.7   \n",
       "\n",
       "                    GeoLocation  fell  found  \n",
       "1        (56.183330, 10.233330)     1      0  \n",
       "3       (16.883330, -99.900000)     1      0  \n",
       "5        (32.100000, 71.800000)     1      0  \n",
       "7         (44.216670, 0.616670)     1      0  \n",
       "8      (-31.600000, -65.233330)     1      0  \n",
       "...                         ...   ...    ...  \n",
       "45711    (29.037000, 17.018500)     0      1  \n",
       "45712     (13.783330, 8.966670)     0      1  \n",
       "45713    (49.250000, 17.666670)     0      1  \n",
       "45714    (49.789170, 41.504600)     0      1  \n",
       "45715  (33.983330, -115.683330)     0      1  \n",
       "\n",
       "[45712 rows x 10 columns]"
      ],
      "text/html": "<div>\n<style scoped>\n    .dataframe tbody tr th:only-of-type {\n        vertical-align: middle;\n    }\n\n    .dataframe tbody tr th {\n        vertical-align: top;\n    }\n\n    .dataframe thead th {\n        text-align: right;\n    }\n</style>\n<table border=\"1\" class=\"dataframe\">\n  <thead>\n    <tr style=\"text-align: right;\">\n      <th></th>\n      <th>name</th>\n      <th>nametype</th>\n      <th>mass</th>\n      <th>fall</th>\n      <th>year</th>\n      <th>reclat</th>\n      <th>reclong</th>\n      <th>GeoLocation</th>\n      <th>fell</th>\n      <th>found</th>\n    </tr>\n  </thead>\n  <tbody>\n    <tr>\n      <th>1</th>\n      <td>Aarhus</td>\n      <td>Valid</td>\n      <td>720.0</td>\n      <td>Fell</td>\n      <td>1951.0</td>\n      <td>56.2</td>\n      <td>10.2</td>\n      <td>(56.183330, 10.233330)</td>\n      <td>1</td>\n      <td>0</td>\n    </tr>\n    <tr>\n      <th>3</th>\n      <td>Acapulco</td>\n      <td>Valid</td>\n      <td>1914.0</td>\n      <td>Fell</td>\n      <td>1976.0</td>\n      <td>16.9</td>\n      <td>-99.9</td>\n      <td>(16.883330, -99.900000)</td>\n      <td>1</td>\n      <td>0</td>\n    </tr>\n    <tr>\n      <th>5</th>\n      <td>Adhi Kot</td>\n      <td>Valid</td>\n      <td>4239.0</td>\n      <td>Fell</td>\n      <td>1919.0</td>\n      <td>32.1</td>\n      <td>71.8</td>\n      <td>(32.100000, 71.800000)</td>\n      <td>1</td>\n      <td>0</td>\n    </tr>\n    <tr>\n      <th>7</th>\n      <td>Agen</td>\n      <td>Valid</td>\n      <td>30000.0</td>\n      <td>Fell</td>\n      <td>1814.0</td>\n      <td>44.2</td>\n      <td>0.6</td>\n      <td>(44.216670, 0.616670)</td>\n      <td>1</td>\n      <td>0</td>\n    </tr>\n    <tr>\n      <th>8</th>\n      <td>Aguada</td>\n      <td>Valid</td>\n      <td>1620.0</td>\n      <td>Fell</td>\n      <td>1930.0</td>\n      <td>-31.6</td>\n      <td>-65.2</td>\n      <td>(-31.600000, -65.233330)</td>\n      <td>1</td>\n      <td>0</td>\n    </tr>\n    <tr>\n      <th>...</th>\n      <td>...</td>\n      <td>...</td>\n      <td>...</td>\n      <td>...</td>\n      <td>...</td>\n      <td>...</td>\n      <td>...</td>\n      <td>...</td>\n      <td>...</td>\n      <td>...</td>\n    </tr>\n    <tr>\n      <th>45711</th>\n      <td>Zillah 002</td>\n      <td>Valid</td>\n      <td>172.0</td>\n      <td>Found</td>\n      <td>1990.0</td>\n      <td>29.0</td>\n      <td>17.0</td>\n      <td>(29.037000, 17.018500)</td>\n      <td>0</td>\n      <td>1</td>\n    </tr>\n    <tr>\n      <th>45712</th>\n      <td>Zinder</td>\n      <td>Valid</td>\n      <td>46.0</td>\n      <td>Found</td>\n      <td>1999.0</td>\n      <td>13.8</td>\n      <td>9.0</td>\n      <td>(13.783330, 8.966670)</td>\n      <td>0</td>\n      <td>1</td>\n    </tr>\n    <tr>\n      <th>45713</th>\n      <td>Zlin</td>\n      <td>Valid</td>\n      <td>3.3</td>\n      <td>Found</td>\n      <td>1939.0</td>\n      <td>49.2</td>\n      <td>17.7</td>\n      <td>(49.250000, 17.666670)</td>\n      <td>0</td>\n      <td>1</td>\n    </tr>\n    <tr>\n      <th>45714</th>\n      <td>Zubkovsky</td>\n      <td>Valid</td>\n      <td>2167.0</td>\n      <td>Found</td>\n      <td>2003.0</td>\n      <td>49.8</td>\n      <td>41.5</td>\n      <td>(49.789170, 41.504600)</td>\n      <td>0</td>\n      <td>1</td>\n    </tr>\n    <tr>\n      <th>45715</th>\n      <td>Zulu Queen</td>\n      <td>Valid</td>\n      <td>200.0</td>\n      <td>Found</td>\n      <td>1976.0</td>\n      <td>34.0</td>\n      <td>-115.7</td>\n      <td>(33.983330, -115.683330)</td>\n      <td>0</td>\n      <td>1</td>\n    </tr>\n  </tbody>\n</table>\n<p>45712 rows × 10 columns</p>\n</div>"
     },
     "metadata": {},
     "execution_count": 41
    }
   ],
   "source": [
    "df_meteorites.drop(columns=['id','recclass'], index=[0,2,4,6]) # Eliminando columnas y index"
   ]
  },
  {
   "cell_type": "code",
   "execution_count": 42,
   "metadata": {},
   "outputs": [],
   "source": [
    "df_copia = df_meteorites.copy(deep=True) # Creando una copia de los datos pero con deep se debe indicar que es profunda con True ya que sino es asi solo guarda los datos simples y no todo"
   ]
  },
  {
   "cell_type": "code",
   "execution_count": 43,
   "metadata": {},
   "outputs": [
    {
     "output_type": "execute_result",
     "data": {
      "text/plain": [
       "             name     id nametype              recclass     mass   fall  \\\n",
       "0          Aachen      1    Valid                    L5     21.0   Fell   \n",
       "1          Aarhus      2    Valid                    H6    720.0   Fell   \n",
       "2            Abee      6    Valid                   EH4 107000.0   Fell   \n",
       "3        Acapulco     10    Valid           Acapulcoite   1914.0   Fell   \n",
       "4         Achiras    370    Valid                    L6    780.0   Fell   \n",
       "...           ...    ...      ...                   ...      ...    ...   \n",
       "45711  Zillah 002  31356    Valid               Eucrite    172.0  Found   \n",
       "45712      Zinder  30409    Valid  Pallasite, ungrouped     46.0  Found   \n",
       "45713        Zlin  30410    Valid                    H4      3.3  Found   \n",
       "45714   Zubkovsky  31357    Valid                    L6   2167.0  Found   \n",
       "45715  Zulu Queen  30414    Valid                  L3.7    200.0  Found   \n",
       "\n",
       "        year  reclat  reclong               GeoLocation  fell  found  \n",
       "0     1880.0    50.8      6.1     (50.775000, 6.083330)     1      0  \n",
       "1     1951.0    56.2     10.2    (56.183330, 10.233330)     1      0  \n",
       "2     1952.0    54.2   -113.0  (54.216670, -113.000000)     1      0  \n",
       "3     1976.0    16.9    -99.9   (16.883330, -99.900000)     1      0  \n",
       "4     1902.0   -33.2    -65.0  (-33.166670, -64.950000)     1      0  \n",
       "...      ...     ...      ...                       ...   ...    ...  \n",
       "45711 1990.0    29.0     17.0    (29.037000, 17.018500)     0      1  \n",
       "45712 1999.0    13.8      9.0     (13.783330, 8.966670)     0      1  \n",
       "45713 1939.0    49.2     17.7    (49.250000, 17.666670)     0      1  \n",
       "45714 2003.0    49.8     41.5    (49.789170, 41.504600)     0      1  \n",
       "45715 1976.0    34.0   -115.7  (33.983330, -115.683330)     0      1  \n",
       "\n",
       "[45716 rows x 12 columns]"
      ],
      "text/html": "<div>\n<style scoped>\n    .dataframe tbody tr th:only-of-type {\n        vertical-align: middle;\n    }\n\n    .dataframe tbody tr th {\n        vertical-align: top;\n    }\n\n    .dataframe thead th {\n        text-align: right;\n    }\n</style>\n<table border=\"1\" class=\"dataframe\">\n  <thead>\n    <tr style=\"text-align: right;\">\n      <th></th>\n      <th>name</th>\n      <th>id</th>\n      <th>nametype</th>\n      <th>recclass</th>\n      <th>mass</th>\n      <th>fall</th>\n      <th>year</th>\n      <th>reclat</th>\n      <th>reclong</th>\n      <th>GeoLocation</th>\n      <th>fell</th>\n      <th>found</th>\n    </tr>\n  </thead>\n  <tbody>\n    <tr>\n      <th>0</th>\n      <td>Aachen</td>\n      <td>1</td>\n      <td>Valid</td>\n      <td>L5</td>\n      <td>21.0</td>\n      <td>Fell</td>\n      <td>1880.0</td>\n      <td>50.8</td>\n      <td>6.1</td>\n      <td>(50.775000, 6.083330)</td>\n      <td>1</td>\n      <td>0</td>\n    </tr>\n    <tr>\n      <th>1</th>\n      <td>Aarhus</td>\n      <td>2</td>\n      <td>Valid</td>\n      <td>H6</td>\n      <td>720.0</td>\n      <td>Fell</td>\n      <td>1951.0</td>\n      <td>56.2</td>\n      <td>10.2</td>\n      <td>(56.183330, 10.233330)</td>\n      <td>1</td>\n      <td>0</td>\n    </tr>\n    <tr>\n      <th>2</th>\n      <td>Abee</td>\n      <td>6</td>\n      <td>Valid</td>\n      <td>EH4</td>\n      <td>107000.0</td>\n      <td>Fell</td>\n      <td>1952.0</td>\n      <td>54.2</td>\n      <td>-113.0</td>\n      <td>(54.216670, -113.000000)</td>\n      <td>1</td>\n      <td>0</td>\n    </tr>\n    <tr>\n      <th>3</th>\n      <td>Acapulco</td>\n      <td>10</td>\n      <td>Valid</td>\n      <td>Acapulcoite</td>\n      <td>1914.0</td>\n      <td>Fell</td>\n      <td>1976.0</td>\n      <td>16.9</td>\n      <td>-99.9</td>\n      <td>(16.883330, -99.900000)</td>\n      <td>1</td>\n      <td>0</td>\n    </tr>\n    <tr>\n      <th>4</th>\n      <td>Achiras</td>\n      <td>370</td>\n      <td>Valid</td>\n      <td>L6</td>\n      <td>780.0</td>\n      <td>Fell</td>\n      <td>1902.0</td>\n      <td>-33.2</td>\n      <td>-65.0</td>\n      <td>(-33.166670, -64.950000)</td>\n      <td>1</td>\n      <td>0</td>\n    </tr>\n    <tr>\n      <th>...</th>\n      <td>...</td>\n      <td>...</td>\n      <td>...</td>\n      <td>...</td>\n      <td>...</td>\n      <td>...</td>\n      <td>...</td>\n      <td>...</td>\n      <td>...</td>\n      <td>...</td>\n      <td>...</td>\n      <td>...</td>\n    </tr>\n    <tr>\n      <th>45711</th>\n      <td>Zillah 002</td>\n      <td>31356</td>\n      <td>Valid</td>\n      <td>Eucrite</td>\n      <td>172.0</td>\n      <td>Found</td>\n      <td>1990.0</td>\n      <td>29.0</td>\n      <td>17.0</td>\n      <td>(29.037000, 17.018500)</td>\n      <td>0</td>\n      <td>1</td>\n    </tr>\n    <tr>\n      <th>45712</th>\n      <td>Zinder</td>\n      <td>30409</td>\n      <td>Valid</td>\n      <td>Pallasite, ungrouped</td>\n      <td>46.0</td>\n      <td>Found</td>\n      <td>1999.0</td>\n      <td>13.8</td>\n      <td>9.0</td>\n      <td>(13.783330, 8.966670)</td>\n      <td>0</td>\n      <td>1</td>\n    </tr>\n    <tr>\n      <th>45713</th>\n      <td>Zlin</td>\n      <td>30410</td>\n      <td>Valid</td>\n      <td>H4</td>\n      <td>3.3</td>\n      <td>Found</td>\n      <td>1939.0</td>\n      <td>49.2</td>\n      <td>17.7</td>\n      <td>(49.250000, 17.666670)</td>\n      <td>0</td>\n      <td>1</td>\n    </tr>\n    <tr>\n      <th>45714</th>\n      <td>Zubkovsky</td>\n      <td>31357</td>\n      <td>Valid</td>\n      <td>L6</td>\n      <td>2167.0</td>\n      <td>Found</td>\n      <td>2003.0</td>\n      <td>49.8</td>\n      <td>41.5</td>\n      <td>(49.789170, 41.504600)</td>\n      <td>0</td>\n      <td>1</td>\n    </tr>\n    <tr>\n      <th>45715</th>\n      <td>Zulu Queen</td>\n      <td>30414</td>\n      <td>Valid</td>\n      <td>L3.7</td>\n      <td>200.0</td>\n      <td>Found</td>\n      <td>1976.0</td>\n      <td>34.0</td>\n      <td>-115.7</td>\n      <td>(33.983330, -115.683330)</td>\n      <td>0</td>\n      <td>1</td>\n    </tr>\n  </tbody>\n</table>\n<p>45716 rows × 12 columns</p>\n</div>"
     },
     "metadata": {},
     "execution_count": 43
    }
   ],
   "source": [
    "df_copia"
   ]
  },
  {
   "cell_type": "code",
   "execution_count": 47,
   "metadata": {},
   "outputs": [
    {
     "output_type": "error",
     "ename": "KeyError",
     "evalue": "\"['id'] not found in axis\"",
     "traceback": [
      "\u001b[1;31m---------------------------------------------------------------------------\u001b[0m",
      "\u001b[1;31mKeyError\u001b[0m                                  Traceback (most recent call last)",
      "\u001b[1;32m<ipython-input-47-6d633c737312>\u001b[0m in \u001b[0;36m<module>\u001b[1;34m\u001b[0m\n\u001b[1;32m----> 1\u001b[1;33m \u001b[0mdf_copia\u001b[0m\u001b[1;33m.\u001b[0m\u001b[0mdrop\u001b[0m\u001b[1;33m(\u001b[0m\u001b[1;33m[\u001b[0m\u001b[1;34m'id'\u001b[0m\u001b[1;33m]\u001b[0m\u001b[1;33m,\u001b[0m \u001b[0maxis\u001b[0m\u001b[1;33m=\u001b[0m \u001b[1;36m1\u001b[0m\u001b[1;33m,\u001b[0m\u001b[0minplace\u001b[0m\u001b[1;33m=\u001b[0m\u001b[1;32mTrue\u001b[0m\u001b[1;33m)\u001b[0m\u001b[1;33m\u001b[0m\u001b[1;33m\u001b[0m\u001b[0m\n\u001b[0m\u001b[0;32m      2\u001b[0m \u001b[0mdf_copia\u001b[0m\u001b[1;33m\u001b[0m\u001b[1;33m\u001b[0m\u001b[0m\n",
      "\u001b[1;32m~\\anaconda3\\lib\\site-packages\\pandas\\core\\frame.py\u001b[0m in \u001b[0;36mdrop\u001b[1;34m(self, labels, axis, index, columns, level, inplace, errors)\u001b[0m\n\u001b[0;32m   4306\u001b[0m                 \u001b[0mweight\u001b[0m  \u001b[1;36m1.0\u001b[0m     \u001b[1;36m0.8\u001b[0m\u001b[1;33m\u001b[0m\u001b[1;33m\u001b[0m\u001b[0m\n\u001b[0;32m   4307\u001b[0m         \"\"\"\n\u001b[1;32m-> 4308\u001b[1;33m         return super().drop(\n\u001b[0m\u001b[0;32m   4309\u001b[0m             \u001b[0mlabels\u001b[0m\u001b[1;33m=\u001b[0m\u001b[0mlabels\u001b[0m\u001b[1;33m,\u001b[0m\u001b[1;33m\u001b[0m\u001b[1;33m\u001b[0m\u001b[0m\n\u001b[0;32m   4310\u001b[0m             \u001b[0maxis\u001b[0m\u001b[1;33m=\u001b[0m\u001b[0maxis\u001b[0m\u001b[1;33m,\u001b[0m\u001b[1;33m\u001b[0m\u001b[1;33m\u001b[0m\u001b[0m\n",
      "\u001b[1;32m~\\anaconda3\\lib\\site-packages\\pandas\\core\\generic.py\u001b[0m in \u001b[0;36mdrop\u001b[1;34m(self, labels, axis, index, columns, level, inplace, errors)\u001b[0m\n\u001b[0;32m   4151\u001b[0m         \u001b[1;32mfor\u001b[0m \u001b[0maxis\u001b[0m\u001b[1;33m,\u001b[0m \u001b[0mlabels\u001b[0m \u001b[1;32min\u001b[0m \u001b[0maxes\u001b[0m\u001b[1;33m.\u001b[0m\u001b[0mitems\u001b[0m\u001b[1;33m(\u001b[0m\u001b[1;33m)\u001b[0m\u001b[1;33m:\u001b[0m\u001b[1;33m\u001b[0m\u001b[1;33m\u001b[0m\u001b[0m\n\u001b[0;32m   4152\u001b[0m             \u001b[1;32mif\u001b[0m \u001b[0mlabels\u001b[0m \u001b[1;32mis\u001b[0m \u001b[1;32mnot\u001b[0m \u001b[1;32mNone\u001b[0m\u001b[1;33m:\u001b[0m\u001b[1;33m\u001b[0m\u001b[1;33m\u001b[0m\u001b[0m\n\u001b[1;32m-> 4153\u001b[1;33m                 \u001b[0mobj\u001b[0m \u001b[1;33m=\u001b[0m \u001b[0mobj\u001b[0m\u001b[1;33m.\u001b[0m\u001b[0m_drop_axis\u001b[0m\u001b[1;33m(\u001b[0m\u001b[0mlabels\u001b[0m\u001b[1;33m,\u001b[0m \u001b[0maxis\u001b[0m\u001b[1;33m,\u001b[0m \u001b[0mlevel\u001b[0m\u001b[1;33m=\u001b[0m\u001b[0mlevel\u001b[0m\u001b[1;33m,\u001b[0m \u001b[0merrors\u001b[0m\u001b[1;33m=\u001b[0m\u001b[0merrors\u001b[0m\u001b[1;33m)\u001b[0m\u001b[1;33m\u001b[0m\u001b[1;33m\u001b[0m\u001b[0m\n\u001b[0m\u001b[0;32m   4154\u001b[0m \u001b[1;33m\u001b[0m\u001b[0m\n\u001b[0;32m   4155\u001b[0m         \u001b[1;32mif\u001b[0m \u001b[0minplace\u001b[0m\u001b[1;33m:\u001b[0m\u001b[1;33m\u001b[0m\u001b[1;33m\u001b[0m\u001b[0m\n",
      "\u001b[1;32m~\\anaconda3\\lib\\site-packages\\pandas\\core\\generic.py\u001b[0m in \u001b[0;36m_drop_axis\u001b[1;34m(self, labels, axis, level, errors)\u001b[0m\n\u001b[0;32m   4186\u001b[0m                 \u001b[0mnew_axis\u001b[0m \u001b[1;33m=\u001b[0m \u001b[0maxis\u001b[0m\u001b[1;33m.\u001b[0m\u001b[0mdrop\u001b[0m\u001b[1;33m(\u001b[0m\u001b[0mlabels\u001b[0m\u001b[1;33m,\u001b[0m \u001b[0mlevel\u001b[0m\u001b[1;33m=\u001b[0m\u001b[0mlevel\u001b[0m\u001b[1;33m,\u001b[0m \u001b[0merrors\u001b[0m\u001b[1;33m=\u001b[0m\u001b[0merrors\u001b[0m\u001b[1;33m)\u001b[0m\u001b[1;33m\u001b[0m\u001b[1;33m\u001b[0m\u001b[0m\n\u001b[0;32m   4187\u001b[0m             \u001b[1;32melse\u001b[0m\u001b[1;33m:\u001b[0m\u001b[1;33m\u001b[0m\u001b[1;33m\u001b[0m\u001b[0m\n\u001b[1;32m-> 4188\u001b[1;33m                 \u001b[0mnew_axis\u001b[0m \u001b[1;33m=\u001b[0m \u001b[0maxis\u001b[0m\u001b[1;33m.\u001b[0m\u001b[0mdrop\u001b[0m\u001b[1;33m(\u001b[0m\u001b[0mlabels\u001b[0m\u001b[1;33m,\u001b[0m \u001b[0merrors\u001b[0m\u001b[1;33m=\u001b[0m\u001b[0merrors\u001b[0m\u001b[1;33m)\u001b[0m\u001b[1;33m\u001b[0m\u001b[1;33m\u001b[0m\u001b[0m\n\u001b[0m\u001b[0;32m   4189\u001b[0m             \u001b[0mresult\u001b[0m \u001b[1;33m=\u001b[0m \u001b[0mself\u001b[0m\u001b[1;33m.\u001b[0m\u001b[0mreindex\u001b[0m\u001b[1;33m(\u001b[0m\u001b[1;33m**\u001b[0m\u001b[1;33m{\u001b[0m\u001b[0maxis_name\u001b[0m\u001b[1;33m:\u001b[0m \u001b[0mnew_axis\u001b[0m\u001b[1;33m}\u001b[0m\u001b[1;33m)\u001b[0m\u001b[1;33m\u001b[0m\u001b[1;33m\u001b[0m\u001b[0m\n\u001b[0;32m   4190\u001b[0m \u001b[1;33m\u001b[0m\u001b[0m\n",
      "\u001b[1;32m~\\anaconda3\\lib\\site-packages\\pandas\\core\\indexes\\base.py\u001b[0m in \u001b[0;36mdrop\u001b[1;34m(self, labels, errors)\u001b[0m\n\u001b[0;32m   5589\u001b[0m         \u001b[1;32mif\u001b[0m \u001b[0mmask\u001b[0m\u001b[1;33m.\u001b[0m\u001b[0many\u001b[0m\u001b[1;33m(\u001b[0m\u001b[1;33m)\u001b[0m\u001b[1;33m:\u001b[0m\u001b[1;33m\u001b[0m\u001b[1;33m\u001b[0m\u001b[0m\n\u001b[0;32m   5590\u001b[0m             \u001b[1;32mif\u001b[0m \u001b[0merrors\u001b[0m \u001b[1;33m!=\u001b[0m \u001b[1;34m\"ignore\"\u001b[0m\u001b[1;33m:\u001b[0m\u001b[1;33m\u001b[0m\u001b[1;33m\u001b[0m\u001b[0m\n\u001b[1;32m-> 5591\u001b[1;33m                 \u001b[1;32mraise\u001b[0m \u001b[0mKeyError\u001b[0m\u001b[1;33m(\u001b[0m\u001b[1;34mf\"{labels[mask]} not found in axis\"\u001b[0m\u001b[1;33m)\u001b[0m\u001b[1;33m\u001b[0m\u001b[1;33m\u001b[0m\u001b[0m\n\u001b[0m\u001b[0;32m   5592\u001b[0m             \u001b[0mindexer\u001b[0m \u001b[1;33m=\u001b[0m \u001b[0mindexer\u001b[0m\u001b[1;33m[\u001b[0m\u001b[1;33m~\u001b[0m\u001b[0mmask\u001b[0m\u001b[1;33m]\u001b[0m\u001b[1;33m\u001b[0m\u001b[1;33m\u001b[0m\u001b[0m\n\u001b[0;32m   5593\u001b[0m         \u001b[1;32mreturn\u001b[0m \u001b[0mself\u001b[0m\u001b[1;33m.\u001b[0m\u001b[0mdelete\u001b[0m\u001b[1;33m(\u001b[0m\u001b[0mindexer\u001b[0m\u001b[1;33m)\u001b[0m\u001b[1;33m\u001b[0m\u001b[1;33m\u001b[0m\u001b[0m\n",
      "\u001b[1;31mKeyError\u001b[0m: \"['id'] not found in axis\""
     ]
    }
   ],
   "source": [
    "df_copia.drop(['id'], axis= 1,inplace=True) # Eliminando de la copia datos \n"
   ]
  },
  {
   "cell_type": "code",
   "execution_count": 49,
   "metadata": {},
   "outputs": [
    {
     "output_type": "execute_result",
     "data": {
      "text/plain": [
       "             name nametype              recclass     mass   fall   year  \\\n",
       "0          Aachen    Valid                    L5     21.0   Fell 1880.0   \n",
       "1          Aarhus    Valid                    H6    720.0   Fell 1951.0   \n",
       "2            Abee    Valid                   EH4 107000.0   Fell 1952.0   \n",
       "3        Acapulco    Valid           Acapulcoite   1914.0   Fell 1976.0   \n",
       "4         Achiras    Valid                    L6    780.0   Fell 1902.0   \n",
       "...           ...      ...                   ...      ...    ...    ...   \n",
       "45711  Zillah 002    Valid               Eucrite    172.0  Found 1990.0   \n",
       "45712      Zinder    Valid  Pallasite, ungrouped     46.0  Found 1999.0   \n",
       "45713        Zlin    Valid                    H4      3.3  Found 1939.0   \n",
       "45714   Zubkovsky    Valid                    L6   2167.0  Found 2003.0   \n",
       "45715  Zulu Queen    Valid                  L3.7    200.0  Found 1976.0   \n",
       "\n",
       "       reclat  reclong               GeoLocation  fell  found  \n",
       "0        50.8      6.1     (50.775000, 6.083330)     1      0  \n",
       "1        56.2     10.2    (56.183330, 10.233330)     1      0  \n",
       "2        54.2   -113.0  (54.216670, -113.000000)     1      0  \n",
       "3        16.9    -99.9   (16.883330, -99.900000)     1      0  \n",
       "4       -33.2    -65.0  (-33.166670, -64.950000)     1      0  \n",
       "...       ...      ...                       ...   ...    ...  \n",
       "45711    29.0     17.0    (29.037000, 17.018500)     0      1  \n",
       "45712    13.8      9.0     (13.783330, 8.966670)     0      1  \n",
       "45713    49.2     17.7    (49.250000, 17.666670)     0      1  \n",
       "45714    49.8     41.5    (49.789170, 41.504600)     0      1  \n",
       "45715    34.0   -115.7  (33.983330, -115.683330)     0      1  \n",
       "\n",
       "[45716 rows x 11 columns]"
      ],
      "text/html": "<div>\n<style scoped>\n    .dataframe tbody tr th:only-of-type {\n        vertical-align: middle;\n    }\n\n    .dataframe tbody tr th {\n        vertical-align: top;\n    }\n\n    .dataframe thead th {\n        text-align: right;\n    }\n</style>\n<table border=\"1\" class=\"dataframe\">\n  <thead>\n    <tr style=\"text-align: right;\">\n      <th></th>\n      <th>name</th>\n      <th>nametype</th>\n      <th>recclass</th>\n      <th>mass</th>\n      <th>fall</th>\n      <th>year</th>\n      <th>reclat</th>\n      <th>reclong</th>\n      <th>GeoLocation</th>\n      <th>fell</th>\n      <th>found</th>\n    </tr>\n  </thead>\n  <tbody>\n    <tr>\n      <th>0</th>\n      <td>Aachen</td>\n      <td>Valid</td>\n      <td>L5</td>\n      <td>21.0</td>\n      <td>Fell</td>\n      <td>1880.0</td>\n      <td>50.8</td>\n      <td>6.1</td>\n      <td>(50.775000, 6.083330)</td>\n      <td>1</td>\n      <td>0</td>\n    </tr>\n    <tr>\n      <th>1</th>\n      <td>Aarhus</td>\n      <td>Valid</td>\n      <td>H6</td>\n      <td>720.0</td>\n      <td>Fell</td>\n      <td>1951.0</td>\n      <td>56.2</td>\n      <td>10.2</td>\n      <td>(56.183330, 10.233330)</td>\n      <td>1</td>\n      <td>0</td>\n    </tr>\n    <tr>\n      <th>2</th>\n      <td>Abee</td>\n      <td>Valid</td>\n      <td>EH4</td>\n      <td>107000.0</td>\n      <td>Fell</td>\n      <td>1952.0</td>\n      <td>54.2</td>\n      <td>-113.0</td>\n      <td>(54.216670, -113.000000)</td>\n      <td>1</td>\n      <td>0</td>\n    </tr>\n    <tr>\n      <th>3</th>\n      <td>Acapulco</td>\n      <td>Valid</td>\n      <td>Acapulcoite</td>\n      <td>1914.0</td>\n      <td>Fell</td>\n      <td>1976.0</td>\n      <td>16.9</td>\n      <td>-99.9</td>\n      <td>(16.883330, -99.900000)</td>\n      <td>1</td>\n      <td>0</td>\n    </tr>\n    <tr>\n      <th>4</th>\n      <td>Achiras</td>\n      <td>Valid</td>\n      <td>L6</td>\n      <td>780.0</td>\n      <td>Fell</td>\n      <td>1902.0</td>\n      <td>-33.2</td>\n      <td>-65.0</td>\n      <td>(-33.166670, -64.950000)</td>\n      <td>1</td>\n      <td>0</td>\n    </tr>\n    <tr>\n      <th>...</th>\n      <td>...</td>\n      <td>...</td>\n      <td>...</td>\n      <td>...</td>\n      <td>...</td>\n      <td>...</td>\n      <td>...</td>\n      <td>...</td>\n      <td>...</td>\n      <td>...</td>\n      <td>...</td>\n    </tr>\n    <tr>\n      <th>45711</th>\n      <td>Zillah 002</td>\n      <td>Valid</td>\n      <td>Eucrite</td>\n      <td>172.0</td>\n      <td>Found</td>\n      <td>1990.0</td>\n      <td>29.0</td>\n      <td>17.0</td>\n      <td>(29.037000, 17.018500)</td>\n      <td>0</td>\n      <td>1</td>\n    </tr>\n    <tr>\n      <th>45712</th>\n      <td>Zinder</td>\n      <td>Valid</td>\n      <td>Pallasite, ungrouped</td>\n      <td>46.0</td>\n      <td>Found</td>\n      <td>1999.0</td>\n      <td>13.8</td>\n      <td>9.0</td>\n      <td>(13.783330, 8.966670)</td>\n      <td>0</td>\n      <td>1</td>\n    </tr>\n    <tr>\n      <th>45713</th>\n      <td>Zlin</td>\n      <td>Valid</td>\n      <td>H4</td>\n      <td>3.3</td>\n      <td>Found</td>\n      <td>1939.0</td>\n      <td>49.2</td>\n      <td>17.7</td>\n      <td>(49.250000, 17.666670)</td>\n      <td>0</td>\n      <td>1</td>\n    </tr>\n    <tr>\n      <th>45714</th>\n      <td>Zubkovsky</td>\n      <td>Valid</td>\n      <td>L6</td>\n      <td>2167.0</td>\n      <td>Found</td>\n      <td>2003.0</td>\n      <td>49.8</td>\n      <td>41.5</td>\n      <td>(49.789170, 41.504600)</td>\n      <td>0</td>\n      <td>1</td>\n    </tr>\n    <tr>\n      <th>45715</th>\n      <td>Zulu Queen</td>\n      <td>Valid</td>\n      <td>L3.7</td>\n      <td>200.0</td>\n      <td>Found</td>\n      <td>1976.0</td>\n      <td>34.0</td>\n      <td>-115.7</td>\n      <td>(33.983330, -115.683330)</td>\n      <td>0</td>\n      <td>1</td>\n    </tr>\n  </tbody>\n</table>\n<p>45716 rows × 11 columns</p>\n</div>"
     },
     "metadata": {},
     "execution_count": 49
    }
   ],
   "source": [
    "df_copia"
   ]
  },
  {
   "cell_type": "code",
   "execution_count": 48,
   "metadata": {},
   "outputs": [
    {
     "output_type": "execute_result",
     "data": {
      "text/plain": [
       "             name     id nametype              recclass     mass   fall  \\\n",
       "0          Aachen      1    Valid                    L5     21.0   Fell   \n",
       "1          Aarhus      2    Valid                    H6    720.0   Fell   \n",
       "2            Abee      6    Valid                   EH4 107000.0   Fell   \n",
       "3        Acapulco     10    Valid           Acapulcoite   1914.0   Fell   \n",
       "4         Achiras    370    Valid                    L6    780.0   Fell   \n",
       "...           ...    ...      ...                   ...      ...    ...   \n",
       "45711  Zillah 002  31356    Valid               Eucrite    172.0  Found   \n",
       "45712      Zinder  30409    Valid  Pallasite, ungrouped     46.0  Found   \n",
       "45713        Zlin  30410    Valid                    H4      3.3  Found   \n",
       "45714   Zubkovsky  31357    Valid                    L6   2167.0  Found   \n",
       "45715  Zulu Queen  30414    Valid                  L3.7    200.0  Found   \n",
       "\n",
       "        year  reclat  reclong               GeoLocation  fell  found  \n",
       "0     1880.0    50.8      6.1     (50.775000, 6.083330)     1      0  \n",
       "1     1951.0    56.2     10.2    (56.183330, 10.233330)     1      0  \n",
       "2     1952.0    54.2   -113.0  (54.216670, -113.000000)     1      0  \n",
       "3     1976.0    16.9    -99.9   (16.883330, -99.900000)     1      0  \n",
       "4     1902.0   -33.2    -65.0  (-33.166670, -64.950000)     1      0  \n",
       "...      ...     ...      ...                       ...   ...    ...  \n",
       "45711 1990.0    29.0     17.0    (29.037000, 17.018500)     0      1  \n",
       "45712 1999.0    13.8      9.0     (13.783330, 8.966670)     0      1  \n",
       "45713 1939.0    49.2     17.7    (49.250000, 17.666670)     0      1  \n",
       "45714 2003.0    49.8     41.5    (49.789170, 41.504600)     0      1  \n",
       "45715 1976.0    34.0   -115.7  (33.983330, -115.683330)     0      1  \n",
       "\n",
       "[45716 rows x 12 columns]"
      ],
      "text/html": "<div>\n<style scoped>\n    .dataframe tbody tr th:only-of-type {\n        vertical-align: middle;\n    }\n\n    .dataframe tbody tr th {\n        vertical-align: top;\n    }\n\n    .dataframe thead th {\n        text-align: right;\n    }\n</style>\n<table border=\"1\" class=\"dataframe\">\n  <thead>\n    <tr style=\"text-align: right;\">\n      <th></th>\n      <th>name</th>\n      <th>id</th>\n      <th>nametype</th>\n      <th>recclass</th>\n      <th>mass</th>\n      <th>fall</th>\n      <th>year</th>\n      <th>reclat</th>\n      <th>reclong</th>\n      <th>GeoLocation</th>\n      <th>fell</th>\n      <th>found</th>\n    </tr>\n  </thead>\n  <tbody>\n    <tr>\n      <th>0</th>\n      <td>Aachen</td>\n      <td>1</td>\n      <td>Valid</td>\n      <td>L5</td>\n      <td>21.0</td>\n      <td>Fell</td>\n      <td>1880.0</td>\n      <td>50.8</td>\n      <td>6.1</td>\n      <td>(50.775000, 6.083330)</td>\n      <td>1</td>\n      <td>0</td>\n    </tr>\n    <tr>\n      <th>1</th>\n      <td>Aarhus</td>\n      <td>2</td>\n      <td>Valid</td>\n      <td>H6</td>\n      <td>720.0</td>\n      <td>Fell</td>\n      <td>1951.0</td>\n      <td>56.2</td>\n      <td>10.2</td>\n      <td>(56.183330, 10.233330)</td>\n      <td>1</td>\n      <td>0</td>\n    </tr>\n    <tr>\n      <th>2</th>\n      <td>Abee</td>\n      <td>6</td>\n      <td>Valid</td>\n      <td>EH4</td>\n      <td>107000.0</td>\n      <td>Fell</td>\n      <td>1952.0</td>\n      <td>54.2</td>\n      <td>-113.0</td>\n      <td>(54.216670, -113.000000)</td>\n      <td>1</td>\n      <td>0</td>\n    </tr>\n    <tr>\n      <th>3</th>\n      <td>Acapulco</td>\n      <td>10</td>\n      <td>Valid</td>\n      <td>Acapulcoite</td>\n      <td>1914.0</td>\n      <td>Fell</td>\n      <td>1976.0</td>\n      <td>16.9</td>\n      <td>-99.9</td>\n      <td>(16.883330, -99.900000)</td>\n      <td>1</td>\n      <td>0</td>\n    </tr>\n    <tr>\n      <th>4</th>\n      <td>Achiras</td>\n      <td>370</td>\n      <td>Valid</td>\n      <td>L6</td>\n      <td>780.0</td>\n      <td>Fell</td>\n      <td>1902.0</td>\n      <td>-33.2</td>\n      <td>-65.0</td>\n      <td>(-33.166670, -64.950000)</td>\n      <td>1</td>\n      <td>0</td>\n    </tr>\n    <tr>\n      <th>...</th>\n      <td>...</td>\n      <td>...</td>\n      <td>...</td>\n      <td>...</td>\n      <td>...</td>\n      <td>...</td>\n      <td>...</td>\n      <td>...</td>\n      <td>...</td>\n      <td>...</td>\n      <td>...</td>\n      <td>...</td>\n    </tr>\n    <tr>\n      <th>45711</th>\n      <td>Zillah 002</td>\n      <td>31356</td>\n      <td>Valid</td>\n      <td>Eucrite</td>\n      <td>172.0</td>\n      <td>Found</td>\n      <td>1990.0</td>\n      <td>29.0</td>\n      <td>17.0</td>\n      <td>(29.037000, 17.018500)</td>\n      <td>0</td>\n      <td>1</td>\n    </tr>\n    <tr>\n      <th>45712</th>\n      <td>Zinder</td>\n      <td>30409</td>\n      <td>Valid</td>\n      <td>Pallasite, ungrouped</td>\n      <td>46.0</td>\n      <td>Found</td>\n      <td>1999.0</td>\n      <td>13.8</td>\n      <td>9.0</td>\n      <td>(13.783330, 8.966670)</td>\n      <td>0</td>\n      <td>1</td>\n    </tr>\n    <tr>\n      <th>45713</th>\n      <td>Zlin</td>\n      <td>30410</td>\n      <td>Valid</td>\n      <td>H4</td>\n      <td>3.3</td>\n      <td>Found</td>\n      <td>1939.0</td>\n      <td>49.2</td>\n      <td>17.7</td>\n      <td>(49.250000, 17.666670)</td>\n      <td>0</td>\n      <td>1</td>\n    </tr>\n    <tr>\n      <th>45714</th>\n      <td>Zubkovsky</td>\n      <td>31357</td>\n      <td>Valid</td>\n      <td>L6</td>\n      <td>2167.0</td>\n      <td>Found</td>\n      <td>2003.0</td>\n      <td>49.8</td>\n      <td>41.5</td>\n      <td>(49.789170, 41.504600)</td>\n      <td>0</td>\n      <td>1</td>\n    </tr>\n    <tr>\n      <th>45715</th>\n      <td>Zulu Queen</td>\n      <td>30414</td>\n      <td>Valid</td>\n      <td>L3.7</td>\n      <td>200.0</td>\n      <td>Found</td>\n      <td>1976.0</td>\n      <td>34.0</td>\n      <td>-115.7</td>\n      <td>(33.983330, -115.683330)</td>\n      <td>0</td>\n      <td>1</td>\n    </tr>\n  </tbody>\n</table>\n<p>45716 rows × 12 columns</p>\n</div>"
     },
     "metadata": {},
     "execution_count": 48
    }
   ],
   "source": [
    "df_meteorites\n"
   ]
  },
  {
   "cell_type": "code",
   "execution_count": null,
   "metadata": {},
   "outputs": [],
   "source": []
  }
 ]
}