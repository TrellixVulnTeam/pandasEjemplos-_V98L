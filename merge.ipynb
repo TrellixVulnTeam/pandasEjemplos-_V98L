{
 "metadata": {
  "language_info": {
   "codemirror_mode": {
    "name": "ipython",
    "version": 3
   },
   "file_extension": ".py",
   "mimetype": "text/x-python",
   "name": "python",
   "nbconvert_exporter": "python",
   "pygments_lexer": "ipython3",
   "version": "3.8.3"
  },
  "orig_nbformat": 2,
  "kernelspec": {
   "name": "python383jvsc74a57bd0cc0f564a2842815ce2e202ab27614177d11b657bc1d48b3d4cc73b91c2a37dec",
   "display_name": "Python 3.8.3 64-bit ('base': conda)"
  }
 },
 "nbformat": 4,
 "nbformat_minor": 2,
 "cells": [
  {
   "source": [
    "# Merge de DataFrames (17/29)"
   ],
   "cell_type": "markdown",
   "metadata": {}
  },
  {
   "cell_type": "code",
   "execution_count": 15,
   "metadata": {},
   "outputs": [
    {
     "output_type": "execute_result",
     "data": {
      "text/plain": [
       "'1.2.4'"
      ]
     },
     "metadata": {},
     "execution_count": 15
    }
   ],
   "source": [
    "import pandas as pd \n",
    "pd.__version__"
   ]
  },
  {
   "cell_type": "code",
   "execution_count": 35,
   "metadata": {},
   "outputs": [],
   "source": [
    "df_left = pd.DataFrame(\n",
    "    {'X':['x0','x1','x2','x3'],\n",
    "    'W':['w0','w1','w2','w3'],\n",
    "    'Y':['y0','y1','y2','y3']},\n",
    "    #'Mix':['y2','y3','a2','a3']},\n",
    "    index=[0,1,2,3])\n",
    "    #index = ['y2','y3','a2','a3'])\n"
   ]
  },
  {
   "cell_type": "code",
   "execution_count": 36,
   "metadata": {},
   "outputs": [
    {
     "output_type": "execute_result",
     "data": {
      "text/plain": [
       "    X   W   Y\n",
       "0  x0  w0  y0\n",
       "1  x1  w1  y1\n",
       "2  x2  w2  y2\n",
       "3  x3  w3  y3"
      ],
      "text/html": "<div>\n<style scoped>\n    .dataframe tbody tr th:only-of-type {\n        vertical-align: middle;\n    }\n\n    .dataframe tbody tr th {\n        vertical-align: top;\n    }\n\n    .dataframe thead th {\n        text-align: right;\n    }\n</style>\n<table border=\"1\" class=\"dataframe\">\n  <thead>\n    <tr style=\"text-align: right;\">\n      <th></th>\n      <th>X</th>\n      <th>W</th>\n      <th>Y</th>\n    </tr>\n  </thead>\n  <tbody>\n    <tr>\n      <th>0</th>\n      <td>x0</td>\n      <td>w0</td>\n      <td>y0</td>\n    </tr>\n    <tr>\n      <th>1</th>\n      <td>x1</td>\n      <td>w1</td>\n      <td>y1</td>\n    </tr>\n    <tr>\n      <th>2</th>\n      <td>x2</td>\n      <td>w2</td>\n      <td>y2</td>\n    </tr>\n    <tr>\n      <th>3</th>\n      <td>x3</td>\n      <td>w3</td>\n      <td>y3</td>\n    </tr>\n  </tbody>\n</table>\n</div>"
     },
     "metadata": {},
     "execution_count": 36
    }
   ],
   "source": [
    "df_left"
   ]
  },
  {
   "cell_type": "code",
   "execution_count": 18,
   "metadata": {},
   "outputs": [],
   "source": [
    "df_right = pd.DataFrame(\n",
    "    {'Z':['z2','z3','z4','z5'],\n",
    "     'A':['a2','a3','a4','a5'],\n",
    "     'Y':['y2','y3','y4','y5']},\n",
    "    index = [2,3,4,5])"
   ]
  },
  {
   "cell_type": "code",
   "execution_count": 19,
   "metadata": {},
   "outputs": [
    {
     "output_type": "execute_result",
     "data": {
      "text/plain": [
       "    Z   A   Y\n",
       "2  z2  a2  y2\n",
       "3  z3  a3  y3\n",
       "4  z4  a4  y4\n",
       "5  z5  a5  y5"
      ],
      "text/html": "<div>\n<style scoped>\n    .dataframe tbody tr th:only-of-type {\n        vertical-align: middle;\n    }\n\n    .dataframe tbody tr th {\n        vertical-align: top;\n    }\n\n    .dataframe thead th {\n        text-align: right;\n    }\n</style>\n<table border=\"1\" class=\"dataframe\">\n  <thead>\n    <tr style=\"text-align: right;\">\n      <th></th>\n      <th>Z</th>\n      <th>A</th>\n      <th>Y</th>\n    </tr>\n  </thead>\n  <tbody>\n    <tr>\n      <th>2</th>\n      <td>z2</td>\n      <td>a2</td>\n      <td>y2</td>\n    </tr>\n    <tr>\n      <th>3</th>\n      <td>z3</td>\n      <td>a3</td>\n      <td>y3</td>\n    </tr>\n    <tr>\n      <th>4</th>\n      <td>z4</td>\n      <td>a4</td>\n      <td>y4</td>\n    </tr>\n    <tr>\n      <th>5</th>\n      <td>z5</td>\n      <td>a5</td>\n      <td>y5</td>\n    </tr>\n  </tbody>\n</table>\n</div>"
     },
     "metadata": {},
     "execution_count": 19
    }
   ],
   "source": [
    "df_right"
   ]
  },
  {
   "cell_type": "code",
   "execution_count": 20,
   "metadata": {},
   "outputs": [
    {
     "output_type": "execute_result",
     "data": {
      "text/plain": [
       "    X   W   Y Mix   Z   A\n",
       "0  x2  w2  y2  a2  z2  a2\n",
       "1  x3  w3  y3  a3  z3  a3"
      ],
      "text/html": "<div>\n<style scoped>\n    .dataframe tbody tr th:only-of-type {\n        vertical-align: middle;\n    }\n\n    .dataframe tbody tr th {\n        vertical-align: top;\n    }\n\n    .dataframe thead th {\n        text-align: right;\n    }\n</style>\n<table border=\"1\" class=\"dataframe\">\n  <thead>\n    <tr style=\"text-align: right;\">\n      <th></th>\n      <th>X</th>\n      <th>W</th>\n      <th>Y</th>\n      <th>Mix</th>\n      <th>Z</th>\n      <th>A</th>\n    </tr>\n  </thead>\n  <tbody>\n    <tr>\n      <th>0</th>\n      <td>x2</td>\n      <td>w2</td>\n      <td>y2</td>\n      <td>a2</td>\n      <td>z2</td>\n      <td>a2</td>\n    </tr>\n    <tr>\n      <th>1</th>\n      <td>x3</td>\n      <td>w3</td>\n      <td>y3</td>\n      <td>a3</td>\n      <td>z3</td>\n      <td>a3</td>\n    </tr>\n  </tbody>\n</table>\n</div>"
     },
     "metadata": {},
     "execution_count": 20
    }
   ],
   "source": [
    "pd.merge(df_left, df_right) # Unifica las dos bases con los datos que comparten"
   ]
  },
  {
   "cell_type": "code",
   "execution_count": 21,
   "metadata": {},
   "outputs": [
    {
     "output_type": "execute_result",
     "data": {
      "text/plain": [
       "    X   W   Y Mix   Z   A\n",
       "0  x2  w2  y2  a2  z2  a2\n",
       "1  x3  w3  y3  a3  z3  a3"
      ],
      "text/html": "<div>\n<style scoped>\n    .dataframe tbody tr th:only-of-type {\n        vertical-align: middle;\n    }\n\n    .dataframe tbody tr th {\n        vertical-align: top;\n    }\n\n    .dataframe thead th {\n        text-align: right;\n    }\n</style>\n<table border=\"1\" class=\"dataframe\">\n  <thead>\n    <tr style=\"text-align: right;\">\n      <th></th>\n      <th>X</th>\n      <th>W</th>\n      <th>Y</th>\n      <th>Mix</th>\n      <th>Z</th>\n      <th>A</th>\n    </tr>\n  </thead>\n  <tbody>\n    <tr>\n      <th>0</th>\n      <td>x2</td>\n      <td>w2</td>\n      <td>y2</td>\n      <td>a2</td>\n      <td>z2</td>\n      <td>a2</td>\n    </tr>\n    <tr>\n      <th>1</th>\n      <td>x3</td>\n      <td>w3</td>\n      <td>y3</td>\n      <td>a3</td>\n      <td>z3</td>\n      <td>a3</td>\n    </tr>\n  </tbody>\n</table>\n</div>"
     },
     "metadata": {},
     "execution_count": 21
    }
   ],
   "source": [
    "pd.merge(df_left, df_right, how='inner', on='Y') # Unifica las dos bases con los datos que comparten"
   ]
  },
  {
   "cell_type": "code",
   "execution_count": 23,
   "metadata": {},
   "outputs": [
    {
     "output_type": "execute_result",
     "data": {
      "text/plain": [
       "    X   W Y_x Mix   Z   A Y_y\n",
       "0  x0  w0  y0  y2  z2  a2  y2\n",
       "1  x1  w1  y1  y3  z3  a3  y3"
      ],
      "text/html": "<div>\n<style scoped>\n    .dataframe tbody tr th:only-of-type {\n        vertical-align: middle;\n    }\n\n    .dataframe tbody tr th {\n        vertical-align: top;\n    }\n\n    .dataframe thead th {\n        text-align: right;\n    }\n</style>\n<table border=\"1\" class=\"dataframe\">\n  <thead>\n    <tr style=\"text-align: right;\">\n      <th></th>\n      <th>X</th>\n      <th>W</th>\n      <th>Y_x</th>\n      <th>Mix</th>\n      <th>Z</th>\n      <th>A</th>\n      <th>Y_y</th>\n    </tr>\n  </thead>\n  <tbody>\n    <tr>\n      <th>0</th>\n      <td>x0</td>\n      <td>w0</td>\n      <td>y0</td>\n      <td>y2</td>\n      <td>z2</td>\n      <td>a2</td>\n      <td>y2</td>\n    </tr>\n    <tr>\n      <th>1</th>\n      <td>x1</td>\n      <td>w1</td>\n      <td>y1</td>\n      <td>y3</td>\n      <td>z3</td>\n      <td>a3</td>\n      <td>y3</td>\n    </tr>\n  </tbody>\n</table>\n</div>"
     },
     "metadata": {},
     "execution_count": 23
    }
   ],
   "source": [
    "pd.merge(df_left, df_right, how='inner', left_on='Mix', right_on='Y') # unir mix del primer df y Y del segundo df"
   ]
  },
  {
   "cell_type": "code",
   "execution_count": 24,
   "metadata": {},
   "outputs": [
    {
     "output_type": "execute_result",
     "data": {
      "text/plain": [
       "    X   W Y_x Mix   Z   A Y_y\n",
       "0  x2  w2  y2  a2  z2  a2  y2\n",
       "1  x3  w3  y3  a3  z3  a3  y3"
      ],
      "text/html": "<div>\n<style scoped>\n    .dataframe tbody tr th:only-of-type {\n        vertical-align: middle;\n    }\n\n    .dataframe tbody tr th {\n        vertical-align: top;\n    }\n\n    .dataframe thead th {\n        text-align: right;\n    }\n</style>\n<table border=\"1\" class=\"dataframe\">\n  <thead>\n    <tr style=\"text-align: right;\">\n      <th></th>\n      <th>X</th>\n      <th>W</th>\n      <th>Y_x</th>\n      <th>Mix</th>\n      <th>Z</th>\n      <th>A</th>\n      <th>Y_y</th>\n    </tr>\n  </thead>\n  <tbody>\n    <tr>\n      <th>0</th>\n      <td>x2</td>\n      <td>w2</td>\n      <td>y2</td>\n      <td>a2</td>\n      <td>z2</td>\n      <td>a2</td>\n      <td>y2</td>\n    </tr>\n    <tr>\n      <th>1</th>\n      <td>x3</td>\n      <td>w3</td>\n      <td>y3</td>\n      <td>a3</td>\n      <td>z3</td>\n      <td>a3</td>\n      <td>y3</td>\n    </tr>\n  </tbody>\n</table>\n</div>"
     },
     "metadata": {},
     "execution_count": 24
    }
   ],
   "source": [
    "pd.merge(df_left, df_right, how='inner', left_on='Mix', right_on='A') # unir mix del primer df y A del segundo df"
   ]
  },
  {
   "source": [
    "![](http://www.datasciencemadesimple.com/wp-content/uploads/2017/09/join-or-merge-in-python-pandas-1.png)"
   ],
   "cell_type": "markdown",
   "metadata": {}
  },
  {
   "cell_type": "code",
   "execution_count": 37,
   "metadata": {},
   "outputs": [
    {
     "output_type": "execute_result",
     "data": {
      "text/plain": [
       "    X   W   Y   Z   A\n",
       "0  x2  w2  y2  z2  a2\n",
       "1  x3  w3  y3  z3  a3"
      ],
      "text/html": "<div>\n<style scoped>\n    .dataframe tbody tr th:only-of-type {\n        vertical-align: middle;\n    }\n\n    .dataframe tbody tr th {\n        vertical-align: top;\n    }\n\n    .dataframe thead th {\n        text-align: right;\n    }\n</style>\n<table border=\"1\" class=\"dataframe\">\n  <thead>\n    <tr style=\"text-align: right;\">\n      <th></th>\n      <th>X</th>\n      <th>W</th>\n      <th>Y</th>\n      <th>Z</th>\n      <th>A</th>\n    </tr>\n  </thead>\n  <tbody>\n    <tr>\n      <th>0</th>\n      <td>x2</td>\n      <td>w2</td>\n      <td>y2</td>\n      <td>z2</td>\n      <td>a2</td>\n    </tr>\n    <tr>\n      <th>1</th>\n      <td>x3</td>\n      <td>w3</td>\n      <td>y3</td>\n      <td>z3</td>\n      <td>a3</td>\n    </tr>\n  </tbody>\n</table>\n</div>"
     },
     "metadata": {},
     "execution_count": 37
    }
   ],
   "source": [
    "pd.merge(df_left, df_right, how='inner', on='Y') # solo teniendo los datos que se tiene alguna informacion"
   ]
  },
  {
   "cell_type": "code",
   "execution_count": 38,
   "metadata": {},
   "outputs": [
    {
     "output_type": "execute_result",
     "data": {
      "text/plain": [
       "    X   W   Y    Z    A\n",
       "0  x0  w0  y0  NaN  NaN\n",
       "1  x1  w1  y1  NaN  NaN\n",
       "2  x2  w2  y2   z2   a2\n",
       "3  x3  w3  y3   z3   a3"
      ],
      "text/html": "<div>\n<style scoped>\n    .dataframe tbody tr th:only-of-type {\n        vertical-align: middle;\n    }\n\n    .dataframe tbody tr th {\n        vertical-align: top;\n    }\n\n    .dataframe thead th {\n        text-align: right;\n    }\n</style>\n<table border=\"1\" class=\"dataframe\">\n  <thead>\n    <tr style=\"text-align: right;\">\n      <th></th>\n      <th>X</th>\n      <th>W</th>\n      <th>Y</th>\n      <th>Z</th>\n      <th>A</th>\n    </tr>\n  </thead>\n  <tbody>\n    <tr>\n      <th>0</th>\n      <td>x0</td>\n      <td>w0</td>\n      <td>y0</td>\n      <td>NaN</td>\n      <td>NaN</td>\n    </tr>\n    <tr>\n      <th>1</th>\n      <td>x1</td>\n      <td>w1</td>\n      <td>y1</td>\n      <td>NaN</td>\n      <td>NaN</td>\n    </tr>\n    <tr>\n      <th>2</th>\n      <td>x2</td>\n      <td>w2</td>\n      <td>y2</td>\n      <td>z2</td>\n      <td>a2</td>\n    </tr>\n    <tr>\n      <th>3</th>\n      <td>x3</td>\n      <td>w3</td>\n      <td>y3</td>\n      <td>z3</td>\n      <td>a3</td>\n    </tr>\n  </tbody>\n</table>\n</div>"
     },
     "metadata": {},
     "execution_count": 38
    }
   ],
   "source": [
    "pd.merge(df_left, df_right, how='left', on='Y') # Manteniendo los datos de la izquierda y agregando los de la derecha "
   ]
  },
  {
   "cell_type": "code",
   "execution_count": 40,
   "metadata": {},
   "outputs": [
    {
     "output_type": "execute_result",
     "data": {
      "text/plain": [
       "     X    W   Y   Z   A\n",
       "0   x2   w2  y2  z2  a2\n",
       "1   x3   w3  y3  z3  a3\n",
       "2  NaN  NaN  y4  z4  a4\n",
       "3  NaN  NaN  y5  z5  a5"
      ],
      "text/html": "<div>\n<style scoped>\n    .dataframe tbody tr th:only-of-type {\n        vertical-align: middle;\n    }\n\n    .dataframe tbody tr th {\n        vertical-align: top;\n    }\n\n    .dataframe thead th {\n        text-align: right;\n    }\n</style>\n<table border=\"1\" class=\"dataframe\">\n  <thead>\n    <tr style=\"text-align: right;\">\n      <th></th>\n      <th>X</th>\n      <th>W</th>\n      <th>Y</th>\n      <th>Z</th>\n      <th>A</th>\n    </tr>\n  </thead>\n  <tbody>\n    <tr>\n      <th>0</th>\n      <td>x2</td>\n      <td>w2</td>\n      <td>y2</td>\n      <td>z2</td>\n      <td>a2</td>\n    </tr>\n    <tr>\n      <th>1</th>\n      <td>x3</td>\n      <td>w3</td>\n      <td>y3</td>\n      <td>z3</td>\n      <td>a3</td>\n    </tr>\n    <tr>\n      <th>2</th>\n      <td>NaN</td>\n      <td>NaN</td>\n      <td>y4</td>\n      <td>z4</td>\n      <td>a4</td>\n    </tr>\n    <tr>\n      <th>3</th>\n      <td>NaN</td>\n      <td>NaN</td>\n      <td>y5</td>\n      <td>z5</td>\n      <td>a5</td>\n    </tr>\n  </tbody>\n</table>\n</div>"
     },
     "metadata": {},
     "execution_count": 40
    }
   ],
   "source": [
    "pd.merge(df_left, df_right, how='right', on='Y')# Manteniedo los datos de la derecha y agregando los de izquierda"
   ]
  },
  {
   "cell_type": "code",
   "execution_count": 41,
   "metadata": {},
   "outputs": [
    {
     "output_type": "execute_result",
     "data": {
      "text/plain": [
       "     X    W   Y    Z    A\n",
       "0   x0   w0  y0  NaN  NaN\n",
       "1   x1   w1  y1  NaN  NaN\n",
       "2   x2   w2  y2   z2   a2\n",
       "3   x3   w3  y3   z3   a3\n",
       "4  NaN  NaN  y4   z4   a4\n",
       "5  NaN  NaN  y5   z5   a5"
      ],
      "text/html": "<div>\n<style scoped>\n    .dataframe tbody tr th:only-of-type {\n        vertical-align: middle;\n    }\n\n    .dataframe tbody tr th {\n        vertical-align: top;\n    }\n\n    .dataframe thead th {\n        text-align: right;\n    }\n</style>\n<table border=\"1\" class=\"dataframe\">\n  <thead>\n    <tr style=\"text-align: right;\">\n      <th></th>\n      <th>X</th>\n      <th>W</th>\n      <th>Y</th>\n      <th>Z</th>\n      <th>A</th>\n    </tr>\n  </thead>\n  <tbody>\n    <tr>\n      <th>0</th>\n      <td>x0</td>\n      <td>w0</td>\n      <td>y0</td>\n      <td>NaN</td>\n      <td>NaN</td>\n    </tr>\n    <tr>\n      <th>1</th>\n      <td>x1</td>\n      <td>w1</td>\n      <td>y1</td>\n      <td>NaN</td>\n      <td>NaN</td>\n    </tr>\n    <tr>\n      <th>2</th>\n      <td>x2</td>\n      <td>w2</td>\n      <td>y2</td>\n      <td>z2</td>\n      <td>a2</td>\n    </tr>\n    <tr>\n      <th>3</th>\n      <td>x3</td>\n      <td>w3</td>\n      <td>y3</td>\n      <td>z3</td>\n      <td>a3</td>\n    </tr>\n    <tr>\n      <th>4</th>\n      <td>NaN</td>\n      <td>NaN</td>\n      <td>y4</td>\n      <td>z4</td>\n      <td>a4</td>\n    </tr>\n    <tr>\n      <th>5</th>\n      <td>NaN</td>\n      <td>NaN</td>\n      <td>y5</td>\n      <td>z5</td>\n      <td>a5</td>\n    </tr>\n  </tbody>\n</table>\n</div>"
     },
     "metadata": {},
     "execution_count": 41
    }
   ],
   "source": [
    "pd.merge(df_left, df_right, how='outer', on='Y') # Manteniendo todos los datos de ambos df"
   ]
  },
  {
   "cell_type": "code",
   "execution_count": 42,
   "metadata": {},
   "outputs": [
    {
     "output_type": "execute_result",
     "data": {
      "text/plain": [
       "    X   W   Y   A\n",
       "0  x0  w0  y0  a0\n",
       "1  x1  w1  y1  a1\n",
       "2  x2  w2  y2  a2\n",
       "3  x3  w3  y3  a3"
      ],
      "text/html": "<div>\n<style scoped>\n    .dataframe tbody tr th:only-of-type {\n        vertical-align: middle;\n    }\n\n    .dataframe tbody tr th {\n        vertical-align: top;\n    }\n\n    .dataframe thead th {\n        text-align: right;\n    }\n</style>\n<table border=\"1\" class=\"dataframe\">\n  <thead>\n    <tr style=\"text-align: right;\">\n      <th></th>\n      <th>X</th>\n      <th>W</th>\n      <th>Y</th>\n      <th>A</th>\n    </tr>\n  </thead>\n  <tbody>\n    <tr>\n      <th>0</th>\n      <td>x0</td>\n      <td>w0</td>\n      <td>y0</td>\n      <td>a0</td>\n    </tr>\n    <tr>\n      <th>1</th>\n      <td>x1</td>\n      <td>w1</td>\n      <td>y1</td>\n      <td>a1</td>\n    </tr>\n    <tr>\n      <th>2</th>\n      <td>x2</td>\n      <td>w2</td>\n      <td>y2</td>\n      <td>a2</td>\n    </tr>\n    <tr>\n      <th>3</th>\n      <td>x3</td>\n      <td>w3</td>\n      <td>y3</td>\n      <td>a3</td>\n    </tr>\n  </tbody>\n</table>\n</div>"
     },
     "metadata": {},
     "execution_count": 42
    }
   ],
   "source": [
    "df_left = pd.DataFrame(\n",
    "                      {'X': ['x0', 'x1', 'x2', 'x3'],\n",
    "                        'W': ['w0', 'w1', 'w2', 'w3'], \n",
    "                        'Y': ['y0', 'y1', 'y2', 'y3'],\n",
    "                        'A': ['a0', 'a1', 'a2', 'a3'],})\n",
    "df_left"
   ]
  },
  {
   "cell_type": "code",
   "execution_count": 43,
   "metadata": {},
   "outputs": [
    {
     "output_type": "execute_result",
     "data": {
      "text/plain": [
       "    Z   A   Y\n",
       "2  z2  a2  y2\n",
       "3  z3  a3  y3\n",
       "4  z4  a4  y4\n",
       "5  z5  a5  y5"
      ],
      "text/html": "<div>\n<style scoped>\n    .dataframe tbody tr th:only-of-type {\n        vertical-align: middle;\n    }\n\n    .dataframe tbody tr th {\n        vertical-align: top;\n    }\n\n    .dataframe thead th {\n        text-align: right;\n    }\n</style>\n<table border=\"1\" class=\"dataframe\">\n  <thead>\n    <tr style=\"text-align: right;\">\n      <th></th>\n      <th>Z</th>\n      <th>A</th>\n      <th>Y</th>\n    </tr>\n  </thead>\n  <tbody>\n    <tr>\n      <th>2</th>\n      <td>z2</td>\n      <td>a2</td>\n      <td>y2</td>\n    </tr>\n    <tr>\n      <th>3</th>\n      <td>z3</td>\n      <td>a3</td>\n      <td>y3</td>\n    </tr>\n    <tr>\n      <th>4</th>\n      <td>z4</td>\n      <td>a4</td>\n      <td>y4</td>\n    </tr>\n    <tr>\n      <th>5</th>\n      <td>z5</td>\n      <td>a5</td>\n      <td>y5</td>\n    </tr>\n  </tbody>\n</table>\n</div>"
     },
     "metadata": {},
     "execution_count": 43
    }
   ],
   "source": [
    "df_right"
   ]
  },
  {
   "cell_type": "code",
   "execution_count": 45,
   "metadata": {},
   "outputs": [
    {
     "output_type": "execute_result",
     "data": {
      "text/plain": [
       "     X    W   Y   A    Z\n",
       "0   x0   w0  y0  a0  NaN\n",
       "1   x1   w1  y1  a1  NaN\n",
       "2   x2   w2  y2  a2   z2\n",
       "3   x3   w3  y3  a3   z3\n",
       "4  NaN  NaN  y4  a4   z4\n",
       "5  NaN  NaN  y5  a5   z5"
      ],
      "text/html": "<div>\n<style scoped>\n    .dataframe tbody tr th:only-of-type {\n        vertical-align: middle;\n    }\n\n    .dataframe tbody tr th {\n        vertical-align: top;\n    }\n\n    .dataframe thead th {\n        text-align: right;\n    }\n</style>\n<table border=\"1\" class=\"dataframe\">\n  <thead>\n    <tr style=\"text-align: right;\">\n      <th></th>\n      <th>X</th>\n      <th>W</th>\n      <th>Y</th>\n      <th>A</th>\n      <th>Z</th>\n    </tr>\n  </thead>\n  <tbody>\n    <tr>\n      <th>0</th>\n      <td>x0</td>\n      <td>w0</td>\n      <td>y0</td>\n      <td>a0</td>\n      <td>NaN</td>\n    </tr>\n    <tr>\n      <th>1</th>\n      <td>x1</td>\n      <td>w1</td>\n      <td>y1</td>\n      <td>a1</td>\n      <td>NaN</td>\n    </tr>\n    <tr>\n      <th>2</th>\n      <td>x2</td>\n      <td>w2</td>\n      <td>y2</td>\n      <td>a2</td>\n      <td>z2</td>\n    </tr>\n    <tr>\n      <th>3</th>\n      <td>x3</td>\n      <td>w3</td>\n      <td>y3</td>\n      <td>a3</td>\n      <td>z3</td>\n    </tr>\n    <tr>\n      <th>4</th>\n      <td>NaN</td>\n      <td>NaN</td>\n      <td>y4</td>\n      <td>a4</td>\n      <td>z4</td>\n    </tr>\n    <tr>\n      <th>5</th>\n      <td>NaN</td>\n      <td>NaN</td>\n      <td>y5</td>\n      <td>a5</td>\n      <td>z5</td>\n    </tr>\n  </tbody>\n</table>\n</div>"
     },
     "metadata": {},
     "execution_count": 45
    }
   ],
   "source": [
    "pd.merge(df_left, df_right, how='outer', on=['Y','A'])"
   ]
  },
  {
   "cell_type": "code",
   "execution_count": 44,
   "metadata": {},
   "outputs": [
    {
     "output_type": "execute_result",
     "data": {
      "text/plain": [
       "     X    W Y_left   A    Z Y_right\n",
       "0   x0   w0     y0  a0  NaN     NaN\n",
       "1   x1   w1     y1  a1  NaN     NaN\n",
       "2   x2   w2     y2  a2   z2      y2\n",
       "3   x3   w3     y3  a3   z3      y3\n",
       "4  NaN  NaN    NaN  a4   z4      y4\n",
       "5  NaN  NaN    NaN  a5   z5      y5"
      ],
      "text/html": "<div>\n<style scoped>\n    .dataframe tbody tr th:only-of-type {\n        vertical-align: middle;\n    }\n\n    .dataframe tbody tr th {\n        vertical-align: top;\n    }\n\n    .dataframe thead th {\n        text-align: right;\n    }\n</style>\n<table border=\"1\" class=\"dataframe\">\n  <thead>\n    <tr style=\"text-align: right;\">\n      <th></th>\n      <th>X</th>\n      <th>W</th>\n      <th>Y_left</th>\n      <th>A</th>\n      <th>Z</th>\n      <th>Y_right</th>\n    </tr>\n  </thead>\n  <tbody>\n    <tr>\n      <th>0</th>\n      <td>x0</td>\n      <td>w0</td>\n      <td>y0</td>\n      <td>a0</td>\n      <td>NaN</td>\n      <td>NaN</td>\n    </tr>\n    <tr>\n      <th>1</th>\n      <td>x1</td>\n      <td>w1</td>\n      <td>y1</td>\n      <td>a1</td>\n      <td>NaN</td>\n      <td>NaN</td>\n    </tr>\n    <tr>\n      <th>2</th>\n      <td>x2</td>\n      <td>w2</td>\n      <td>y2</td>\n      <td>a2</td>\n      <td>z2</td>\n      <td>y2</td>\n    </tr>\n    <tr>\n      <th>3</th>\n      <td>x3</td>\n      <td>w3</td>\n      <td>y3</td>\n      <td>a3</td>\n      <td>z3</td>\n      <td>y3</td>\n    </tr>\n    <tr>\n      <th>4</th>\n      <td>NaN</td>\n      <td>NaN</td>\n      <td>NaN</td>\n      <td>a4</td>\n      <td>z4</td>\n      <td>y4</td>\n    </tr>\n    <tr>\n      <th>5</th>\n      <td>NaN</td>\n      <td>NaN</td>\n      <td>NaN</td>\n      <td>a5</td>\n      <td>z5</td>\n      <td>y5</td>\n    </tr>\n  </tbody>\n</table>\n</div>"
     },
     "metadata": {},
     "execution_count": 44
    }
   ],
   "source": [
    "pd.merge(df_left, df_right, how ='outer', on = 'A', suffixes=['_left','_right']) "
   ]
  },
  {
   "cell_type": "code",
   "execution_count": null,
   "metadata": {},
   "outputs": [],
   "source": []
  }
 ]
}