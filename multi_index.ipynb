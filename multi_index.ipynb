{
 "metadata": {
  "language_info": {
   "codemirror_mode": {
    "name": "ipython",
    "version": 3
   },
   "file_extension": ".py",
   "mimetype": "text/x-python",
   "name": "python",
   "nbconvert_exporter": "python",
   "pygments_lexer": "ipython3",
   "version": "3.8.3"
  },
  "orig_nbformat": 2,
  "kernelspec": {
   "name": "python38364bitbaseconda902a004abced4d1792d46ccdaab1e3da",
   "display_name": "Python 3.8.3 64-bit ('base': conda)"
  },
  "metadata": {
   "interpreter": {
    "hash": "cc0f564a2842815ce2e202ab27614177d11b657bc1d48b3d4cc73b91c2a37dec"
   }
  }
 },
 "nbformat": 4,
 "nbformat_minor": 2,
 "cells": [
  {
   "source": [
    "# Múltiples índices (14/29)"
   ],
   "cell_type": "markdown",
   "metadata": {}
  },
  {
   "cell_type": "code",
   "execution_count": 1,
   "metadata": {},
   "outputs": [],
   "source": [
    "import pandas as pd \n",
    "import numpy as np \n"
   ]
  },
  {
   "cell_type": "code",
   "execution_count": 11,
   "metadata": {},
   "outputs": [
    {
     "output_type": "execute_result",
     "data": {
      "text/plain": [
       "     Country Name Country Code     Indicator Name Indicator Code        1960  \\\n",
       "0           Aruba          ABW  Population, total    SP.POP.TOTL     54211.0   \n",
       "1     Afghanistan          AFG  Population, total    SP.POP.TOTL   8996973.0   \n",
       "2          Angola          AGO  Population, total    SP.POP.TOTL   5454933.0   \n",
       "3         Albania          ALB  Population, total    SP.POP.TOTL   1608800.0   \n",
       "4         Andorra          AND  Population, total    SP.POP.TOTL     13411.0   \n",
       "..            ...          ...                ...            ...         ...   \n",
       "259        Kosovo          XKX  Population, total    SP.POP.TOTL    947000.0   \n",
       "260   Yemen, Rep.          YEM  Population, total    SP.POP.TOTL   5315355.0   \n",
       "261  South Africa          ZAF  Population, total    SP.POP.TOTL  17099840.0   \n",
       "262        Zambia          ZMB  Population, total    SP.POP.TOTL   3070776.0   \n",
       "263      Zimbabwe          ZWE  Population, total    SP.POP.TOTL   3776681.0   \n",
       "\n",
       "           1961        1962        1963        1964        1965  ...  \\\n",
       "0       55438.0     56225.0     56695.0     57032.0     57360.0  ...   \n",
       "1     9169410.0   9351441.0   9543205.0   9744781.0   9956320.0  ...   \n",
       "2     5531472.0   5608539.0   5679458.0   5735044.0   5770570.0  ...   \n",
       "3     1659800.0   1711319.0   1762621.0   1814135.0   1864791.0  ...   \n",
       "4       14375.0     15370.0     16412.0     17469.0     18549.0  ...   \n",
       "..          ...         ...         ...         ...         ...  ...   \n",
       "259    966000.0    994000.0   1022000.0   1050000.0   1078000.0  ...   \n",
       "260   5393036.0   5473671.0   5556766.0   5641597.0   5727751.0  ...   \n",
       "261  17524533.0  17965725.0  18423161.0  18896307.0  19384841.0  ...   \n",
       "262   3164329.0   3260650.0   3360104.0   3463213.0   3570464.0  ...   \n",
       "263   3905034.0   4039201.0   4178726.0   4322861.0   4471177.0  ...   \n",
       "\n",
       "           2012        2013        2014        2015        2016        2017  \\\n",
       "0      102560.0    103159.0    103774.0    104341.0    104872.0    105366.0   \n",
       "1    31161376.0  32269589.0  33370794.0  34413603.0  35383128.0  36296400.0   \n",
       "2    25107931.0  26015780.0  26941779.0  27884381.0  28842484.0  29816748.0   \n",
       "3     2900401.0   2895092.0   2889104.0   2880703.0   2876101.0   2873457.0   \n",
       "4       82427.0     80774.0     79213.0     78011.0     77297.0     77001.0   \n",
       "..          ...         ...         ...         ...         ...         ...   \n",
       "259   1807106.0   1818117.0   1812771.0   1788196.0   1777557.0   1791003.0   \n",
       "260  24473178.0  25147109.0  25823485.0  26497889.0  27168210.0  27834821.0   \n",
       "261  52834005.0  53689236.0  54545991.0  55386367.0  56203654.0  57000451.0   \n",
       "262  14465121.0  14926504.0  15399753.0  15879361.0  16363507.0  16853688.0   \n",
       "263  13115131.0  13350356.0  13586681.0  13814629.0  14030390.0  14236745.0   \n",
       "\n",
       "           2018        2019  2020  Unnamed: 65  \n",
       "0      105845.0    106314.0   NaN          NaN  \n",
       "1    37172386.0  38041754.0   NaN          NaN  \n",
       "2    30809762.0  31825295.0   NaN          NaN  \n",
       "3     2866376.0   2854191.0   NaN          NaN  \n",
       "4       77006.0     77142.0   NaN          NaN  \n",
       "..          ...         ...   ...          ...  \n",
       "259   1797085.0   1794248.0   NaN          NaN  \n",
       "260  28498687.0  29161922.0   NaN          NaN  \n",
       "261  57779622.0  58558270.0   NaN          NaN  \n",
       "262  17351822.0  17861030.0   NaN          NaN  \n",
       "263  14439018.0  14645468.0   NaN          NaN  \n",
       "\n",
       "[264 rows x 66 columns]"
      ],
      "text/html": "<div>\n<style scoped>\n    .dataframe tbody tr th:only-of-type {\n        vertical-align: middle;\n    }\n\n    .dataframe tbody tr th {\n        vertical-align: top;\n    }\n\n    .dataframe thead th {\n        text-align: right;\n    }\n</style>\n<table border=\"1\" class=\"dataframe\">\n  <thead>\n    <tr style=\"text-align: right;\">\n      <th></th>\n      <th>Country Name</th>\n      <th>Country Code</th>\n      <th>Indicator Name</th>\n      <th>Indicator Code</th>\n      <th>1960</th>\n      <th>1961</th>\n      <th>1962</th>\n      <th>1963</th>\n      <th>1964</th>\n      <th>1965</th>\n      <th>...</th>\n      <th>2012</th>\n      <th>2013</th>\n      <th>2014</th>\n      <th>2015</th>\n      <th>2016</th>\n      <th>2017</th>\n      <th>2018</th>\n      <th>2019</th>\n      <th>2020</th>\n      <th>Unnamed: 65</th>\n    </tr>\n  </thead>\n  <tbody>\n    <tr>\n      <th>0</th>\n      <td>Aruba</td>\n      <td>ABW</td>\n      <td>Population, total</td>\n      <td>SP.POP.TOTL</td>\n      <td>54211.0</td>\n      <td>55438.0</td>\n      <td>56225.0</td>\n      <td>56695.0</td>\n      <td>57032.0</td>\n      <td>57360.0</td>\n      <td>...</td>\n      <td>102560.0</td>\n      <td>103159.0</td>\n      <td>103774.0</td>\n      <td>104341.0</td>\n      <td>104872.0</td>\n      <td>105366.0</td>\n      <td>105845.0</td>\n      <td>106314.0</td>\n      <td>NaN</td>\n      <td>NaN</td>\n    </tr>\n    <tr>\n      <th>1</th>\n      <td>Afghanistan</td>\n      <td>AFG</td>\n      <td>Population, total</td>\n      <td>SP.POP.TOTL</td>\n      <td>8996973.0</td>\n      <td>9169410.0</td>\n      <td>9351441.0</td>\n      <td>9543205.0</td>\n      <td>9744781.0</td>\n      <td>9956320.0</td>\n      <td>...</td>\n      <td>31161376.0</td>\n      <td>32269589.0</td>\n      <td>33370794.0</td>\n      <td>34413603.0</td>\n      <td>35383128.0</td>\n      <td>36296400.0</td>\n      <td>37172386.0</td>\n      <td>38041754.0</td>\n      <td>NaN</td>\n      <td>NaN</td>\n    </tr>\n    <tr>\n      <th>2</th>\n      <td>Angola</td>\n      <td>AGO</td>\n      <td>Population, total</td>\n      <td>SP.POP.TOTL</td>\n      <td>5454933.0</td>\n      <td>5531472.0</td>\n      <td>5608539.0</td>\n      <td>5679458.0</td>\n      <td>5735044.0</td>\n      <td>5770570.0</td>\n      <td>...</td>\n      <td>25107931.0</td>\n      <td>26015780.0</td>\n      <td>26941779.0</td>\n      <td>27884381.0</td>\n      <td>28842484.0</td>\n      <td>29816748.0</td>\n      <td>30809762.0</td>\n      <td>31825295.0</td>\n      <td>NaN</td>\n      <td>NaN</td>\n    </tr>\n    <tr>\n      <th>3</th>\n      <td>Albania</td>\n      <td>ALB</td>\n      <td>Population, total</td>\n      <td>SP.POP.TOTL</td>\n      <td>1608800.0</td>\n      <td>1659800.0</td>\n      <td>1711319.0</td>\n      <td>1762621.0</td>\n      <td>1814135.0</td>\n      <td>1864791.0</td>\n      <td>...</td>\n      <td>2900401.0</td>\n      <td>2895092.0</td>\n      <td>2889104.0</td>\n      <td>2880703.0</td>\n      <td>2876101.0</td>\n      <td>2873457.0</td>\n      <td>2866376.0</td>\n      <td>2854191.0</td>\n      <td>NaN</td>\n      <td>NaN</td>\n    </tr>\n    <tr>\n      <th>4</th>\n      <td>Andorra</td>\n      <td>AND</td>\n      <td>Population, total</td>\n      <td>SP.POP.TOTL</td>\n      <td>13411.0</td>\n      <td>14375.0</td>\n      <td>15370.0</td>\n      <td>16412.0</td>\n      <td>17469.0</td>\n      <td>18549.0</td>\n      <td>...</td>\n      <td>82427.0</td>\n      <td>80774.0</td>\n      <td>79213.0</td>\n      <td>78011.0</td>\n      <td>77297.0</td>\n      <td>77001.0</td>\n      <td>77006.0</td>\n      <td>77142.0</td>\n      <td>NaN</td>\n      <td>NaN</td>\n    </tr>\n    <tr>\n      <th>...</th>\n      <td>...</td>\n      <td>...</td>\n      <td>...</td>\n      <td>...</td>\n      <td>...</td>\n      <td>...</td>\n      <td>...</td>\n      <td>...</td>\n      <td>...</td>\n      <td>...</td>\n      <td>...</td>\n      <td>...</td>\n      <td>...</td>\n      <td>...</td>\n      <td>...</td>\n      <td>...</td>\n      <td>...</td>\n      <td>...</td>\n      <td>...</td>\n      <td>...</td>\n      <td>...</td>\n    </tr>\n    <tr>\n      <th>259</th>\n      <td>Kosovo</td>\n      <td>XKX</td>\n      <td>Population, total</td>\n      <td>SP.POP.TOTL</td>\n      <td>947000.0</td>\n      <td>966000.0</td>\n      <td>994000.0</td>\n      <td>1022000.0</td>\n      <td>1050000.0</td>\n      <td>1078000.0</td>\n      <td>...</td>\n      <td>1807106.0</td>\n      <td>1818117.0</td>\n      <td>1812771.0</td>\n      <td>1788196.0</td>\n      <td>1777557.0</td>\n      <td>1791003.0</td>\n      <td>1797085.0</td>\n      <td>1794248.0</td>\n      <td>NaN</td>\n      <td>NaN</td>\n    </tr>\n    <tr>\n      <th>260</th>\n      <td>Yemen, Rep.</td>\n      <td>YEM</td>\n      <td>Population, total</td>\n      <td>SP.POP.TOTL</td>\n      <td>5315355.0</td>\n      <td>5393036.0</td>\n      <td>5473671.0</td>\n      <td>5556766.0</td>\n      <td>5641597.0</td>\n      <td>5727751.0</td>\n      <td>...</td>\n      <td>24473178.0</td>\n      <td>25147109.0</td>\n      <td>25823485.0</td>\n      <td>26497889.0</td>\n      <td>27168210.0</td>\n      <td>27834821.0</td>\n      <td>28498687.0</td>\n      <td>29161922.0</td>\n      <td>NaN</td>\n      <td>NaN</td>\n    </tr>\n    <tr>\n      <th>261</th>\n      <td>South Africa</td>\n      <td>ZAF</td>\n      <td>Population, total</td>\n      <td>SP.POP.TOTL</td>\n      <td>17099840.0</td>\n      <td>17524533.0</td>\n      <td>17965725.0</td>\n      <td>18423161.0</td>\n      <td>18896307.0</td>\n      <td>19384841.0</td>\n      <td>...</td>\n      <td>52834005.0</td>\n      <td>53689236.0</td>\n      <td>54545991.0</td>\n      <td>55386367.0</td>\n      <td>56203654.0</td>\n      <td>57000451.0</td>\n      <td>57779622.0</td>\n      <td>58558270.0</td>\n      <td>NaN</td>\n      <td>NaN</td>\n    </tr>\n    <tr>\n      <th>262</th>\n      <td>Zambia</td>\n      <td>ZMB</td>\n      <td>Population, total</td>\n      <td>SP.POP.TOTL</td>\n      <td>3070776.0</td>\n      <td>3164329.0</td>\n      <td>3260650.0</td>\n      <td>3360104.0</td>\n      <td>3463213.0</td>\n      <td>3570464.0</td>\n      <td>...</td>\n      <td>14465121.0</td>\n      <td>14926504.0</td>\n      <td>15399753.0</td>\n      <td>15879361.0</td>\n      <td>16363507.0</td>\n      <td>16853688.0</td>\n      <td>17351822.0</td>\n      <td>17861030.0</td>\n      <td>NaN</td>\n      <td>NaN</td>\n    </tr>\n    <tr>\n      <th>263</th>\n      <td>Zimbabwe</td>\n      <td>ZWE</td>\n      <td>Population, total</td>\n      <td>SP.POP.TOTL</td>\n      <td>3776681.0</td>\n      <td>3905034.0</td>\n      <td>4039201.0</td>\n      <td>4178726.0</td>\n      <td>4322861.0</td>\n      <td>4471177.0</td>\n      <td>...</td>\n      <td>13115131.0</td>\n      <td>13350356.0</td>\n      <td>13586681.0</td>\n      <td>13814629.0</td>\n      <td>14030390.0</td>\n      <td>14236745.0</td>\n      <td>14439018.0</td>\n      <td>14645468.0</td>\n      <td>NaN</td>\n      <td>NaN</td>\n    </tr>\n  </tbody>\n</table>\n<p>264 rows × 66 columns</p>\n</div>"
     },
     "metadata": {},
     "execution_count": 11
    }
   ],
   "source": [
    "df_pob = pd.read_csv('./pandas/poblacion.csv', skiprows=4) # Skiprows nos ayuda a ignorar la cantidad de filas que queramos en este caso son 4\n",
    "df_pob\n"
   ]
  },
  {
   "cell_type": "code",
   "execution_count": 14,
   "metadata": {},
   "outputs": [],
   "source": [
    "df_version1 = df_pob.copy(deep=True)"
   ]
  },
  {
   "cell_type": "code",
   "execution_count": 15,
   "metadata": {},
   "outputs": [
    {
     "output_type": "execute_result",
     "data": {
      "text/plain": [
       "     Country Name Country Code     Indicator Name Indicator Code        1960  \\\n",
       "0           Aruba          ABW  Population, total    SP.POP.TOTL     54211.0   \n",
       "1     Afghanistan          AFG  Population, total    SP.POP.TOTL   8996973.0   \n",
       "2          Angola          AGO  Population, total    SP.POP.TOTL   5454933.0   \n",
       "3         Albania          ALB  Population, total    SP.POP.TOTL   1608800.0   \n",
       "4         Andorra          AND  Population, total    SP.POP.TOTL     13411.0   \n",
       "..            ...          ...                ...            ...         ...   \n",
       "259        Kosovo          XKX  Population, total    SP.POP.TOTL    947000.0   \n",
       "260   Yemen, Rep.          YEM  Population, total    SP.POP.TOTL   5315355.0   \n",
       "261  South Africa          ZAF  Population, total    SP.POP.TOTL  17099840.0   \n",
       "262        Zambia          ZMB  Population, total    SP.POP.TOTL   3070776.0   \n",
       "263      Zimbabwe          ZWE  Population, total    SP.POP.TOTL   3776681.0   \n",
       "\n",
       "           1961        1962        1963        1964        1965  ...  \\\n",
       "0       55438.0     56225.0     56695.0     57032.0     57360.0  ...   \n",
       "1     9169410.0   9351441.0   9543205.0   9744781.0   9956320.0  ...   \n",
       "2     5531472.0   5608539.0   5679458.0   5735044.0   5770570.0  ...   \n",
       "3     1659800.0   1711319.0   1762621.0   1814135.0   1864791.0  ...   \n",
       "4       14375.0     15370.0     16412.0     17469.0     18549.0  ...   \n",
       "..          ...         ...         ...         ...         ...  ...   \n",
       "259    966000.0    994000.0   1022000.0   1050000.0   1078000.0  ...   \n",
       "260   5393036.0   5473671.0   5556766.0   5641597.0   5727751.0  ...   \n",
       "261  17524533.0  17965725.0  18423161.0  18896307.0  19384841.0  ...   \n",
       "262   3164329.0   3260650.0   3360104.0   3463213.0   3570464.0  ...   \n",
       "263   3905034.0   4039201.0   4178726.0   4322861.0   4471177.0  ...   \n",
       "\n",
       "           2012        2013        2014        2015        2016        2017  \\\n",
       "0      102560.0    103159.0    103774.0    104341.0    104872.0    105366.0   \n",
       "1    31161376.0  32269589.0  33370794.0  34413603.0  35383128.0  36296400.0   \n",
       "2    25107931.0  26015780.0  26941779.0  27884381.0  28842484.0  29816748.0   \n",
       "3     2900401.0   2895092.0   2889104.0   2880703.0   2876101.0   2873457.0   \n",
       "4       82427.0     80774.0     79213.0     78011.0     77297.0     77001.0   \n",
       "..          ...         ...         ...         ...         ...         ...   \n",
       "259   1807106.0   1818117.0   1812771.0   1788196.0   1777557.0   1791003.0   \n",
       "260  24473178.0  25147109.0  25823485.0  26497889.0  27168210.0  27834821.0   \n",
       "261  52834005.0  53689236.0  54545991.0  55386367.0  56203654.0  57000451.0   \n",
       "262  14465121.0  14926504.0  15399753.0  15879361.0  16363507.0  16853688.0   \n",
       "263  13115131.0  13350356.0  13586681.0  13814629.0  14030390.0  14236745.0   \n",
       "\n",
       "           2018        2019  2020  Unnamed: 65  \n",
       "0      105845.0    106314.0   NaN          NaN  \n",
       "1    37172386.0  38041754.0   NaN          NaN  \n",
       "2    30809762.0  31825295.0   NaN          NaN  \n",
       "3     2866376.0   2854191.0   NaN          NaN  \n",
       "4       77006.0     77142.0   NaN          NaN  \n",
       "..          ...         ...   ...          ...  \n",
       "259   1797085.0   1794248.0   NaN          NaN  \n",
       "260  28498687.0  29161922.0   NaN          NaN  \n",
       "261  57779622.0  58558270.0   NaN          NaN  \n",
       "262  17351822.0  17861030.0   NaN          NaN  \n",
       "263  14439018.0  14645468.0   NaN          NaN  \n",
       "\n",
       "[264 rows x 66 columns]"
      ],
      "text/html": "<div>\n<style scoped>\n    .dataframe tbody tr th:only-of-type {\n        vertical-align: middle;\n    }\n\n    .dataframe tbody tr th {\n        vertical-align: top;\n    }\n\n    .dataframe thead th {\n        text-align: right;\n    }\n</style>\n<table border=\"1\" class=\"dataframe\">\n  <thead>\n    <tr style=\"text-align: right;\">\n      <th></th>\n      <th>Country Name</th>\n      <th>Country Code</th>\n      <th>Indicator Name</th>\n      <th>Indicator Code</th>\n      <th>1960</th>\n      <th>1961</th>\n      <th>1962</th>\n      <th>1963</th>\n      <th>1964</th>\n      <th>1965</th>\n      <th>...</th>\n      <th>2012</th>\n      <th>2013</th>\n      <th>2014</th>\n      <th>2015</th>\n      <th>2016</th>\n      <th>2017</th>\n      <th>2018</th>\n      <th>2019</th>\n      <th>2020</th>\n      <th>Unnamed: 65</th>\n    </tr>\n  </thead>\n  <tbody>\n    <tr>\n      <th>0</th>\n      <td>Aruba</td>\n      <td>ABW</td>\n      <td>Population, total</td>\n      <td>SP.POP.TOTL</td>\n      <td>54211.0</td>\n      <td>55438.0</td>\n      <td>56225.0</td>\n      <td>56695.0</td>\n      <td>57032.0</td>\n      <td>57360.0</td>\n      <td>...</td>\n      <td>102560.0</td>\n      <td>103159.0</td>\n      <td>103774.0</td>\n      <td>104341.0</td>\n      <td>104872.0</td>\n      <td>105366.0</td>\n      <td>105845.0</td>\n      <td>106314.0</td>\n      <td>NaN</td>\n      <td>NaN</td>\n    </tr>\n    <tr>\n      <th>1</th>\n      <td>Afghanistan</td>\n      <td>AFG</td>\n      <td>Population, total</td>\n      <td>SP.POP.TOTL</td>\n      <td>8996973.0</td>\n      <td>9169410.0</td>\n      <td>9351441.0</td>\n      <td>9543205.0</td>\n      <td>9744781.0</td>\n      <td>9956320.0</td>\n      <td>...</td>\n      <td>31161376.0</td>\n      <td>32269589.0</td>\n      <td>33370794.0</td>\n      <td>34413603.0</td>\n      <td>35383128.0</td>\n      <td>36296400.0</td>\n      <td>37172386.0</td>\n      <td>38041754.0</td>\n      <td>NaN</td>\n      <td>NaN</td>\n    </tr>\n    <tr>\n      <th>2</th>\n      <td>Angola</td>\n      <td>AGO</td>\n      <td>Population, total</td>\n      <td>SP.POP.TOTL</td>\n      <td>5454933.0</td>\n      <td>5531472.0</td>\n      <td>5608539.0</td>\n      <td>5679458.0</td>\n      <td>5735044.0</td>\n      <td>5770570.0</td>\n      <td>...</td>\n      <td>25107931.0</td>\n      <td>26015780.0</td>\n      <td>26941779.0</td>\n      <td>27884381.0</td>\n      <td>28842484.0</td>\n      <td>29816748.0</td>\n      <td>30809762.0</td>\n      <td>31825295.0</td>\n      <td>NaN</td>\n      <td>NaN</td>\n    </tr>\n    <tr>\n      <th>3</th>\n      <td>Albania</td>\n      <td>ALB</td>\n      <td>Population, total</td>\n      <td>SP.POP.TOTL</td>\n      <td>1608800.0</td>\n      <td>1659800.0</td>\n      <td>1711319.0</td>\n      <td>1762621.0</td>\n      <td>1814135.0</td>\n      <td>1864791.0</td>\n      <td>...</td>\n      <td>2900401.0</td>\n      <td>2895092.0</td>\n      <td>2889104.0</td>\n      <td>2880703.0</td>\n      <td>2876101.0</td>\n      <td>2873457.0</td>\n      <td>2866376.0</td>\n      <td>2854191.0</td>\n      <td>NaN</td>\n      <td>NaN</td>\n    </tr>\n    <tr>\n      <th>4</th>\n      <td>Andorra</td>\n      <td>AND</td>\n      <td>Population, total</td>\n      <td>SP.POP.TOTL</td>\n      <td>13411.0</td>\n      <td>14375.0</td>\n      <td>15370.0</td>\n      <td>16412.0</td>\n      <td>17469.0</td>\n      <td>18549.0</td>\n      <td>...</td>\n      <td>82427.0</td>\n      <td>80774.0</td>\n      <td>79213.0</td>\n      <td>78011.0</td>\n      <td>77297.0</td>\n      <td>77001.0</td>\n      <td>77006.0</td>\n      <td>77142.0</td>\n      <td>NaN</td>\n      <td>NaN</td>\n    </tr>\n    <tr>\n      <th>...</th>\n      <td>...</td>\n      <td>...</td>\n      <td>...</td>\n      <td>...</td>\n      <td>...</td>\n      <td>...</td>\n      <td>...</td>\n      <td>...</td>\n      <td>...</td>\n      <td>...</td>\n      <td>...</td>\n      <td>...</td>\n      <td>...</td>\n      <td>...</td>\n      <td>...</td>\n      <td>...</td>\n      <td>...</td>\n      <td>...</td>\n      <td>...</td>\n      <td>...</td>\n      <td>...</td>\n    </tr>\n    <tr>\n      <th>259</th>\n      <td>Kosovo</td>\n      <td>XKX</td>\n      <td>Population, total</td>\n      <td>SP.POP.TOTL</td>\n      <td>947000.0</td>\n      <td>966000.0</td>\n      <td>994000.0</td>\n      <td>1022000.0</td>\n      <td>1050000.0</td>\n      <td>1078000.0</td>\n      <td>...</td>\n      <td>1807106.0</td>\n      <td>1818117.0</td>\n      <td>1812771.0</td>\n      <td>1788196.0</td>\n      <td>1777557.0</td>\n      <td>1791003.0</td>\n      <td>1797085.0</td>\n      <td>1794248.0</td>\n      <td>NaN</td>\n      <td>NaN</td>\n    </tr>\n    <tr>\n      <th>260</th>\n      <td>Yemen, Rep.</td>\n      <td>YEM</td>\n      <td>Population, total</td>\n      <td>SP.POP.TOTL</td>\n      <td>5315355.0</td>\n      <td>5393036.0</td>\n      <td>5473671.0</td>\n      <td>5556766.0</td>\n      <td>5641597.0</td>\n      <td>5727751.0</td>\n      <td>...</td>\n      <td>24473178.0</td>\n      <td>25147109.0</td>\n      <td>25823485.0</td>\n      <td>26497889.0</td>\n      <td>27168210.0</td>\n      <td>27834821.0</td>\n      <td>28498687.0</td>\n      <td>29161922.0</td>\n      <td>NaN</td>\n      <td>NaN</td>\n    </tr>\n    <tr>\n      <th>261</th>\n      <td>South Africa</td>\n      <td>ZAF</td>\n      <td>Population, total</td>\n      <td>SP.POP.TOTL</td>\n      <td>17099840.0</td>\n      <td>17524533.0</td>\n      <td>17965725.0</td>\n      <td>18423161.0</td>\n      <td>18896307.0</td>\n      <td>19384841.0</td>\n      <td>...</td>\n      <td>52834005.0</td>\n      <td>53689236.0</td>\n      <td>54545991.0</td>\n      <td>55386367.0</td>\n      <td>56203654.0</td>\n      <td>57000451.0</td>\n      <td>57779622.0</td>\n      <td>58558270.0</td>\n      <td>NaN</td>\n      <td>NaN</td>\n    </tr>\n    <tr>\n      <th>262</th>\n      <td>Zambia</td>\n      <td>ZMB</td>\n      <td>Population, total</td>\n      <td>SP.POP.TOTL</td>\n      <td>3070776.0</td>\n      <td>3164329.0</td>\n      <td>3260650.0</td>\n      <td>3360104.0</td>\n      <td>3463213.0</td>\n      <td>3570464.0</td>\n      <td>...</td>\n      <td>14465121.0</td>\n      <td>14926504.0</td>\n      <td>15399753.0</td>\n      <td>15879361.0</td>\n      <td>16363507.0</td>\n      <td>16853688.0</td>\n      <td>17351822.0</td>\n      <td>17861030.0</td>\n      <td>NaN</td>\n      <td>NaN</td>\n    </tr>\n    <tr>\n      <th>263</th>\n      <td>Zimbabwe</td>\n      <td>ZWE</td>\n      <td>Population, total</td>\n      <td>SP.POP.TOTL</td>\n      <td>3776681.0</td>\n      <td>3905034.0</td>\n      <td>4039201.0</td>\n      <td>4178726.0</td>\n      <td>4322861.0</td>\n      <td>4471177.0</td>\n      <td>...</td>\n      <td>13115131.0</td>\n      <td>13350356.0</td>\n      <td>13586681.0</td>\n      <td>13814629.0</td>\n      <td>14030390.0</td>\n      <td>14236745.0</td>\n      <td>14439018.0</td>\n      <td>14645468.0</td>\n      <td>NaN</td>\n      <td>NaN</td>\n    </tr>\n  </tbody>\n</table>\n<p>264 rows × 66 columns</p>\n</div>"
     },
     "metadata": {},
     "execution_count": 15
    }
   ],
   "source": [
    "df_version1"
   ]
  },
  {
   "cell_type": "code",
   "execution_count": 24,
   "metadata": {},
   "outputs": [],
   "source": [
    "\n",
    "df_version1.drop(columns=['Country Code',\n",
    " 'Indicator Name',\n",
    " 'Indicator Code',\n",
    " '1960',\n",
    " '1961',\n",
    " '1962',\n",
    " '1963',\n",
    " '1964',\n",
    " '1965',\n",
    " '1966',\n",
    " '1967',\n",
    " '1968',\n",
    " '1969',\n",
    " '1970',\n",
    " '1971',\n",
    " '1972',\n",
    " '1973',\n",
    " '1974',\n",
    " '1975',\n",
    " '1976',\n",
    " '1977',\n",
    " '1978',\n",
    " '1979',\n",
    " '1980',\n",
    " '1981',\n",
    " '1982',\n",
    " '1983',\n",
    " '1984',\n",
    " '1985',\n",
    " '1986',\n",
    " '1987',\n",
    " '1988',\n",
    " '1989',\n",
    " '1990',\n",
    " '1991',\n",
    " '1992',\n",
    " '1993',\n",
    " '1994',\n",
    " '1995',\n",
    " '1996',\n",
    " '1997',\n",
    " '1998',\n",
    " '1999',\n",
    " '2000',\n",
    " '2001',\n",
    " '2002',\n",
    " '2003',\n",
    " '2004',\n",
    " '2005',\n",
    " '2006',\n",
    " '2007',\n",
    " '2008',\n",
    " '2009',\n",
    " '2010',\n",
    " '2011',\n",
    " '2012',\n",
    " '2013',\n",
    " '2014','2020','Unnamed: 65'], inplace=True)\n"
   ]
  },
  {
   "cell_type": "code",
   "execution_count": 25,
   "metadata": {},
   "outputs": [
    {
     "output_type": "execute_result",
     "data": {
      "text/plain": [
       "     Country Name        2015        2016        2017        2018        2019\n",
       "0           Aruba    104341.0    104872.0    105366.0    105845.0    106314.0\n",
       "1     Afghanistan  34413603.0  35383128.0  36296400.0  37172386.0  38041754.0\n",
       "2          Angola  27884381.0  28842484.0  29816748.0  30809762.0  31825295.0\n",
       "3         Albania   2880703.0   2876101.0   2873457.0   2866376.0   2854191.0\n",
       "4         Andorra     78011.0     77297.0     77001.0     77006.0     77142.0\n",
       "..            ...         ...         ...         ...         ...         ...\n",
       "259        Kosovo   1788196.0   1777557.0   1791003.0   1797085.0   1794248.0\n",
       "260   Yemen, Rep.  26497889.0  27168210.0  27834821.0  28498687.0  29161922.0\n",
       "261  South Africa  55386367.0  56203654.0  57000451.0  57779622.0  58558270.0\n",
       "262        Zambia  15879361.0  16363507.0  16853688.0  17351822.0  17861030.0\n",
       "263      Zimbabwe  13814629.0  14030390.0  14236745.0  14439018.0  14645468.0\n",
       "\n",
       "[264 rows x 6 columns]"
      ],
      "text/html": "<div>\n<style scoped>\n    .dataframe tbody tr th:only-of-type {\n        vertical-align: middle;\n    }\n\n    .dataframe tbody tr th {\n        vertical-align: top;\n    }\n\n    .dataframe thead th {\n        text-align: right;\n    }\n</style>\n<table border=\"1\" class=\"dataframe\">\n  <thead>\n    <tr style=\"text-align: right;\">\n      <th></th>\n      <th>Country Name</th>\n      <th>2015</th>\n      <th>2016</th>\n      <th>2017</th>\n      <th>2018</th>\n      <th>2019</th>\n    </tr>\n  </thead>\n  <tbody>\n    <tr>\n      <th>0</th>\n      <td>Aruba</td>\n      <td>104341.0</td>\n      <td>104872.0</td>\n      <td>105366.0</td>\n      <td>105845.0</td>\n      <td>106314.0</td>\n    </tr>\n    <tr>\n      <th>1</th>\n      <td>Afghanistan</td>\n      <td>34413603.0</td>\n      <td>35383128.0</td>\n      <td>36296400.0</td>\n      <td>37172386.0</td>\n      <td>38041754.0</td>\n    </tr>\n    <tr>\n      <th>2</th>\n      <td>Angola</td>\n      <td>27884381.0</td>\n      <td>28842484.0</td>\n      <td>29816748.0</td>\n      <td>30809762.0</td>\n      <td>31825295.0</td>\n    </tr>\n    <tr>\n      <th>3</th>\n      <td>Albania</td>\n      <td>2880703.0</td>\n      <td>2876101.0</td>\n      <td>2873457.0</td>\n      <td>2866376.0</td>\n      <td>2854191.0</td>\n    </tr>\n    <tr>\n      <th>4</th>\n      <td>Andorra</td>\n      <td>78011.0</td>\n      <td>77297.0</td>\n      <td>77001.0</td>\n      <td>77006.0</td>\n      <td>77142.0</td>\n    </tr>\n    <tr>\n      <th>...</th>\n      <td>...</td>\n      <td>...</td>\n      <td>...</td>\n      <td>...</td>\n      <td>...</td>\n      <td>...</td>\n    </tr>\n    <tr>\n      <th>259</th>\n      <td>Kosovo</td>\n      <td>1788196.0</td>\n      <td>1777557.0</td>\n      <td>1791003.0</td>\n      <td>1797085.0</td>\n      <td>1794248.0</td>\n    </tr>\n    <tr>\n      <th>260</th>\n      <td>Yemen, Rep.</td>\n      <td>26497889.0</td>\n      <td>27168210.0</td>\n      <td>27834821.0</td>\n      <td>28498687.0</td>\n      <td>29161922.0</td>\n    </tr>\n    <tr>\n      <th>261</th>\n      <td>South Africa</td>\n      <td>55386367.0</td>\n      <td>56203654.0</td>\n      <td>57000451.0</td>\n      <td>57779622.0</td>\n      <td>58558270.0</td>\n    </tr>\n    <tr>\n      <th>262</th>\n      <td>Zambia</td>\n      <td>15879361.0</td>\n      <td>16363507.0</td>\n      <td>16853688.0</td>\n      <td>17351822.0</td>\n      <td>17861030.0</td>\n    </tr>\n    <tr>\n      <th>263</th>\n      <td>Zimbabwe</td>\n      <td>13814629.0</td>\n      <td>14030390.0</td>\n      <td>14236745.0</td>\n      <td>14439018.0</td>\n      <td>14645468.0</td>\n    </tr>\n  </tbody>\n</table>\n<p>264 rows × 6 columns</p>\n</div>"
     },
     "metadata": {},
     "execution_count": 25
    }
   ],
   "source": [
    "df_version1"
   ]
  },
  {
   "cell_type": "code",
   "execution_count": 43,
   "metadata": {},
   "outputs": [
    {
     "output_type": "execute_result",
     "data": {
      "text/plain": [
       "      Country Name  year      pob\n",
       "0            Aruba  2015   104341\n",
       "1      Afghanistan  2015 34413603\n",
       "2           Angola  2015 27884381\n",
       "3          Albania  2015  2880703\n",
       "4          Andorra  2015    78011\n",
       "...            ...   ...      ...\n",
       "1315        Kosovo  2019  1794248\n",
       "1316   Yemen, Rep.  2019 29161922\n",
       "1317  South Africa  2019 58558270\n",
       "1318        Zambia  2019 17861030\n",
       "1319      Zimbabwe  2019 14645468\n",
       "\n",
       "[1320 rows x 3 columns]"
      ],
      "text/html": "<div>\n<style scoped>\n    .dataframe tbody tr th:only-of-type {\n        vertical-align: middle;\n    }\n\n    .dataframe tbody tr th {\n        vertical-align: top;\n    }\n\n    .dataframe thead th {\n        text-align: right;\n    }\n</style>\n<table border=\"1\" class=\"dataframe\">\n  <thead>\n    <tr style=\"text-align: right;\">\n      <th></th>\n      <th>Country Name</th>\n      <th>year</th>\n      <th>pob</th>\n    </tr>\n  </thead>\n  <tbody>\n    <tr>\n      <th>0</th>\n      <td>Aruba</td>\n      <td>2015</td>\n      <td>104341</td>\n    </tr>\n    <tr>\n      <th>1</th>\n      <td>Afghanistan</td>\n      <td>2015</td>\n      <td>34413603</td>\n    </tr>\n    <tr>\n      <th>2</th>\n      <td>Angola</td>\n      <td>2015</td>\n      <td>27884381</td>\n    </tr>\n    <tr>\n      <th>3</th>\n      <td>Albania</td>\n      <td>2015</td>\n      <td>2880703</td>\n    </tr>\n    <tr>\n      <th>4</th>\n      <td>Andorra</td>\n      <td>2015</td>\n      <td>78011</td>\n    </tr>\n    <tr>\n      <th>...</th>\n      <td>...</td>\n      <td>...</td>\n      <td>...</td>\n    </tr>\n    <tr>\n      <th>1315</th>\n      <td>Kosovo</td>\n      <td>2019</td>\n      <td>1794248</td>\n    </tr>\n    <tr>\n      <th>1316</th>\n      <td>Yemen, Rep.</td>\n      <td>2019</td>\n      <td>29161922</td>\n    </tr>\n    <tr>\n      <th>1317</th>\n      <td>South Africa</td>\n      <td>2019</td>\n      <td>58558270</td>\n    </tr>\n    <tr>\n      <th>1318</th>\n      <td>Zambia</td>\n      <td>2019</td>\n      <td>17861030</td>\n    </tr>\n    <tr>\n      <th>1319</th>\n      <td>Zimbabwe</td>\n      <td>2019</td>\n      <td>14645468</td>\n    </tr>\n  </tbody>\n</table>\n<p>1320 rows × 3 columns</p>\n</div>"
     },
     "metadata": {},
     "execution_count": 43
    }
   ],
   "source": [
    "df"
   ]
  },
  {
   "cell_type": "code",
   "execution_count": 44,
   "metadata": {},
   "outputs": [],
   "source": [
    "df_corto = df_version1.copy(deep=True)"
   ]
  },
  {
   "cell_type": "code",
   "execution_count": 45,
   "metadata": {},
   "outputs": [
    {
     "output_type": "execute_result",
     "data": {
      "text/plain": [
       "     Country Name     2015     2016     2017     2018     2019\n",
       "0           Aruba   104341   104872   105366   105845   106314\n",
       "1     Afghanistan 34413603 35383128 36296400 37172386 38041754\n",
       "2          Angola 27884381 28842484 29816748 30809762 31825295\n",
       "3         Albania  2880703  2876101  2873457  2866376  2854191\n",
       "4         Andorra    78011    77297    77001    77006    77142\n",
       "..            ...      ...      ...      ...      ...      ...\n",
       "259        Kosovo  1788196  1777557  1791003  1797085  1794248\n",
       "260   Yemen, Rep. 26497889 27168210 27834821 28498687 29161922\n",
       "261  South Africa 55386367 56203654 57000451 57779622 58558270\n",
       "262        Zambia 15879361 16363507 16853688 17351822 17861030\n",
       "263      Zimbabwe 13814629 14030390 14236745 14439018 14645468\n",
       "\n",
       "[264 rows x 6 columns]"
      ],
      "text/html": "<div>\n<style scoped>\n    .dataframe tbody tr th:only-of-type {\n        vertical-align: middle;\n    }\n\n    .dataframe tbody tr th {\n        vertical-align: top;\n    }\n\n    .dataframe thead th {\n        text-align: right;\n    }\n</style>\n<table border=\"1\" class=\"dataframe\">\n  <thead>\n    <tr style=\"text-align: right;\">\n      <th></th>\n      <th>Country Name</th>\n      <th>2015</th>\n      <th>2016</th>\n      <th>2017</th>\n      <th>2018</th>\n      <th>2019</th>\n    </tr>\n  </thead>\n  <tbody>\n    <tr>\n      <th>0</th>\n      <td>Aruba</td>\n      <td>104341</td>\n      <td>104872</td>\n      <td>105366</td>\n      <td>105845</td>\n      <td>106314</td>\n    </tr>\n    <tr>\n      <th>1</th>\n      <td>Afghanistan</td>\n      <td>34413603</td>\n      <td>35383128</td>\n      <td>36296400</td>\n      <td>37172386</td>\n      <td>38041754</td>\n    </tr>\n    <tr>\n      <th>2</th>\n      <td>Angola</td>\n      <td>27884381</td>\n      <td>28842484</td>\n      <td>29816748</td>\n      <td>30809762</td>\n      <td>31825295</td>\n    </tr>\n    <tr>\n      <th>3</th>\n      <td>Albania</td>\n      <td>2880703</td>\n      <td>2876101</td>\n      <td>2873457</td>\n      <td>2866376</td>\n      <td>2854191</td>\n    </tr>\n    <tr>\n      <th>4</th>\n      <td>Andorra</td>\n      <td>78011</td>\n      <td>77297</td>\n      <td>77001</td>\n      <td>77006</td>\n      <td>77142</td>\n    </tr>\n    <tr>\n      <th>...</th>\n      <td>...</td>\n      <td>...</td>\n      <td>...</td>\n      <td>...</td>\n      <td>...</td>\n      <td>...</td>\n    </tr>\n    <tr>\n      <th>259</th>\n      <td>Kosovo</td>\n      <td>1788196</td>\n      <td>1777557</td>\n      <td>1791003</td>\n      <td>1797085</td>\n      <td>1794248</td>\n    </tr>\n    <tr>\n      <th>260</th>\n      <td>Yemen, Rep.</td>\n      <td>26497889</td>\n      <td>27168210</td>\n      <td>27834821</td>\n      <td>28498687</td>\n      <td>29161922</td>\n    </tr>\n    <tr>\n      <th>261</th>\n      <td>South Africa</td>\n      <td>55386367</td>\n      <td>56203654</td>\n      <td>57000451</td>\n      <td>57779622</td>\n      <td>58558270</td>\n    </tr>\n    <tr>\n      <th>262</th>\n      <td>Zambia</td>\n      <td>15879361</td>\n      <td>16363507</td>\n      <td>16853688</td>\n      <td>17351822</td>\n      <td>17861030</td>\n    </tr>\n    <tr>\n      <th>263</th>\n      <td>Zimbabwe</td>\n      <td>13814629</td>\n      <td>14030390</td>\n      <td>14236745</td>\n      <td>14439018</td>\n      <td>14645468</td>\n    </tr>\n  </tbody>\n</table>\n<p>264 rows × 6 columns</p>\n</div>"
     },
     "metadata": {},
     "execution_count": 45
    }
   ],
   "source": [
    "df_corto"
   ]
  },
  {
   "cell_type": "code",
   "execution_count": 46,
   "metadata": {},
   "outputs": [],
   "source": [
    "df = pd.melt(df_corto, id_vars=['Country Name'], var_name='year', value_name='pob') # Pivoteo las columnas para convertirlas en filas y ordeno la data primero por ‘year’ y luego por ‘Country’, y ya queda para trabajar con el mismo dataset de la clase"
   ]
  },
  {
   "cell_type": "code",
   "execution_count": 31,
   "metadata": {},
   "outputs": [],
   "source": [
    "pd.options.display.float_format='{:.0f}'.format # con esto le quitamos todos los decimales a la poblacion"
   ]
  },
  {
   "cell_type": "code",
   "execution_count": 47,
   "metadata": {},
   "outputs": [
    {
     "output_type": "execute_result",
     "data": {
      "text/plain": [
       "      Country Name  year      pob\n",
       "0            Aruba  2015   104341\n",
       "1      Afghanistan  2015 34413603\n",
       "2           Angola  2015 27884381\n",
       "3          Albania  2015  2880703\n",
       "4          Andorra  2015    78011\n",
       "...            ...   ...      ...\n",
       "1315        Kosovo  2019  1794248\n",
       "1316   Yemen, Rep.  2019 29161922\n",
       "1317  South Africa  2019 58558270\n",
       "1318        Zambia  2019 17861030\n",
       "1319      Zimbabwe  2019 14645468\n",
       "\n",
       "[1320 rows x 3 columns]"
      ],
      "text/html": "<div>\n<style scoped>\n    .dataframe tbody tr th:only-of-type {\n        vertical-align: middle;\n    }\n\n    .dataframe tbody tr th {\n        vertical-align: top;\n    }\n\n    .dataframe thead th {\n        text-align: right;\n    }\n</style>\n<table border=\"1\" class=\"dataframe\">\n  <thead>\n    <tr style=\"text-align: right;\">\n      <th></th>\n      <th>Country Name</th>\n      <th>year</th>\n      <th>pob</th>\n    </tr>\n  </thead>\n  <tbody>\n    <tr>\n      <th>0</th>\n      <td>Aruba</td>\n      <td>2015</td>\n      <td>104341</td>\n    </tr>\n    <tr>\n      <th>1</th>\n      <td>Afghanistan</td>\n      <td>2015</td>\n      <td>34413603</td>\n    </tr>\n    <tr>\n      <th>2</th>\n      <td>Angola</td>\n      <td>2015</td>\n      <td>27884381</td>\n    </tr>\n    <tr>\n      <th>3</th>\n      <td>Albania</td>\n      <td>2015</td>\n      <td>2880703</td>\n    </tr>\n    <tr>\n      <th>4</th>\n      <td>Andorra</td>\n      <td>2015</td>\n      <td>78011</td>\n    </tr>\n    <tr>\n      <th>...</th>\n      <td>...</td>\n      <td>...</td>\n      <td>...</td>\n    </tr>\n    <tr>\n      <th>1315</th>\n      <td>Kosovo</td>\n      <td>2019</td>\n      <td>1794248</td>\n    </tr>\n    <tr>\n      <th>1316</th>\n      <td>Yemen, Rep.</td>\n      <td>2019</td>\n      <td>29161922</td>\n    </tr>\n    <tr>\n      <th>1317</th>\n      <td>South Africa</td>\n      <td>2019</td>\n      <td>58558270</td>\n    </tr>\n    <tr>\n      <th>1318</th>\n      <td>Zambia</td>\n      <td>2019</td>\n      <td>17861030</td>\n    </tr>\n    <tr>\n      <th>1319</th>\n      <td>Zimbabwe</td>\n      <td>2019</td>\n      <td>14645468</td>\n    </tr>\n  </tbody>\n</table>\n<p>1320 rows × 3 columns</p>\n</div>"
     },
     "metadata": {},
     "execution_count": 47
    }
   ],
   "source": [
    "df"
   ]
  },
  {
   "cell_type": "code",
   "execution_count": 48,
   "metadata": {},
   "outputs": [
    {
     "output_type": "execute_result",
     "data": {
      "text/plain": [
       "Country Name     object\n",
       "year             object\n",
       "pob             float64\n",
       "dtype: object"
      ]
     },
     "metadata": {},
     "execution_count": 48
    }
   ],
   "source": [
    "df.dtypes # Revisando que tipo de datos es la variable"
   ]
  },
  {
   "cell_type": "code",
   "execution_count": 52,
   "metadata": {},
   "outputs": [],
   "source": [
    "df['year']=pd.Categorical(df['year'].apply(str)) # transformando el objeto año en category"
   ]
  },
  {
   "cell_type": "code",
   "execution_count": 53,
   "metadata": {},
   "outputs": [
    {
     "output_type": "execute_result",
     "data": {
      "text/plain": [
       "Country Name      object\n",
       "year            category\n",
       "pob              float64\n",
       "dtype: object"
      ]
     },
     "metadata": {},
     "execution_count": 53
    }
   ],
   "source": [
    "df.dtypes"
   ]
  },
  {
   "cell_type": "code",
   "execution_count": 64,
   "metadata": {},
   "outputs": [],
   "source": [
    "df.rename(columns={'Country Name':'Country'}, inplace=True) # Cambiando nombre de una columna existente"
   ]
  },
  {
   "cell_type": "code",
   "execution_count": 65,
   "metadata": {},
   "outputs": [
    {
     "output_type": "execute_result",
     "data": {
      "text/plain": [
       "           Country  year      pob\n",
       "0            Aruba  2015   104341\n",
       "1      Afghanistan  2015 34413603\n",
       "2           Angola  2015 27884381\n",
       "3          Albania  2015  2880703\n",
       "4          Andorra  2015    78011\n",
       "...            ...   ...      ...\n",
       "1315        Kosovo  2019  1794248\n",
       "1316   Yemen, Rep.  2019 29161922\n",
       "1317  South Africa  2019 58558270\n",
       "1318        Zambia  2019 17861030\n",
       "1319      Zimbabwe  2019 14645468\n",
       "\n",
       "[1320 rows x 3 columns]"
      ],
      "text/html": "<div>\n<style scoped>\n    .dataframe tbody tr th:only-of-type {\n        vertical-align: middle;\n    }\n\n    .dataframe tbody tr th {\n        vertical-align: top;\n    }\n\n    .dataframe thead th {\n        text-align: right;\n    }\n</style>\n<table border=\"1\" class=\"dataframe\">\n  <thead>\n    <tr style=\"text-align: right;\">\n      <th></th>\n      <th>Country</th>\n      <th>year</th>\n      <th>pob</th>\n    </tr>\n  </thead>\n  <tbody>\n    <tr>\n      <th>0</th>\n      <td>Aruba</td>\n      <td>2015</td>\n      <td>104341</td>\n    </tr>\n    <tr>\n      <th>1</th>\n      <td>Afghanistan</td>\n      <td>2015</td>\n      <td>34413603</td>\n    </tr>\n    <tr>\n      <th>2</th>\n      <td>Angola</td>\n      <td>2015</td>\n      <td>27884381</td>\n    </tr>\n    <tr>\n      <th>3</th>\n      <td>Albania</td>\n      <td>2015</td>\n      <td>2880703</td>\n    </tr>\n    <tr>\n      <th>4</th>\n      <td>Andorra</td>\n      <td>2015</td>\n      <td>78011</td>\n    </tr>\n    <tr>\n      <th>...</th>\n      <td>...</td>\n      <td>...</td>\n      <td>...</td>\n    </tr>\n    <tr>\n      <th>1315</th>\n      <td>Kosovo</td>\n      <td>2019</td>\n      <td>1794248</td>\n    </tr>\n    <tr>\n      <th>1316</th>\n      <td>Yemen, Rep.</td>\n      <td>2019</td>\n      <td>29161922</td>\n    </tr>\n    <tr>\n      <th>1317</th>\n      <td>South Africa</td>\n      <td>2019</td>\n      <td>58558270</td>\n    </tr>\n    <tr>\n      <th>1318</th>\n      <td>Zambia</td>\n      <td>2019</td>\n      <td>17861030</td>\n    </tr>\n    <tr>\n      <th>1319</th>\n      <td>Zimbabwe</td>\n      <td>2019</td>\n      <td>14645468</td>\n    </tr>\n  </tbody>\n</table>\n<p>1320 rows × 3 columns</p>\n</div>"
     },
     "metadata": {},
     "execution_count": 65
    }
   ],
   "source": [
    "df"
   ]
  },
  {
   "cell_type": "code",
   "execution_count": 58,
   "metadata": {},
   "outputs": [
    {
     "output_type": "execute_result",
     "data": {
      "text/plain": [
       "0        True\n",
       "1       False\n",
       "2       False\n",
       "3       False\n",
       "4       False\n",
       "        ...  \n",
       "1315    False\n",
       "1316    False\n",
       "1317    False\n",
       "1318    False\n",
       "1319    False\n",
       "Name: Country Name, Length: 1320, dtype: bool"
      ]
     },
     "metadata": {},
     "execution_count": 58
    }
   ],
   "source": [
    "idx_filtro = df['Country Name'].isin(['Aruba', 'Colombia'])# la funcion isin crea un vector  de variables booleanas (falso7verdadero) que permite filtrar algunos paises en este caso aruba y colombia\n",
    "idx_filtro"
   ]
  },
  {
   "cell_type": "code",
   "execution_count": 71,
   "metadata": {},
   "outputs": [
    {
     "output_type": "execute_result",
     "data": {
      "text/plain": [
       "       Country  year      pob\n",
       "0        Aruba  2015   104341\n",
       "43    Colombia  2015 47520667\n",
       "264      Aruba  2016   104872\n",
       "307   Colombia  2016 48175048\n",
       "528      Aruba  2017   105366\n",
       "571   Colombia  2017 48909844\n",
       "792      Aruba  2018   105845\n",
       "835   Colombia  2018 49661056\n",
       "1056     Aruba  2019   106314\n",
       "1099  Colombia  2019 50339443"
      ],
      "text/html": "<div>\n<style scoped>\n    .dataframe tbody tr th:only-of-type {\n        vertical-align: middle;\n    }\n\n    .dataframe tbody tr th {\n        vertical-align: top;\n    }\n\n    .dataframe thead th {\n        text-align: right;\n    }\n</style>\n<table border=\"1\" class=\"dataframe\">\n  <thead>\n    <tr style=\"text-align: right;\">\n      <th></th>\n      <th>Country</th>\n      <th>year</th>\n      <th>pob</th>\n    </tr>\n  </thead>\n  <tbody>\n    <tr>\n      <th>0</th>\n      <td>Aruba</td>\n      <td>2015</td>\n      <td>104341</td>\n    </tr>\n    <tr>\n      <th>43</th>\n      <td>Colombia</td>\n      <td>2015</td>\n      <td>47520667</td>\n    </tr>\n    <tr>\n      <th>264</th>\n      <td>Aruba</td>\n      <td>2016</td>\n      <td>104872</td>\n    </tr>\n    <tr>\n      <th>307</th>\n      <td>Colombia</td>\n      <td>2016</td>\n      <td>48175048</td>\n    </tr>\n    <tr>\n      <th>528</th>\n      <td>Aruba</td>\n      <td>2017</td>\n      <td>105366</td>\n    </tr>\n    <tr>\n      <th>571</th>\n      <td>Colombia</td>\n      <td>2017</td>\n      <td>48909844</td>\n    </tr>\n    <tr>\n      <th>792</th>\n      <td>Aruba</td>\n      <td>2018</td>\n      <td>105845</td>\n    </tr>\n    <tr>\n      <th>835</th>\n      <td>Colombia</td>\n      <td>2018</td>\n      <td>49661056</td>\n    </tr>\n    <tr>\n      <th>1056</th>\n      <td>Aruba</td>\n      <td>2019</td>\n      <td>106314</td>\n    </tr>\n    <tr>\n      <th>1099</th>\n      <td>Colombia</td>\n      <td>2019</td>\n      <td>50339443</td>\n    </tr>\n  </tbody>\n</table>\n</div>"
     },
     "metadata": {},
     "execution_count": 71
    }
   ],
   "source": [
    "df_sample =df[idx_filtro] # Mostrando un nuevo dataframe\n",
    "df_sample"
   ]
  },
  {
   "cell_type": "code",
   "execution_count": 72,
   "metadata": {},
   "outputs": [
    {
     "output_type": "execute_result",
     "data": {
      "text/plain": [
       "                   pob\n",
       "Country  year         \n",
       "Aruba    2015   104341\n",
       "Colombia 2015 47520667\n",
       "Aruba    2016   104872\n",
       "Colombia 2016 48175048\n",
       "Aruba    2017   105366\n",
       "Colombia 2017 48909844\n",
       "Aruba    2018   105845\n",
       "Colombia 2018 49661056\n",
       "Aruba    2019   106314\n",
       "Colombia 2019 50339443"
      ],
      "text/html": "<div>\n<style scoped>\n    .dataframe tbody tr th:only-of-type {\n        vertical-align: middle;\n    }\n\n    .dataframe tbody tr th {\n        vertical-align: top;\n    }\n\n    .dataframe thead th {\n        text-align: right;\n    }\n</style>\n<table border=\"1\" class=\"dataframe\">\n  <thead>\n    <tr style=\"text-align: right;\">\n      <th></th>\n      <th></th>\n      <th>pob</th>\n    </tr>\n    <tr>\n      <th>Country</th>\n      <th>year</th>\n      <th></th>\n    </tr>\n  </thead>\n  <tbody>\n    <tr>\n      <th>Aruba</th>\n      <th>2015</th>\n      <td>104341</td>\n    </tr>\n    <tr>\n      <th>Colombia</th>\n      <th>2015</th>\n      <td>47520667</td>\n    </tr>\n    <tr>\n      <th>Aruba</th>\n      <th>2016</th>\n      <td>104872</td>\n    </tr>\n    <tr>\n      <th>Colombia</th>\n      <th>2016</th>\n      <td>48175048</td>\n    </tr>\n    <tr>\n      <th>Aruba</th>\n      <th>2017</th>\n      <td>105366</td>\n    </tr>\n    <tr>\n      <th>Colombia</th>\n      <th>2017</th>\n      <td>48909844</td>\n    </tr>\n    <tr>\n      <th>Aruba</th>\n      <th>2018</th>\n      <td>105845</td>\n    </tr>\n    <tr>\n      <th>Colombia</th>\n      <th>2018</th>\n      <td>49661056</td>\n    </tr>\n    <tr>\n      <th>Aruba</th>\n      <th>2019</th>\n      <td>106314</td>\n    </tr>\n    <tr>\n      <th>Colombia</th>\n      <th>2019</th>\n      <td>50339443</td>\n    </tr>\n  </tbody>\n</table>\n</div>"
     },
     "metadata": {},
     "execution_count": 72
    }
   ],
   "source": [
    "df_sample.set_index(['Country','year']) # Definen los datos del dataframe(elimina el numero lateral)"
   ]
  },
  {
   "cell_type": "code",
   "execution_count": 73,
   "metadata": {},
   "outputs": [
    {
     "output_type": "execute_result",
     "data": {
      "text/plain": [
       "                   pob\n",
       "Country  year         \n",
       "Aruba    2015   104341\n",
       "         2016   104872\n",
       "         2017   105366\n",
       "         2018   105845\n",
       "         2019   106314\n",
       "Colombia 2015 47520667\n",
       "         2016 48175048\n",
       "         2017 48909844\n",
       "         2018 49661056\n",
       "         2019 50339443"
      ],
      "text/html": "<div>\n<style scoped>\n    .dataframe tbody tr th:only-of-type {\n        vertical-align: middle;\n    }\n\n    .dataframe tbody tr th {\n        vertical-align: top;\n    }\n\n    .dataframe thead th {\n        text-align: right;\n    }\n</style>\n<table border=\"1\" class=\"dataframe\">\n  <thead>\n    <tr style=\"text-align: right;\">\n      <th></th>\n      <th></th>\n      <th>pob</th>\n    </tr>\n    <tr>\n      <th>Country</th>\n      <th>year</th>\n      <th></th>\n    </tr>\n  </thead>\n  <tbody>\n    <tr>\n      <th rowspan=\"5\" valign=\"top\">Aruba</th>\n      <th>2015</th>\n      <td>104341</td>\n    </tr>\n    <tr>\n      <th>2016</th>\n      <td>104872</td>\n    </tr>\n    <tr>\n      <th>2017</th>\n      <td>105366</td>\n    </tr>\n    <tr>\n      <th>2018</th>\n      <td>105845</td>\n    </tr>\n    <tr>\n      <th>2019</th>\n      <td>106314</td>\n    </tr>\n    <tr>\n      <th rowspan=\"5\" valign=\"top\">Colombia</th>\n      <th>2015</th>\n      <td>47520667</td>\n    </tr>\n    <tr>\n      <th>2016</th>\n      <td>48175048</td>\n    </tr>\n    <tr>\n      <th>2017</th>\n      <td>48909844</td>\n    </tr>\n    <tr>\n      <th>2018</th>\n      <td>49661056</td>\n    </tr>\n    <tr>\n      <th>2019</th>\n      <td>50339443</td>\n    </tr>\n  </tbody>\n</table>\n</div>"
     },
     "metadata": {},
     "execution_count": 73
    }
   ],
   "source": [
    "df_sample = df_sample.set_index(['Country','year']).sort_index() # Ordena los paises de una maneja mejor estructurada\n",
    "df_sample"
   ]
  },
  {
   "cell_type": "code",
   "execution_count": 75,
   "metadata": {},
   "outputs": [
    {
     "output_type": "execute_result",
     "data": {
      "text/plain": [
       "          pob\n",
       "year         \n",
       "2015 47520667\n",
       "2016 48175048\n",
       "2017 48909844\n",
       "2018 49661056\n",
       "2019 50339443"
      ],
      "text/html": "<div>\n<style scoped>\n    .dataframe tbody tr th:only-of-type {\n        vertical-align: middle;\n    }\n\n    .dataframe tbody tr th {\n        vertical-align: top;\n    }\n\n    .dataframe thead th {\n        text-align: right;\n    }\n</style>\n<table border=\"1\" class=\"dataframe\">\n  <thead>\n    <tr style=\"text-align: right;\">\n      <th></th>\n      <th>pob</th>\n    </tr>\n    <tr>\n      <th>year</th>\n      <th></th>\n    </tr>\n  </thead>\n  <tbody>\n    <tr>\n      <th>2015</th>\n      <td>47520667</td>\n    </tr>\n    <tr>\n      <th>2016</th>\n      <td>48175048</td>\n    </tr>\n    <tr>\n      <th>2017</th>\n      <td>48909844</td>\n    </tr>\n    <tr>\n      <th>2018</th>\n      <td>49661056</td>\n    </tr>\n    <tr>\n      <th>2019</th>\n      <td>50339443</td>\n    </tr>\n  </tbody>\n</table>\n</div>"
     },
     "metadata": {},
     "execution_count": 75
    }
   ],
   "source": [
    "df_sample.loc['Colombia',:] # Muestra solos los datos del pais, en este caso Colombia"
   ]
  },
  {
   "cell_type": "code",
   "execution_count": 76,
   "metadata": {},
   "outputs": [
    {
     "output_type": "execute_result",
     "data": {
      "text/plain": [
       "pob   48175048\n",
       "Name: 2016, dtype: float64"
      ]
     },
     "metadata": {},
     "execution_count": 76
    }
   ],
   "source": [
    "df_sample.loc['Colombia',:].loc['2016',:] # Aqui muestra los datos del pais colombia y el año 2016 nada mas"
   ]
  },
  {
   "cell_type": "code",
   "execution_count": 77,
   "metadata": {},
   "outputs": [
    {
     "output_type": "execute_result",
     "data": {
      "text/plain": [
       "        pob\n",
       "year       \n",
       "2015 104341\n",
       "2016 104872\n",
       "2017 105366\n",
       "2018 105845\n",
       "2019 106314"
      ],
      "text/html": "<div>\n<style scoped>\n    .dataframe tbody tr th:only-of-type {\n        vertical-align: middle;\n    }\n\n    .dataframe tbody tr th {\n        vertical-align: top;\n    }\n\n    .dataframe thead th {\n        text-align: right;\n    }\n</style>\n<table border=\"1\" class=\"dataframe\">\n  <thead>\n    <tr style=\"text-align: right;\">\n      <th></th>\n      <th>pob</th>\n    </tr>\n    <tr>\n      <th>year</th>\n      <th></th>\n    </tr>\n  </thead>\n  <tbody>\n    <tr>\n      <th>2015</th>\n      <td>104341</td>\n    </tr>\n    <tr>\n      <th>2016</th>\n      <td>104872</td>\n    </tr>\n    <tr>\n      <th>2017</th>\n      <td>105366</td>\n    </tr>\n    <tr>\n      <th>2018</th>\n      <td>105845</td>\n    </tr>\n    <tr>\n      <th>2019</th>\n      <td>106314</td>\n    </tr>\n  </tbody>\n</table>\n</div>"
     },
     "metadata": {},
     "execution_count": 77
    }
   ],
   "source": [
    "df_sample.xs(['Aruba']) # Seleccionado multiples indices en este caso solo los datos de aruba "
   ]
  },
  {
   "cell_type": "code",
   "execution_count": 78,
   "metadata": {},
   "outputs": [
    {
     "output_type": "execute_result",
     "data": {
      "text/plain": [
       "pob   105845\n",
       "Name: (Aruba, 2018), dtype: float64"
      ]
     },
     "metadata": {},
     "execution_count": 78
    }
   ],
   "source": [
    "df_sample.xs(['Aruba','2018'])# Seleccionado multiples indices en este caso solo los datos de aruba y la poblacion del 2018"
   ]
  },
  {
   "cell_type": "code",
   "execution_count": 79,
   "metadata": {},
   "outputs": [
    {
     "output_type": "execute_result",
     "data": {
      "text/plain": [
       "              pob\n",
       "Country          \n",
       "Aruba      105845\n",
       "Colombia 49661056"
      ],
      "text/html": "<div>\n<style scoped>\n    .dataframe tbody tr th:only-of-type {\n        vertical-align: middle;\n    }\n\n    .dataframe tbody tr th {\n        vertical-align: top;\n    }\n\n    .dataframe thead th {\n        text-align: right;\n    }\n</style>\n<table border=\"1\" class=\"dataframe\">\n  <thead>\n    <tr style=\"text-align: right;\">\n      <th></th>\n      <th>pob</th>\n    </tr>\n    <tr>\n      <th>Country</th>\n      <th></th>\n    </tr>\n  </thead>\n  <tbody>\n    <tr>\n      <th>Aruba</th>\n      <td>105845</td>\n    </tr>\n    <tr>\n      <th>Colombia</th>\n      <td>49661056</td>\n    </tr>\n  </tbody>\n</table>\n</div>"
     },
     "metadata": {},
     "execution_count": 79
    }
   ],
   "source": [
    "df_sample.xs('2018', level='year') # estoy esta a bajo nivel en este caso es country y year seleccionando los paises y el año 2018 especificamente"
   ]
  },
  {
   "cell_type": "code",
   "execution_count": 86,
   "metadata": {},
   "outputs": [
    {
     "output_type": "execute_result",
     "data": {
      "text/plain": [
       "                      pob\n",
       "Country     year         \n",
       "Afghanistan 2015 34413603\n",
       "            2016 35383128\n",
       "            2017 36296400\n",
       "            2018 37172386\n",
       "            2019 38041754\n",
       "...                   ...\n",
       "Zimbabwe    2015 13814629\n",
       "            2016 14030390\n",
       "            2017 14236745\n",
       "            2018 14439018\n",
       "            2019 14645468\n",
       "\n",
       "[1320 rows x 1 columns]"
      ],
      "text/html": "<div>\n<style scoped>\n    .dataframe tbody tr th:only-of-type {\n        vertical-align: middle;\n    }\n\n    .dataframe tbody tr th {\n        vertical-align: top;\n    }\n\n    .dataframe thead th {\n        text-align: right;\n    }\n</style>\n<table border=\"1\" class=\"dataframe\">\n  <thead>\n    <tr style=\"text-align: right;\">\n      <th></th>\n      <th></th>\n      <th>pob</th>\n    </tr>\n    <tr>\n      <th>Country</th>\n      <th>year</th>\n      <th></th>\n    </tr>\n  </thead>\n  <tbody>\n    <tr>\n      <th rowspan=\"5\" valign=\"top\">Afghanistan</th>\n      <th>2015</th>\n      <td>34413603</td>\n    </tr>\n    <tr>\n      <th>2016</th>\n      <td>35383128</td>\n    </tr>\n    <tr>\n      <th>2017</th>\n      <td>36296400</td>\n    </tr>\n    <tr>\n      <th>2018</th>\n      <td>37172386</td>\n    </tr>\n    <tr>\n      <th>2019</th>\n      <td>38041754</td>\n    </tr>\n    <tr>\n      <th>...</th>\n      <th>...</th>\n      <td>...</td>\n    </tr>\n    <tr>\n      <th rowspan=\"5\" valign=\"top\">Zimbabwe</th>\n      <th>2015</th>\n      <td>13814629</td>\n    </tr>\n    <tr>\n      <th>2016</th>\n      <td>14030390</td>\n    </tr>\n    <tr>\n      <th>2017</th>\n      <td>14236745</td>\n    </tr>\n    <tr>\n      <th>2018</th>\n      <td>14439018</td>\n    </tr>\n    <tr>\n      <th>2019</th>\n      <td>14645468</td>\n    </tr>\n  </tbody>\n</table>\n<p>1320 rows × 1 columns</p>\n</div>"
     },
     "metadata": {},
     "execution_count": 86
    }
   ],
   "source": [
    "df_countries = df.set_index(['Country','year']).sort_index(ascending=[True, True]) # Ordenando de forma descendiente\n",
    "df_countries"
   ]
  },
  {
   "cell_type": "code",
   "execution_count": 88,
   "metadata": {},
   "outputs": [
    {
     "output_type": "execute_result",
     "data": {
      "text/plain": [
       "                    pob\n",
       "Country   year         \n",
       "Aruba     2015   104341\n",
       "          2016   104872\n",
       "          2017   105366\n",
       "Australia 2015 23815995\n",
       "          2016 24190907\n",
       "          2017 24601860\n",
       "Austria   2015  8642699\n",
       "          2016  8736668\n",
       "          2017  8797566"
      ],
      "text/html": "<div>\n<style scoped>\n    .dataframe tbody tr th:only-of-type {\n        vertical-align: middle;\n    }\n\n    .dataframe tbody tr th {\n        vertical-align: top;\n    }\n\n    .dataframe thead th {\n        text-align: right;\n    }\n</style>\n<table border=\"1\" class=\"dataframe\">\n  <thead>\n    <tr style=\"text-align: right;\">\n      <th></th>\n      <th></th>\n      <th>pob</th>\n    </tr>\n    <tr>\n      <th>Country</th>\n      <th>year</th>\n      <th></th>\n    </tr>\n  </thead>\n  <tbody>\n    <tr>\n      <th rowspan=\"3\" valign=\"top\">Aruba</th>\n      <th>2015</th>\n      <td>104341</td>\n    </tr>\n    <tr>\n      <th>2016</th>\n      <td>104872</td>\n    </tr>\n    <tr>\n      <th>2017</th>\n      <td>105366</td>\n    </tr>\n    <tr>\n      <th rowspan=\"3\" valign=\"top\">Australia</th>\n      <th>2015</th>\n      <td>23815995</td>\n    </tr>\n    <tr>\n      <th>2016</th>\n      <td>24190907</td>\n    </tr>\n    <tr>\n      <th>2017</th>\n      <td>24601860</td>\n    </tr>\n    <tr>\n      <th rowspan=\"3\" valign=\"top\">Austria</th>\n      <th>2015</th>\n      <td>8642699</td>\n    </tr>\n    <tr>\n      <th>2016</th>\n      <td>8736668</td>\n    </tr>\n    <tr>\n      <th>2017</th>\n      <td>8797566</td>\n    </tr>\n  </tbody>\n</table>\n</div>"
     },
     "metadata": {},
     "execution_count": 88
    }
   ],
   "source": [
    "ids=pd.IndexSlice # Guarda una funcion de una variable numerica tipo texto\n",
    "df_countries.loc[ids['Aruba': 'Austria', '2015':'2017'],:].sort_index() # con estoy estas colocando rangos entre los paises a y b y entre las fechas a y b"
   ]
  },
  {
   "cell_type": "code",
   "execution_count": 92,
   "metadata": {},
   "outputs": [
    {
     "output_type": "execute_result",
     "data": {
      "text/plain": [
       "Index(['Afghanistan', 'Afghanistan', 'Afghanistan', 'Afghanistan',\n",
       "       'Afghanistan', 'Albania', 'Albania', 'Albania', 'Albania', 'Albania',\n",
       "       ...\n",
       "       'Zambia', 'Zambia', 'Zambia', 'Zambia', 'Zambia', 'Zimbabwe',\n",
       "       'Zimbabwe', 'Zimbabwe', 'Zimbabwe', 'Zimbabwe'],\n",
       "      dtype='object', name='Country', length=1320)"
      ]
     },
     "metadata": {},
     "execution_count": 92
    }
   ],
   "source": [
    "df_countries.index.get_level_values(0)# Selecciona los datos del primer nivel osea en este caso es countries, en el segundo nivel es el año"
   ]
  },
  {
   "cell_type": "code",
   "execution_count": 97,
   "metadata": {},
   "outputs": [
    {
     "output_type": "execute_result",
     "data": {
      "text/plain": [
       "18729160.0"
      ]
     },
     "metadata": {},
     "execution_count": 97
    }
   ],
   "source": [
    "df_countries['pob']['Chile'] ['2018']# Muestra una serie que tiene 2 columnas, y puedo seleccionar un pais"
   ]
  },
  {
   "cell_type": "code",
   "execution_count": 98,
   "metadata": {},
   "outputs": [
    {
     "output_type": "execute_result",
     "data": {
      "text/plain": [
       "             pob\n",
       "year            \n",
       "2015 77802228760\n",
       "2016 78776007940\n",
       "2017 79749013306\n",
       "2018 80705148712\n",
       "2019 81650010117"
      ],
      "text/html": "<div>\n<style scoped>\n    .dataframe tbody tr th:only-of-type {\n        vertical-align: middle;\n    }\n\n    .dataframe tbody tr th {\n        vertical-align: top;\n    }\n\n    .dataframe thead th {\n        text-align: right;\n    }\n</style>\n<table border=\"1\" class=\"dataframe\">\n  <thead>\n    <tr style=\"text-align: right;\">\n      <th></th>\n      <th>pob</th>\n    </tr>\n    <tr>\n      <th>year</th>\n      <th></th>\n    </tr>\n  </thead>\n  <tbody>\n    <tr>\n      <th>2015</th>\n      <td>77802228760</td>\n    </tr>\n    <tr>\n      <th>2016</th>\n      <td>78776007940</td>\n    </tr>\n    <tr>\n      <th>2017</th>\n      <td>79749013306</td>\n    </tr>\n    <tr>\n      <th>2018</th>\n      <td>80705148712</td>\n    </tr>\n    <tr>\n      <th>2019</th>\n      <td>81650010117</td>\n    </tr>\n  </tbody>\n</table>\n</div>"
     },
     "metadata": {},
     "execution_count": 98
    }
   ],
   "source": [
    "df_countries.sum(level='year') # La suma de la poblacion mundial por año"
   ]
  },
  {
   "cell_type": "code",
   "execution_count": 99,
   "metadata": {},
   "outputs": [
    {
     "output_type": "execute_result",
     "data": {
      "text/plain": [
       "              pob                                    \n",
       "year         2015     2016     2017     2018     2019\n",
       "Country                                              \n",
       "Aruba      104341   104872   105366   105845   106314\n",
       "Colombia 47520667 48175048 48909844 49661056 50339443"
      ],
      "text/html": "<div>\n<style scoped>\n    .dataframe tbody tr th:only-of-type {\n        vertical-align: middle;\n    }\n\n    .dataframe tbody tr th {\n        vertical-align: top;\n    }\n\n    .dataframe thead tr th {\n        text-align: left;\n    }\n\n    .dataframe thead tr:last-of-type th {\n        text-align: right;\n    }\n</style>\n<table border=\"1\" class=\"dataframe\">\n  <thead>\n    <tr>\n      <th></th>\n      <th colspan=\"5\" halign=\"left\">pob</th>\n    </tr>\n    <tr>\n      <th>year</th>\n      <th>2015</th>\n      <th>2016</th>\n      <th>2017</th>\n      <th>2018</th>\n      <th>2019</th>\n    </tr>\n    <tr>\n      <th>Country</th>\n      <th></th>\n      <th></th>\n      <th></th>\n      <th></th>\n      <th></th>\n    </tr>\n  </thead>\n  <tbody>\n    <tr>\n      <th>Aruba</th>\n      <td>104341</td>\n      <td>104872</td>\n      <td>105366</td>\n      <td>105845</td>\n      <td>106314</td>\n    </tr>\n    <tr>\n      <th>Colombia</th>\n      <td>47520667</td>\n      <td>48175048</td>\n      <td>48909844</td>\n      <td>49661056</td>\n      <td>50339443</td>\n    </tr>\n  </tbody>\n</table>\n</div>"
     },
     "metadata": {},
     "execution_count": 99
    }
   ],
   "source": [
    "df_sample.unstack('year') # Comvertir o cambiar los indices del año en columnas"
   ]
  },
  {
   "cell_type": "code",
   "execution_count": 100,
   "metadata": {},
   "outputs": [
    {
     "output_type": "execute_result",
     "data": {
      "text/plain": [
       "           pob         \n",
       "Country  Aruba Colombia\n",
       "year                   \n",
       "2015    104341 47520667\n",
       "2016    104872 48175048\n",
       "2017    105366 48909844\n",
       "2018    105845 49661056\n",
       "2019    106314 50339443"
      ],
      "text/html": "<div>\n<style scoped>\n    .dataframe tbody tr th:only-of-type {\n        vertical-align: middle;\n    }\n\n    .dataframe tbody tr th {\n        vertical-align: top;\n    }\n\n    .dataframe thead tr th {\n        text-align: left;\n    }\n\n    .dataframe thead tr:last-of-type th {\n        text-align: right;\n    }\n</style>\n<table border=\"1\" class=\"dataframe\">\n  <thead>\n    <tr>\n      <th></th>\n      <th colspan=\"2\" halign=\"left\">pob</th>\n    </tr>\n    <tr>\n      <th>Country</th>\n      <th>Aruba</th>\n      <th>Colombia</th>\n    </tr>\n    <tr>\n      <th>year</th>\n      <th></th>\n      <th></th>\n    </tr>\n  </thead>\n  <tbody>\n    <tr>\n      <th>2015</th>\n      <td>104341</td>\n      <td>47520667</td>\n    </tr>\n    <tr>\n      <th>2016</th>\n      <td>104872</td>\n      <td>48175048</td>\n    </tr>\n    <tr>\n      <th>2017</th>\n      <td>105366</td>\n      <td>48909844</td>\n    </tr>\n    <tr>\n      <th>2018</th>\n      <td>105845</td>\n      <td>49661056</td>\n    </tr>\n    <tr>\n      <th>2019</th>\n      <td>106314</td>\n      <td>50339443</td>\n    </tr>\n  </tbody>\n</table>\n</div>"
     },
     "metadata": {},
     "execution_count": 100
    }
   ],
   "source": [
    "df_sample.unstack('Country') # Comvertir o cambiar los indices del pais en columnas"
   ]
  },
  {
   "cell_type": "code",
   "execution_count": null,
   "metadata": {},
   "outputs": [],
   "source": []
  }
 ]
}