{
 "metadata": {
  "language_info": {
   "codemirror_mode": {
    "name": "ipython",
    "version": 3
   },
   "file_extension": ".py",
   "mimetype": "text/x-python",
   "name": "python",
   "nbconvert_exporter": "python",
   "pygments_lexer": "ipython3",
   "version": "3.8.3"
  },
  "orig_nbformat": 2,
  "kernelspec": {
   "name": "python383jvsc74a57bd0cc0f564a2842815ce2e202ab27614177d11b657bc1d48b3d4cc73b91c2a37dec",
   "display_name": "Python 3.8.3 64-bit ('base': conda)"
  }
 },
 "nbformat": 4,
 "nbformat_minor": 2,
 "cells": [
  {
   "source": [
    "# Concatenación de DataFrames: concat y append (16/29)"
   ],
   "cell_type": "markdown",
   "metadata": {}
  },
  {
   "cell_type": "code",
   "execution_count": 1,
   "metadata": {},
   "outputs": [],
   "source": [
    "import pandas as pd \n",
    "import numpy as np \n"
   ]
  },
  {
   "cell_type": "code",
   "execution_count": 2,
   "metadata": {},
   "outputs": [],
   "source": [
    "pd.options.display.float_format='{:.2f}'.format # Es para que los numeros solo tengan 2 decimales con pandas"
   ]
  },
  {
   "cell_type": "code",
   "execution_count": 3,
   "metadata": {},
   "outputs": [],
   "source": [
    "np.set_printoptions(precision=2) # Es para que los numeros solo tengan 2 decimales con numpy"
   ]
  },
  {
   "cell_type": "code",
   "execution_count": 5,
   "metadata": {},
   "outputs": [
    {
     "output_type": "execute_result",
     "data": {
      "text/plain": [
       "0.4793920815694628"
      ]
     },
     "metadata": {},
     "execution_count": 5
    }
   ],
   "source": [
    "np.random.rand() # Crear numeros aleatorios con NUMPY entre 0 y 1"
   ]
  },
  {
   "cell_type": "code",
   "execution_count": 7,
   "metadata": {},
   "outputs": [
    {
     "output_type": "execute_result",
     "data": {
      "text/plain": [
       "0.08342498076610294"
      ]
     },
     "metadata": {},
     "execution_count": 7
    }
   ],
   "source": [
    "np.random.randn() # Crear numeros aleatorios con NUMPY entre -1 y 1"
   ]
  },
  {
   "cell_type": "code",
   "execution_count": 13,
   "metadata": {},
   "outputs": [
    {
     "output_type": "execute_result",
     "data": {
      "text/plain": [
       "array([[6.51, 4.45, 6.63, 4.6 , 9.36],\n",
       "       [8.74, 6.19, 9.09, 7.4 , 7.8 ]])"
      ]
     },
     "metadata": {},
     "execution_count": 13
    }
   ],
   "source": [
    "x1 = np.random.rand(2,5)*10  # Crear numeros aleatorios con NUMPY entre 0 a 1 multiplicado por 100 el valor aleatorio. Generando una matriz de 2 por 5\n",
    "x1"
   ]
  },
  {
   "cell_type": "code",
   "execution_count": 11,
   "metadata": {},
   "outputs": [
    {
     "output_type": "execute_result",
     "data": {
      "text/plain": [
       "array([[-0.09, -0.65, -0.12, -0.31, -0.05],\n",
       "       [-0.08, -0.71, -0.85, -0.39, -0.58]])"
      ]
     },
     "metadata": {},
     "execution_count": 11
    }
   ],
   "source": [
    "x2 = np.random.rand(2,5)*-1 # Crear numeros aleatorios con NUMPY entre 0 a 1 multiplicado por -1 el valor aleatorio. Generando una matriz de 2 por 5\n",
    "x2"
   ]
  },
  {
   "cell_type": "code",
   "execution_count": 14,
   "metadata": {},
   "outputs": [
    {
     "output_type": "execute_result",
     "data": {
      "text/plain": [
       "array([[ 6.51,  4.45,  6.63,  4.6 ,  9.36],\n",
       "       [ 8.74,  6.19,  9.09,  7.4 ,  7.8 ],\n",
       "       [-0.09, -0.65, -0.12, -0.31, -0.05],\n",
       "       [-0.08, -0.71, -0.85, -0.39, -0.58]])"
      ]
     },
     "metadata": {},
     "execution_count": 14
    }
   ],
   "source": [
    "np.concatenate([x1,x2]) # Concatenando las matrices x1 y x2"
   ]
  },
  {
   "cell_type": "code",
   "execution_count": 15,
   "metadata": {},
   "outputs": [
    {
     "output_type": "execute_result",
     "data": {
      "text/plain": [
       "(4, 5)"
      ]
     },
     "metadata": {},
     "execution_count": 15
    }
   ],
   "source": [
    "np.concatenate([x1,x2]).shape # Saber de que esta hecho las matrices en este caso summo 2 matrices de 2x5 quedando 4x5"
   ]
  },
  {
   "cell_type": "code",
   "execution_count": 17,
   "metadata": {},
   "outputs": [
    {
     "output_type": "execute_result",
     "data": {
      "text/plain": [
       "array([[ 6.51,  4.45,  6.63,  4.6 ,  9.36, -0.09, -0.65, -0.12, -0.31,\n",
       "        -0.05],\n",
       "       [ 8.74,  6.19,  9.09,  7.4 ,  7.8 , -0.08, -0.71, -0.85, -0.39,\n",
       "        -0.58]])"
      ]
     },
     "metadata": {},
     "execution_count": 17
    }
   ],
   "source": [
    "np.concatenate([x1,x2], axis = 1) # Junta ambas matrices pero ahora la x1 queda en una matriz y la x2 tambien quedando con 2 matrices con 10 columnas cada auna "
   ]
  },
  {
   "cell_type": "code",
   "execution_count": 18,
   "metadata": {},
   "outputs": [
    {
     "output_type": "execute_result",
     "data": {
      "text/plain": [
       "(2, 10)"
      ]
     },
     "metadata": {},
     "execution_count": 18
    }
   ],
   "source": [
    "np.concatenate([x1,x2], axis = 1).shape  # Junta ambas matrices pero ahora la x1 queda en una matriz y la x2 tambien quedando con 2 matrices con 10 columnas cada auna "
   ]
  },
  {
   "cell_type": "code",
   "execution_count": 20,
   "metadata": {},
   "outputs": [
    {
     "output_type": "execute_result",
     "data": {
      "text/plain": [
       "a   6.51\n",
       "b   4.45\n",
       "c   6.63\n",
       "d   4.60\n",
       "e   9.36\n",
       "dtype: float64"
      ]
     },
     "metadata": {},
     "execution_count": 20
    }
   ],
   "source": [
    "s1 = pd.Series(x1[0], index = ['a','b','c','d','e']) # Creando 5 elementos en la serie con PANDAS\n",
    "s1"
   ]
  },
  {
   "cell_type": "code",
   "execution_count": 21,
   "metadata": {},
   "outputs": [
    {
     "output_type": "execute_result",
     "data": {
      "text/plain": [
       "c   -0.09\n",
       "d   -0.65\n",
       "e   -0.12\n",
       "f   -0.31\n",
       "g   -0.05\n",
       "dtype: float64"
      ]
     },
     "metadata": {},
     "execution_count": 21
    }
   ],
   "source": [
    "s2 = pd.Series(x2[0], index = ['c','d','e','f','g']) # Creando 5 elementos en la serie con PANDAS\n",
    "s2"
   ]
  },
  {
   "cell_type": "code",
   "execution_count": 22,
   "metadata": {},
   "outputs": [
    {
     "output_type": "execute_result",
     "data": {
      "text/plain": [
       "a    6.51\n",
       "b    4.45\n",
       "c    6.63\n",
       "d    4.60\n",
       "e    9.36\n",
       "c   -0.09\n",
       "d   -0.65\n",
       "e   -0.12\n",
       "f   -0.31\n",
       "g   -0.05\n",
       "dtype: float64"
      ]
     },
     "metadata": {},
     "execution_count": 22
    }
   ],
   "source": [
    "pd.concat([s1,s2]) # Concatenando las series con PANDAS y esto es a lo largo de las filas"
   ]
  },
  {
   "cell_type": "code",
   "execution_count": 29,
   "metadata": {},
   "outputs": [
    {
     "output_type": "execute_result",
     "data": {
      "text/plain": [
       "     0     1\n",
       "a 6.51   NaN\n",
       "b 4.45   NaN\n",
       "c 6.63 -0.09\n",
       "d 4.60 -0.65\n",
       "e 9.36 -0.12\n",
       "f  NaN -0.31\n",
       "g  NaN -0.05"
      ],
      "text/html": "<div>\n<style scoped>\n    .dataframe tbody tr th:only-of-type {\n        vertical-align: middle;\n    }\n\n    .dataframe tbody tr th {\n        vertical-align: top;\n    }\n\n    .dataframe thead th {\n        text-align: right;\n    }\n</style>\n<table border=\"1\" class=\"dataframe\">\n  <thead>\n    <tr style=\"text-align: right;\">\n      <th></th>\n      <th>0</th>\n      <th>1</th>\n    </tr>\n  </thead>\n  <tbody>\n    <tr>\n      <th>a</th>\n      <td>6.51</td>\n      <td>NaN</td>\n    </tr>\n    <tr>\n      <th>b</th>\n      <td>4.45</td>\n      <td>NaN</td>\n    </tr>\n    <tr>\n      <th>c</th>\n      <td>6.63</td>\n      <td>-0.09</td>\n    </tr>\n    <tr>\n      <th>d</th>\n      <td>4.60</td>\n      <td>-0.65</td>\n    </tr>\n    <tr>\n      <th>e</th>\n      <td>9.36</td>\n      <td>-0.12</td>\n    </tr>\n    <tr>\n      <th>f</th>\n      <td>NaN</td>\n      <td>-0.31</td>\n    </tr>\n    <tr>\n      <th>g</th>\n      <td>NaN</td>\n      <td>-0.05</td>\n    </tr>\n  </tbody>\n</table>\n</div>"
     },
     "metadata": {},
     "execution_count": 29
    }
   ],
   "source": [
    "pd.concat([s1,s2], axis=1) # Se concatenan y generan 2 columnas"
   ]
  },
  {
   "cell_type": "code",
   "execution_count": 30,
   "metadata": {},
   "outputs": [
    {
     "output_type": "execute_result",
     "data": {
      "text/plain": [
       "0   6.51\n",
       "1   4.45\n",
       "2   6.63\n",
       "3   4.60\n",
       "4   9.36\n",
       "dtype: float64"
      ]
     },
     "metadata": {},
     "execution_count": 30
    }
   ],
   "source": [
    "s1.reset_index(drop=True) # Esto es para resetear el indice y que no aparecezca las letras"
   ]
  },
  {
   "cell_type": "code",
   "execution_count": 31,
   "metadata": {},
   "outputs": [
    {
     "output_type": "execute_result",
     "data": {
      "text/plain": [
       "     0     1\n",
       "0 6.51 -0.09\n",
       "1 4.45 -0.65\n",
       "2 6.63 -0.12\n",
       "3 4.60 -0.31\n",
       "4 9.36 -0.05"
      ],
      "text/html": "<div>\n<style scoped>\n    .dataframe tbody tr th:only-of-type {\n        vertical-align: middle;\n    }\n\n    .dataframe tbody tr th {\n        vertical-align: top;\n    }\n\n    .dataframe thead th {\n        text-align: right;\n    }\n</style>\n<table border=\"1\" class=\"dataframe\">\n  <thead>\n    <tr style=\"text-align: right;\">\n      <th></th>\n      <th>0</th>\n      <th>1</th>\n    </tr>\n  </thead>\n  <tbody>\n    <tr>\n      <th>0</th>\n      <td>6.51</td>\n      <td>-0.09</td>\n    </tr>\n    <tr>\n      <th>1</th>\n      <td>4.45</td>\n      <td>-0.65</td>\n    </tr>\n    <tr>\n      <th>2</th>\n      <td>6.63</td>\n      <td>-0.12</td>\n    </tr>\n    <tr>\n      <th>3</th>\n      <td>4.60</td>\n      <td>-0.31</td>\n    </tr>\n    <tr>\n      <th>4</th>\n      <td>9.36</td>\n      <td>-0.05</td>\n    </tr>\n  </tbody>\n</table>\n</div>"
     },
     "metadata": {},
     "execution_count": 31
    }
   ],
   "source": [
    "pd.concat([s1.reset_index(drop=True),s2.reset_index(drop=True)], axis=1) # Se concatenan y generan 2 columnas pero borrando los indeces de letras y solo dejando el numero de la posicion"
   ]
  },
  {
   "cell_type": "code",
   "execution_count": 33,
   "metadata": {},
   "outputs": [
    {
     "output_type": "execute_result",
     "data": {
      "text/plain": [
       "     a    b\n",
       "0 2.50 9.68\n",
       "1 5.81 5.75\n",
       "2 6.25 7.99"
      ],
      "text/html": "<div>\n<style scoped>\n    .dataframe tbody tr th:only-of-type {\n        vertical-align: middle;\n    }\n\n    .dataframe tbody tr th {\n        vertical-align: top;\n    }\n\n    .dataframe thead th {\n        text-align: right;\n    }\n</style>\n<table border=\"1\" class=\"dataframe\">\n  <thead>\n    <tr style=\"text-align: right;\">\n      <th></th>\n      <th>a</th>\n      <th>b</th>\n    </tr>\n  </thead>\n  <tbody>\n    <tr>\n      <th>0</th>\n      <td>2.50</td>\n      <td>9.68</td>\n    </tr>\n    <tr>\n      <th>1</th>\n      <td>5.81</td>\n      <td>5.75</td>\n    </tr>\n    <tr>\n      <th>2</th>\n      <td>6.25</td>\n      <td>7.99</td>\n    </tr>\n  </tbody>\n</table>\n</div>"
     },
     "metadata": {},
     "execution_count": 33
    }
   ],
   "source": [
    "df1 = pd.DataFrame(np.random.rand(3,2)*10, columns=['a','b']) #Creando una matriz de 2 columnas y 3 filas\n",
    "df1"
   ]
  },
  {
   "cell_type": "code",
   "execution_count": 34,
   "metadata": {},
   "outputs": [
    {
     "output_type": "execute_result",
     "data": {
      "text/plain": [
       "      a     b\n",
       "2 -0.82 -0.75\n",
       "3 -0.02 -0.48\n",
       "4 -0.60 -0.38"
      ],
      "text/html": "<div>\n<style scoped>\n    .dataframe tbody tr th:only-of-type {\n        vertical-align: middle;\n    }\n\n    .dataframe tbody tr th {\n        vertical-align: top;\n    }\n\n    .dataframe thead th {\n        text-align: right;\n    }\n</style>\n<table border=\"1\" class=\"dataframe\">\n  <thead>\n    <tr style=\"text-align: right;\">\n      <th></th>\n      <th>a</th>\n      <th>b</th>\n    </tr>\n  </thead>\n  <tbody>\n    <tr>\n      <th>2</th>\n      <td>-0.82</td>\n      <td>-0.75</td>\n    </tr>\n    <tr>\n      <th>3</th>\n      <td>-0.02</td>\n      <td>-0.48</td>\n    </tr>\n    <tr>\n      <th>4</th>\n      <td>-0.60</td>\n      <td>-0.38</td>\n    </tr>\n  </tbody>\n</table>\n</div>"
     },
     "metadata": {},
     "execution_count": 34
    }
   ],
   "source": [
    "df2 = pd.DataFrame(np.random.rand(3,2)*-1, columns=['a','b'], index=[2,3,4]) #Creando una matriz de 2 columnas y 3 filas\n",
    "df2"
   ]
  },
  {
   "cell_type": "code",
   "execution_count": 35,
   "metadata": {},
   "outputs": [
    {
     "output_type": "execute_result",
     "data": {
      "text/plain": [
       "      a     b\n",
       "0  2.50  9.68\n",
       "1  5.81  5.75\n",
       "2  6.25  7.99\n",
       "2 -0.82 -0.75\n",
       "3 -0.02 -0.48\n",
       "4 -0.60 -0.38"
      ],
      "text/html": "<div>\n<style scoped>\n    .dataframe tbody tr th:only-of-type {\n        vertical-align: middle;\n    }\n\n    .dataframe tbody tr th {\n        vertical-align: top;\n    }\n\n    .dataframe thead th {\n        text-align: right;\n    }\n</style>\n<table border=\"1\" class=\"dataframe\">\n  <thead>\n    <tr style=\"text-align: right;\">\n      <th></th>\n      <th>a</th>\n      <th>b</th>\n    </tr>\n  </thead>\n  <tbody>\n    <tr>\n      <th>0</th>\n      <td>2.50</td>\n      <td>9.68</td>\n    </tr>\n    <tr>\n      <th>1</th>\n      <td>5.81</td>\n      <td>5.75</td>\n    </tr>\n    <tr>\n      <th>2</th>\n      <td>6.25</td>\n      <td>7.99</td>\n    </tr>\n    <tr>\n      <th>2</th>\n      <td>-0.82</td>\n      <td>-0.75</td>\n    </tr>\n    <tr>\n      <th>3</th>\n      <td>-0.02</td>\n      <td>-0.48</td>\n    </tr>\n    <tr>\n      <th>4</th>\n      <td>-0.60</td>\n      <td>-0.38</td>\n    </tr>\n  </tbody>\n</table>\n</div>"
     },
     "metadata": {},
     "execution_count": 35
    }
   ],
   "source": [
    "pd.concat([df1,df2]) # Concatenando dos dataframe"
   ]
  },
  {
   "cell_type": "code",
   "execution_count": 36,
   "metadata": {},
   "outputs": [
    {
     "output_type": "execute_result",
     "data": {
      "text/plain": [
       "     a    b     a     b\n",
       "0 2.50 9.68   NaN   NaN\n",
       "1 5.81 5.75   NaN   NaN\n",
       "2 6.25 7.99 -0.82 -0.75\n",
       "3  NaN  NaN -0.02 -0.48\n",
       "4  NaN  NaN -0.60 -0.38"
      ],
      "text/html": "<div>\n<style scoped>\n    .dataframe tbody tr th:only-of-type {\n        vertical-align: middle;\n    }\n\n    .dataframe tbody tr th {\n        vertical-align: top;\n    }\n\n    .dataframe thead th {\n        text-align: right;\n    }\n</style>\n<table border=\"1\" class=\"dataframe\">\n  <thead>\n    <tr style=\"text-align: right;\">\n      <th></th>\n      <th>a</th>\n      <th>b</th>\n      <th>a</th>\n      <th>b</th>\n    </tr>\n  </thead>\n  <tbody>\n    <tr>\n      <th>0</th>\n      <td>2.50</td>\n      <td>9.68</td>\n      <td>NaN</td>\n      <td>NaN</td>\n    </tr>\n    <tr>\n      <th>1</th>\n      <td>5.81</td>\n      <td>5.75</td>\n      <td>NaN</td>\n      <td>NaN</td>\n    </tr>\n    <tr>\n      <th>2</th>\n      <td>6.25</td>\n      <td>7.99</td>\n      <td>-0.82</td>\n      <td>-0.75</td>\n    </tr>\n    <tr>\n      <th>3</th>\n      <td>NaN</td>\n      <td>NaN</td>\n      <td>-0.02</td>\n      <td>-0.48</td>\n    </tr>\n    <tr>\n      <th>4</th>\n      <td>NaN</td>\n      <td>NaN</td>\n      <td>-0.60</td>\n      <td>-0.38</td>\n    </tr>\n  </tbody>\n</table>\n</div>"
     },
     "metadata": {},
     "execution_count": 36
    }
   ],
   "source": [
    "pd.concat([df1,df2], axis=1) "
   ]
  },
  {
   "cell_type": "code",
   "execution_count": 42,
   "metadata": {},
   "outputs": [
    {
     "output_type": "execute_result",
     "data": {
      "text/plain": [
       "     a    b     a     b\n",
       "2 6.25 7.99 -0.82 -0.75"
      ],
      "text/html": "<div>\n<style scoped>\n    .dataframe tbody tr th:only-of-type {\n        vertical-align: middle;\n    }\n\n    .dataframe tbody tr th {\n        vertical-align: top;\n    }\n\n    .dataframe thead th {\n        text-align: right;\n    }\n</style>\n<table border=\"1\" class=\"dataframe\">\n  <thead>\n    <tr style=\"text-align: right;\">\n      <th></th>\n      <th>a</th>\n      <th>b</th>\n      <th>a</th>\n      <th>b</th>\n    </tr>\n  </thead>\n  <tbody>\n    <tr>\n      <th>2</th>\n      <td>6.25</td>\n      <td>7.99</td>\n      <td>-0.82</td>\n      <td>-0.75</td>\n    </tr>\n  </tbody>\n</table>\n</div>"
     },
     "metadata": {},
     "execution_count": 42
    }
   ],
   "source": [
    "pd.concat([df1,df2], axis=1, join='inner') # Se queda marcando una fila"
   ]
  },
  {
   "cell_type": "code",
   "execution_count": 46,
   "metadata": {},
   "outputs": [
    {
     "output_type": "execute_result",
     "data": {
      "text/plain": [
       "     a    b     a     b\n",
       "0 2.50 9.68 -0.82 -0.75\n",
       "1 5.81 5.75 -0.02 -0.48\n",
       "2 6.25 7.99 -0.60 -0.38"
      ],
      "text/html": "<div>\n<style scoped>\n    .dataframe tbody tr th:only-of-type {\n        vertical-align: middle;\n    }\n\n    .dataframe tbody tr th {\n        vertical-align: top;\n    }\n\n    .dataframe thead th {\n        text-align: right;\n    }\n</style>\n<table border=\"1\" class=\"dataframe\">\n  <thead>\n    <tr style=\"text-align: right;\">\n      <th></th>\n      <th>a</th>\n      <th>b</th>\n      <th>a</th>\n      <th>b</th>\n    </tr>\n  </thead>\n  <tbody>\n    <tr>\n      <th>0</th>\n      <td>2.50</td>\n      <td>9.68</td>\n      <td>-0.82</td>\n      <td>-0.75</td>\n    </tr>\n    <tr>\n      <th>1</th>\n      <td>5.81</td>\n      <td>5.75</td>\n      <td>-0.02</td>\n      <td>-0.48</td>\n    </tr>\n    <tr>\n      <th>2</th>\n      <td>6.25</td>\n      <td>7.99</td>\n      <td>-0.60</td>\n      <td>-0.38</td>\n    </tr>\n  </tbody>\n</table>\n</div>"
     },
     "metadata": {},
     "execution_count": 46
    }
   ],
   "source": [
    "pd.concat([df1.reset_index(drop=True), df2.reset_index(drop=True)], axis=1) # Reseteando los indices y desaparenciendolos "
   ]
  },
  {
   "cell_type": "code",
   "execution_count": 47,
   "metadata": {},
   "outputs": [
    {
     "output_type": "execute_result",
     "data": {
      "text/plain": [
       "     a    b     a     b\n",
       "0 2.50 9.68 -0.82 -0.75\n",
       "1 5.81 5.75 -0.02 -0.48\n",
       "2 6.25 7.99 -0.60 -0.38"
      ],
      "text/html": "<div>\n<style scoped>\n    .dataframe tbody tr th:only-of-type {\n        vertical-align: middle;\n    }\n\n    .dataframe tbody tr th {\n        vertical-align: top;\n    }\n\n    .dataframe thead th {\n        text-align: right;\n    }\n</style>\n<table border=\"1\" class=\"dataframe\">\n  <thead>\n    <tr style=\"text-align: right;\">\n      <th></th>\n      <th>a</th>\n      <th>b</th>\n      <th>a</th>\n      <th>b</th>\n    </tr>\n  </thead>\n  <tbody>\n    <tr>\n      <th>0</th>\n      <td>2.50</td>\n      <td>9.68</td>\n      <td>-0.82</td>\n      <td>-0.75</td>\n    </tr>\n    <tr>\n      <th>1</th>\n      <td>5.81</td>\n      <td>5.75</td>\n      <td>-0.02</td>\n      <td>-0.48</td>\n    </tr>\n    <tr>\n      <th>2</th>\n      <td>6.25</td>\n      <td>7.99</td>\n      <td>-0.60</td>\n      <td>-0.38</td>\n    </tr>\n  </tbody>\n</table>\n</div>"
     },
     "metadata": {},
     "execution_count": 47
    }
   ],
   "source": [
    "df1.reset_index(drop=True).T.append(df2.reset_index(drop=True).T).T #Si queremos que la append ocurra en el sentido de las columnas"
   ]
  },
  {
   "cell_type": "code",
   "execution_count": 49,
   "metadata": {},
   "outputs": [
    {
     "output_type": "execute_result",
     "data": {
      "text/plain": [
       "      a     b\n",
       "0  2.50  9.68\n",
       "1  5.81  5.75\n",
       "2  6.25  7.99\n",
       "2 -0.82 -0.75\n",
       "3 -0.02 -0.48\n",
       "4 -0.60 -0.38"
      ],
      "text/html": "<div>\n<style scoped>\n    .dataframe tbody tr th:only-of-type {\n        vertical-align: middle;\n    }\n\n    .dataframe tbody tr th {\n        vertical-align: top;\n    }\n\n    .dataframe thead th {\n        text-align: right;\n    }\n</style>\n<table border=\"1\" class=\"dataframe\">\n  <thead>\n    <tr style=\"text-align: right;\">\n      <th></th>\n      <th>a</th>\n      <th>b</th>\n    </tr>\n  </thead>\n  <tbody>\n    <tr>\n      <th>0</th>\n      <td>2.50</td>\n      <td>9.68</td>\n    </tr>\n    <tr>\n      <th>1</th>\n      <td>5.81</td>\n      <td>5.75</td>\n    </tr>\n    <tr>\n      <th>2</th>\n      <td>6.25</td>\n      <td>7.99</td>\n    </tr>\n    <tr>\n      <th>2</th>\n      <td>-0.82</td>\n      <td>-0.75</td>\n    </tr>\n    <tr>\n      <th>3</th>\n      <td>-0.02</td>\n      <td>-0.48</td>\n    </tr>\n    <tr>\n      <th>4</th>\n      <td>-0.60</td>\n      <td>-0.38</td>\n    </tr>\n  </tbody>\n</table>\n</div>"
     },
     "metadata": {},
     "execution_count": 49
    }
   ],
   "source": [
    "df1.append(df2) # Se junta las matrices una debajo de la otra"
   ]
  },
  {
   "cell_type": "code",
   "execution_count": 50,
   "metadata": {},
   "outputs": [
    {
     "output_type": "execute_result",
     "data": {
      "text/plain": [
       "      a     b\n",
       "0  2.50  9.68\n",
       "1  5.81  5.75\n",
       "2  6.25  7.99\n",
       "2 -0.82 -0.75\n",
       "3 -0.02 -0.48\n",
       "4 -0.60 -0.38\n",
       "2 -0.82 -0.75\n",
       "3 -0.02 -0.48\n",
       "4 -0.60 -0.38"
      ],
      "text/html": "<div>\n<style scoped>\n    .dataframe tbody tr th:only-of-type {\n        vertical-align: middle;\n    }\n\n    .dataframe tbody tr th {\n        vertical-align: top;\n    }\n\n    .dataframe thead th {\n        text-align: right;\n    }\n</style>\n<table border=\"1\" class=\"dataframe\">\n  <thead>\n    <tr style=\"text-align: right;\">\n      <th></th>\n      <th>a</th>\n      <th>b</th>\n    </tr>\n  </thead>\n  <tbody>\n    <tr>\n      <th>0</th>\n      <td>2.50</td>\n      <td>9.68</td>\n    </tr>\n    <tr>\n      <th>1</th>\n      <td>5.81</td>\n      <td>5.75</td>\n    </tr>\n    <tr>\n      <th>2</th>\n      <td>6.25</td>\n      <td>7.99</td>\n    </tr>\n    <tr>\n      <th>2</th>\n      <td>-0.82</td>\n      <td>-0.75</td>\n    </tr>\n    <tr>\n      <th>3</th>\n      <td>-0.02</td>\n      <td>-0.48</td>\n    </tr>\n    <tr>\n      <th>4</th>\n      <td>-0.60</td>\n      <td>-0.38</td>\n    </tr>\n    <tr>\n      <th>2</th>\n      <td>-0.82</td>\n      <td>-0.75</td>\n    </tr>\n    <tr>\n      <th>3</th>\n      <td>-0.02</td>\n      <td>-0.48</td>\n    </tr>\n    <tr>\n      <th>4</th>\n      <td>-0.60</td>\n      <td>-0.38</td>\n    </tr>\n  </tbody>\n</table>\n</div>"
     },
     "metadata": {},
     "execution_count": 50
    }
   ],
   "source": [
    "df1.append(df2).append(df2) # Se junta las matrices una debajo de la otra"
   ]
  },
  {
   "cell_type": "code",
   "execution_count": 51,
   "metadata": {},
   "outputs": [
    {
     "output_type": "execute_result",
     "data": {
      "text/plain": [
       "     0    1    2\n",
       "a 2.50 5.81 6.25\n",
       "b 9.68 5.75 7.99"
      ],
      "text/html": "<div>\n<style scoped>\n    .dataframe tbody tr th:only-of-type {\n        vertical-align: middle;\n    }\n\n    .dataframe tbody tr th {\n        vertical-align: top;\n    }\n\n    .dataframe thead th {\n        text-align: right;\n    }\n</style>\n<table border=\"1\" class=\"dataframe\">\n  <thead>\n    <tr style=\"text-align: right;\">\n      <th></th>\n      <th>0</th>\n      <th>1</th>\n      <th>2</th>\n    </tr>\n  </thead>\n  <tbody>\n    <tr>\n      <th>a</th>\n      <td>2.50</td>\n      <td>5.81</td>\n      <td>6.25</td>\n    </tr>\n    <tr>\n      <th>b</th>\n      <td>9.68</td>\n      <td>5.75</td>\n      <td>7.99</td>\n    </tr>\n  </tbody>\n</table>\n</div>"
     },
     "metadata": {},
     "execution_count": 51
    }
   ],
   "source": [
    "df1.T # Invertir donde estan las filas por las columnas y viceversa"
   ]
  },
  {
   "cell_type": "code",
   "execution_count": 52,
   "metadata": {},
   "outputs": [
    {
     "output_type": "execute_result",
     "data": {
      "text/plain": [
       "     a    b     a     b\n",
       "0 2.50 9.68   NaN   NaN\n",
       "1 5.81 5.75   NaN   NaN\n",
       "2 6.25 7.99 -0.82 -0.75\n",
       "3  NaN  NaN -0.02 -0.48\n",
       "4  NaN  NaN -0.60 -0.38"
      ],
      "text/html": "<div>\n<style scoped>\n    .dataframe tbody tr th:only-of-type {\n        vertical-align: middle;\n    }\n\n    .dataframe tbody tr th {\n        vertical-align: top;\n    }\n\n    .dataframe thead th {\n        text-align: right;\n    }\n</style>\n<table border=\"1\" class=\"dataframe\">\n  <thead>\n    <tr style=\"text-align: right;\">\n      <th></th>\n      <th>a</th>\n      <th>b</th>\n      <th>a</th>\n      <th>b</th>\n    </tr>\n  </thead>\n  <tbody>\n    <tr>\n      <th>0</th>\n      <td>2.50</td>\n      <td>9.68</td>\n      <td>NaN</td>\n      <td>NaN</td>\n    </tr>\n    <tr>\n      <th>1</th>\n      <td>5.81</td>\n      <td>5.75</td>\n      <td>NaN</td>\n      <td>NaN</td>\n    </tr>\n    <tr>\n      <th>2</th>\n      <td>6.25</td>\n      <td>7.99</td>\n      <td>-0.82</td>\n      <td>-0.75</td>\n    </tr>\n    <tr>\n      <th>3</th>\n      <td>NaN</td>\n      <td>NaN</td>\n      <td>-0.02</td>\n      <td>-0.48</td>\n    </tr>\n    <tr>\n      <th>4</th>\n      <td>NaN</td>\n      <td>NaN</td>\n      <td>-0.60</td>\n      <td>-0.38</td>\n    </tr>\n  </tbody>\n</table>\n</div>"
     },
     "metadata": {},
     "execution_count": 52
    }
   ],
   "source": [
    "df1.T.append(df2.T).T"
   ]
  },
  {
   "cell_type": "code",
   "execution_count": null,
   "metadata": {},
   "outputs": [],
   "source": []
  }
 ]
}