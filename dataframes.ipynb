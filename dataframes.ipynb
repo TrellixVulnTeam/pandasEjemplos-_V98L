{
 "metadata": {
  "language_info": {
   "codemirror_mode": {
    "name": "ipython",
    "version": 3
   },
   "file_extension": ".py",
   "mimetype": "text/x-python",
   "name": "python",
   "nbconvert_exporter": "python",
   "pygments_lexer": "ipython3",
   "version": "3.8.3"
  },
  "orig_nbformat": 2,
  "kernelspec": {
   "name": "python383jvsc74a57bd0cc0f564a2842815ce2e202ab27614177d11b657bc1d48b3d4cc73b91c2a37dec",
   "display_name": "Python 3.8.3 64-bit ('base': conda)"
  }
 },
 "nbformat": 4,
 "nbformat_minor": 2,
 "cells": [
  {
   "cell_type": "code",
   "execution_count": 8,
   "metadata": {},
   "outputs": [],
   "source": [
    "import pandas as pd\n",
    "pd.__version__ # Muestra la version \n",
    "import numpy as np"
   ]
  },
  {
   "cell_type": "code",
   "execution_count": 2,
   "metadata": {},
   "outputs": [
    {
     "output_type": "execute_result",
     "data": {
      "text/plain": [
       "{'CO': 300, 'MX': 400, 'CH': 200}"
      ]
     },
     "metadata": {},
     "execution_count": 2
    }
   ],
   "source": [
    "dict_data ={'CO':300,'MX':400,'CH':200} # Diccionario\n",
    "dict_data\n"
   ]
  },
  {
   "cell_type": "code",
   "execution_count": 3,
   "metadata": {},
   "outputs": [
    {
     "output_type": "execute_result",
     "data": {
      "text/plain": [
       "CO    300\n",
       "MX    400\n",
       "CH    200\n",
       "dtype: int64"
      ]
     },
     "metadata": {},
     "execution_count": 3
    }
   ],
   "source": [
    "pd.Series(dict_data)"
   ]
  },
  {
   "cell_type": "code",
   "execution_count": 4,
   "metadata": {},
   "outputs": [
    {
     "output_type": "execute_result",
     "data": {
      "text/plain": [
       "{'CH': [100, 800, 200], 'CO': [100, 200, 300], 'MX': [300, 500, 400]}"
      ]
     },
     "metadata": {},
     "execution_count": 4
    }
   ],
   "source": [
    "dict_data ={'CH':[100,800,200], 'CO':[100,200,300],'MX':[300,500,400]} # Tiene una lista de elemento cada llave\n",
    "dict_data"
   ]
  },
  {
   "cell_type": "code",
   "execution_count": 6,
   "metadata": {},
   "outputs": [
    {
     "output_type": "execute_result",
     "data": {
      "text/plain": [
       "    CH   CO   MX\n",
       "0  100  100  300\n",
       "1  800  200  500\n",
       "2  200  300  400"
      ],
      "text/html": "<div>\n<style scoped>\n    .dataframe tbody tr th:only-of-type {\n        vertical-align: middle;\n    }\n\n    .dataframe tbody tr th {\n        vertical-align: top;\n    }\n\n    .dataframe thead th {\n        text-align: right;\n    }\n</style>\n<table border=\"1\" class=\"dataframe\">\n  <thead>\n    <tr style=\"text-align: right;\">\n      <th></th>\n      <th>CH</th>\n      <th>CO</th>\n      <th>MX</th>\n    </tr>\n  </thead>\n  <tbody>\n    <tr>\n      <th>0</th>\n      <td>100</td>\n      <td>100</td>\n      <td>300</td>\n    </tr>\n    <tr>\n      <th>1</th>\n      <td>800</td>\n      <td>200</td>\n      <td>500</td>\n    </tr>\n    <tr>\n      <th>2</th>\n      <td>200</td>\n      <td>300</td>\n      <td>400</td>\n    </tr>\n  </tbody>\n</table>\n</div>"
     },
     "metadata": {},
     "execution_count": 6
    }
   ],
   "source": [
    "df = pd.DataFrame(dict_data) # Crea filas(paises) y columnas(n° elemento)\n",
    "df"
   ]
  },
  {
   "cell_type": "code",
   "execution_count": 9,
   "metadata": {},
   "outputs": [
    {
     "output_type": "execute_result",
     "data": {
      "text/plain": [
       "{'edad': [10, 9, 13, 14, 12, 11, 12],\n",
       " 'cm': [115, 110, 130, 155, 125, 120, 125],\n",
       " 'pais': ['co', 'mx', 'co', 'mx', 'mx', 'ch', 'ch'],\n",
       " 'genero': ['M', 'F', 'F', 'M', 'M', 'M', 'F'],\n",
       " 'Q1': [5, 10, 8, nan, 7, 8, 3],\n",
       " 'Q2': [7, 9, 9, 8, 8, 8, 9]}"
      ]
     },
     "metadata": {},
     "execution_count": 9
    }
   ],
   "source": [
    "dict_data = {\n",
    "    'edad': [10,9,13,14,12,11,12],\n",
    "    'cm': [115,110,130,155,125,120,125],\n",
    "    'pais':['co','mx','co','mx','mx','ch','ch'],\n",
    "    'genero':['M','F','F','M','M','M','F'],\n",
    "    'Q1':[5,10,8,np.nan,7,8,3],\n",
    "    'Q2':[7,9,9,8,8,8,9]\n",
    "}\n",
    "dict_data"
   ]
  },
  {
   "cell_type": "code",
   "execution_count": 14,
   "metadata": {},
   "outputs": [
    {
     "output_type": "execute_result",
     "data": {
      "text/plain": [
       "          edad   cm pais genero    Q1  Q2\n",
       "ana         10  115   co      M   5.0   7\n",
       "benito       9  110   mx      F  10.0   9\n",
       "camilo      13  130   co      F   8.0   9\n",
       "daniel      14  155   mx      M   NaN   8\n",
       "erika       12  125   mx      M   7.0   8\n",
       "fabian      11  120   ch      M   8.0   8\n",
       "gabriala    12  125   ch      F   3.0   9"
      ],
      "text/html": "<div>\n<style scoped>\n    .dataframe tbody tr th:only-of-type {\n        vertical-align: middle;\n    }\n\n    .dataframe tbody tr th {\n        vertical-align: top;\n    }\n\n    .dataframe thead th {\n        text-align: right;\n    }\n</style>\n<table border=\"1\" class=\"dataframe\">\n  <thead>\n    <tr style=\"text-align: right;\">\n      <th></th>\n      <th>edad</th>\n      <th>cm</th>\n      <th>pais</th>\n      <th>genero</th>\n      <th>Q1</th>\n      <th>Q2</th>\n    </tr>\n  </thead>\n  <tbody>\n    <tr>\n      <th>ana</th>\n      <td>10</td>\n      <td>115</td>\n      <td>co</td>\n      <td>M</td>\n      <td>5.0</td>\n      <td>7</td>\n    </tr>\n    <tr>\n      <th>benito</th>\n      <td>9</td>\n      <td>110</td>\n      <td>mx</td>\n      <td>F</td>\n      <td>10.0</td>\n      <td>9</td>\n    </tr>\n    <tr>\n      <th>camilo</th>\n      <td>13</td>\n      <td>130</td>\n      <td>co</td>\n      <td>F</td>\n      <td>8.0</td>\n      <td>9</td>\n    </tr>\n    <tr>\n      <th>daniel</th>\n      <td>14</td>\n      <td>155</td>\n      <td>mx</td>\n      <td>M</td>\n      <td>NaN</td>\n      <td>8</td>\n    </tr>\n    <tr>\n      <th>erika</th>\n      <td>12</td>\n      <td>125</td>\n      <td>mx</td>\n      <td>M</td>\n      <td>7.0</td>\n      <td>8</td>\n    </tr>\n    <tr>\n      <th>fabian</th>\n      <td>11</td>\n      <td>120</td>\n      <td>ch</td>\n      <td>M</td>\n      <td>8.0</td>\n      <td>8</td>\n    </tr>\n    <tr>\n      <th>gabriala</th>\n      <td>12</td>\n      <td>125</td>\n      <td>ch</td>\n      <td>F</td>\n      <td>3.0</td>\n      <td>9</td>\n    </tr>\n  </tbody>\n</table>\n</div>"
     },
     "metadata": {},
     "execution_count": 14
    }
   ],
   "source": [
    "df = pd.DataFrame(dict_data, index= ['ana','benito','camilo','daniel','erika','fabian','gabriala']) # En el index tiene que concidir los elementos a intercambiar (0 a 5, deben ser 6 elementos nuevos)\n",
    "df"
   ]
  },
  {
   "cell_type": "code",
   "execution_count": 15,
   "metadata": {},
   "outputs": [
    {
     "output_type": "execute_result",
     "data": {
      "text/plain": [
       "Index(['ana', 'benito', 'camilo', 'daniel', 'erika', 'fabian', 'gabriala'], dtype='object')"
      ]
     },
     "metadata": {},
     "execution_count": 15
    }
   ],
   "source": [
    "df.index # muestra los datos del index"
   ]
  },
  {
   "cell_type": "code",
   "execution_count": 16,
   "metadata": {},
   "outputs": [
    {
     "output_type": "execute_result",
     "data": {
      "text/plain": [
       "Index(['edad', 'cm', 'pais', 'genero', 'Q1', 'Q2'], dtype='object')"
      ]
     },
     "metadata": {},
     "execution_count": 16
    }
   ],
   "source": [
    "df.columns # Muestra las columnas"
   ]
  },
  {
   "cell_type": "code",
   "execution_count": 17,
   "metadata": {},
   "outputs": [
    {
     "output_type": "execute_result",
     "data": {
      "text/plain": [
       "array([[10, 115, 'co', 'M', 5.0, 7],\n",
       "       [9, 110, 'mx', 'F', 10.0, 9],\n",
       "       [13, 130, 'co', 'F', 8.0, 9],\n",
       "       [14, 155, 'mx', 'M', nan, 8],\n",
       "       [12, 125, 'mx', 'M', 7.0, 8],\n",
       "       [11, 120, 'ch', 'M', 8.0, 8],\n",
       "       [12, 125, 'ch', 'F', 3.0, 9]], dtype=object)"
      ]
     },
     "metadata": {},
     "execution_count": 17
    }
   ],
   "source": [
    "df.values() # Muestra los valores"
   ]
  },
  {
   "cell_type": "code",
   "execution_count": 19,
   "metadata": {},
   "outputs": [
    {
     "output_type": "execute_result",
     "data": {
      "text/plain": [
       "ana         10\n",
       "benito       9\n",
       "camilo      13\n",
       "daniel      14\n",
       "erika       12\n",
       "fabian      11\n",
       "gabriala    12\n",
       "Name: edad, dtype: int64"
      ]
     },
     "metadata": {},
     "execution_count": 19
    }
   ],
   "source": [
    "df['edad'] # muestra los datos de la columna seleccionada"
   ]
  },
  {
   "cell_type": "code",
   "execution_count": 20,
   "metadata": {},
   "outputs": [
    {
     "output_type": "execute_result",
     "data": {
      "text/plain": [
       "          edad   cm    Q1\n",
       "ana         10  115   5.0\n",
       "benito       9  110  10.0\n",
       "camilo      13  130   8.0\n",
       "daniel      14  155   NaN\n",
       "erika       12  125   7.0\n",
       "fabian      11  120   8.0\n",
       "gabriala    12  125   3.0"
      ],
      "text/html": "<div>\n<style scoped>\n    .dataframe tbody tr th:only-of-type {\n        vertical-align: middle;\n    }\n\n    .dataframe tbody tr th {\n        vertical-align: top;\n    }\n\n    .dataframe thead th {\n        text-align: right;\n    }\n</style>\n<table border=\"1\" class=\"dataframe\">\n  <thead>\n    <tr style=\"text-align: right;\">\n      <th></th>\n      <th>edad</th>\n      <th>cm</th>\n      <th>Q1</th>\n    </tr>\n  </thead>\n  <tbody>\n    <tr>\n      <th>ana</th>\n      <td>10</td>\n      <td>115</td>\n      <td>5.0</td>\n    </tr>\n    <tr>\n      <th>benito</th>\n      <td>9</td>\n      <td>110</td>\n      <td>10.0</td>\n    </tr>\n    <tr>\n      <th>camilo</th>\n      <td>13</td>\n      <td>130</td>\n      <td>8.0</td>\n    </tr>\n    <tr>\n      <th>daniel</th>\n      <td>14</td>\n      <td>155</td>\n      <td>NaN</td>\n    </tr>\n    <tr>\n      <th>erika</th>\n      <td>12</td>\n      <td>125</td>\n      <td>7.0</td>\n    </tr>\n    <tr>\n      <th>fabian</th>\n      <td>11</td>\n      <td>120</td>\n      <td>8.0</td>\n    </tr>\n    <tr>\n      <th>gabriala</th>\n      <td>12</td>\n      <td>125</td>\n      <td>3.0</td>\n    </tr>\n  </tbody>\n</table>\n</div>"
     },
     "metadata": {},
     "execution_count": 20
    }
   ],
   "source": [
    "df[['edad','cm','Q1']] # Seleccionando varias columnas"
   ]
  },
  {
   "cell_type": "code",
   "execution_count": 21,
   "metadata": {},
   "outputs": [
    {
     "output_type": "execute_result",
     "data": {
      "text/plain": [
       "edad     10\n",
       "cm      115\n",
       "Q1      5.0\n",
       "Name: ana, dtype: object"
      ]
     },
     "metadata": {},
     "execution_count": 21
    }
   ],
   "source": [
    "df.loc['ana',['edad','cm','Q1']] # Seleccina un alumno(index) con varios datos"
   ]
  },
  {
   "cell_type": "code",
   "execution_count": 23,
   "metadata": {},
   "outputs": [
    {
     "output_type": "execute_result",
     "data": {
      "text/plain": [
       "nan"
      ]
     },
     "metadata": {},
     "execution_count": 23
    }
   ],
   "source": [
    "df.loc['daniel','Q1'] # Seleccionar un dato especifico"
   ]
  },
  {
   "cell_type": "code",
   "execution_count": 22,
   "metadata": {},
   "outputs": [
    {
     "output_type": "execute_result",
     "data": {
      "text/plain": [
       "        edad   cm   Q1\n",
       "ana       10  115  5.0\n",
       "fabian    11  120  8.0"
      ],
      "text/html": "<div>\n<style scoped>\n    .dataframe tbody tr th:only-of-type {\n        vertical-align: middle;\n    }\n\n    .dataframe tbody tr th {\n        vertical-align: top;\n    }\n\n    .dataframe thead th {\n        text-align: right;\n    }\n</style>\n<table border=\"1\" class=\"dataframe\">\n  <thead>\n    <tr style=\"text-align: right;\">\n      <th></th>\n      <th>edad</th>\n      <th>cm</th>\n      <th>Q1</th>\n    </tr>\n  </thead>\n  <tbody>\n    <tr>\n      <th>ana</th>\n      <td>10</td>\n      <td>115</td>\n      <td>5.0</td>\n    </tr>\n    <tr>\n      <th>fabian</th>\n      <td>11</td>\n      <td>120</td>\n      <td>8.0</td>\n    </tr>\n  </tbody>\n</table>\n</div>"
     },
     "metadata": {},
     "execution_count": 22
    }
   ],
   "source": [
    "df.loc[['ana','fabian'],['edad','cm','Q1']] # seleccionar varios alumnos con varios datos"
   ]
  },
  {
   "cell_type": "code",
   "execution_count": 24,
   "metadata": {},
   "outputs": [
    {
     "output_type": "execute_result",
     "data": {
      "text/plain": [
       "          edad   cm pais genero    Q1  Q2\n",
       "ana         10  115   co      M   5.0   7\n",
       "benito       9  110   mx      F  10.0   9\n",
       "camilo      13  130   co      F   8.0   9\n",
       "daniel      14  155   mx      M   NaN   8\n",
       "erika       12  125   mx      M   7.0   8\n",
       "fabian      11  120   ch      M   8.0   8\n",
       "gabriala    12  125   ch      F   3.0   9"
      ],
      "text/html": "<div>\n<style scoped>\n    .dataframe tbody tr th:only-of-type {\n        vertical-align: middle;\n    }\n\n    .dataframe tbody tr th {\n        vertical-align: top;\n    }\n\n    .dataframe thead th {\n        text-align: right;\n    }\n</style>\n<table border=\"1\" class=\"dataframe\">\n  <thead>\n    <tr style=\"text-align: right;\">\n      <th></th>\n      <th>edad</th>\n      <th>cm</th>\n      <th>pais</th>\n      <th>genero</th>\n      <th>Q1</th>\n      <th>Q2</th>\n    </tr>\n  </thead>\n  <tbody>\n    <tr>\n      <th>ana</th>\n      <td>10</td>\n      <td>115</td>\n      <td>co</td>\n      <td>M</td>\n      <td>5.0</td>\n      <td>7</td>\n    </tr>\n    <tr>\n      <th>benito</th>\n      <td>9</td>\n      <td>110</td>\n      <td>mx</td>\n      <td>F</td>\n      <td>10.0</td>\n      <td>9</td>\n    </tr>\n    <tr>\n      <th>camilo</th>\n      <td>13</td>\n      <td>130</td>\n      <td>co</td>\n      <td>F</td>\n      <td>8.0</td>\n      <td>9</td>\n    </tr>\n    <tr>\n      <th>daniel</th>\n      <td>14</td>\n      <td>155</td>\n      <td>mx</td>\n      <td>M</td>\n      <td>NaN</td>\n      <td>8</td>\n    </tr>\n    <tr>\n      <th>erika</th>\n      <td>12</td>\n      <td>125</td>\n      <td>mx</td>\n      <td>M</td>\n      <td>7.0</td>\n      <td>8</td>\n    </tr>\n    <tr>\n      <th>fabian</th>\n      <td>11</td>\n      <td>120</td>\n      <td>ch</td>\n      <td>M</td>\n      <td>8.0</td>\n      <td>8</td>\n    </tr>\n    <tr>\n      <th>gabriala</th>\n      <td>12</td>\n      <td>125</td>\n      <td>ch</td>\n      <td>F</td>\n      <td>3.0</td>\n      <td>9</td>\n    </tr>\n  </tbody>\n</table>\n</div>"
     },
     "metadata": {},
     "execution_count": 24
    }
   ],
   "source": [
    "df"
   ]
  },
  {
   "cell_type": "code",
   "execution_count": 25,
   "metadata": {},
   "outputs": [
    {
     "output_type": "execute_result",
     "data": {
      "text/plain": [
       "130"
      ]
     },
     "metadata": {},
     "execution_count": 25
    }
   ],
   "source": [
    "df.iloc[2,1] # Seleccionar dato por ubicacion numerica "
   ]
  },
  {
   "cell_type": "code",
   "execution_count": 27,
   "metadata": {},
   "outputs": [
    {
     "output_type": "execute_result",
     "data": {
      "text/plain": [
       "cm        130\n",
       "genero      F\n",
       "Name: camilo, dtype: object"
      ]
     },
     "metadata": {},
     "execution_count": 27
    }
   ],
   "source": [
    "df.iloc[2,[1,3]] # Seleccionado mas datos por ubicacion"
   ]
  },
  {
   "cell_type": "code",
   "execution_count": 28,
   "metadata": {},
   "outputs": [
    {
     "output_type": "execute_result",
     "data": {
      "text/plain": [
       "         cm genero\n",
       "camilo  130      F\n",
       "erika   125      M\n",
       "fabian  120      M"
      ],
      "text/html": "<div>\n<style scoped>\n    .dataframe tbody tr th:only-of-type {\n        vertical-align: middle;\n    }\n\n    .dataframe tbody tr th {\n        vertical-align: top;\n    }\n\n    .dataframe thead th {\n        text-align: right;\n    }\n</style>\n<table border=\"1\" class=\"dataframe\">\n  <thead>\n    <tr style=\"text-align: right;\">\n      <th></th>\n      <th>cm</th>\n      <th>genero</th>\n    </tr>\n  </thead>\n  <tbody>\n    <tr>\n      <th>camilo</th>\n      <td>130</td>\n      <td>F</td>\n    </tr>\n    <tr>\n      <th>erika</th>\n      <td>125</td>\n      <td>M</td>\n    </tr>\n    <tr>\n      <th>fabian</th>\n      <td>120</td>\n      <td>M</td>\n    </tr>\n  </tbody>\n</table>\n</div>"
     },
     "metadata": {},
     "execution_count": 28
    }
   ],
   "source": [
    "df.iloc[[2,4,5],[1,3]] # Seleccionando varios index"
   ]
  },
  {
   "cell_type": "code",
   "execution_count": 29,
   "metadata": {},
   "outputs": [
    {
     "output_type": "execute_result",
     "data": {
      "text/plain": [
       "           cm genero\n",
       "ana       115      M\n",
       "benito    110      F\n",
       "camilo    130      F\n",
       "daniel    155      M\n",
       "erika     125      M\n",
       "fabian    120      M\n",
       "gabriala  125      F"
      ],
      "text/html": "<div>\n<style scoped>\n    .dataframe tbody tr th:only-of-type {\n        vertical-align: middle;\n    }\n\n    .dataframe tbody tr th {\n        vertical-align: top;\n    }\n\n    .dataframe thead th {\n        text-align: right;\n    }\n</style>\n<table border=\"1\" class=\"dataframe\">\n  <thead>\n    <tr style=\"text-align: right;\">\n      <th></th>\n      <th>cm</th>\n      <th>genero</th>\n    </tr>\n  </thead>\n  <tbody>\n    <tr>\n      <th>ana</th>\n      <td>115</td>\n      <td>M</td>\n    </tr>\n    <tr>\n      <th>benito</th>\n      <td>110</td>\n      <td>F</td>\n    </tr>\n    <tr>\n      <th>camilo</th>\n      <td>130</td>\n      <td>F</td>\n    </tr>\n    <tr>\n      <th>daniel</th>\n      <td>155</td>\n      <td>M</td>\n    </tr>\n    <tr>\n      <th>erika</th>\n      <td>125</td>\n      <td>M</td>\n    </tr>\n    <tr>\n      <th>fabian</th>\n      <td>120</td>\n      <td>M</td>\n    </tr>\n    <tr>\n      <th>gabriala</th>\n      <td>125</td>\n      <td>F</td>\n    </tr>\n  </tbody>\n</table>\n</div>"
     },
     "metadata": {},
     "execution_count": 29
    }
   ],
   "source": [
    " df.iloc[:,[1,3]] # Seleccionar la columna de index completa"
   ]
  },
  {
   "cell_type": "code",
   "execution_count": 31,
   "metadata": {},
   "outputs": [
    {
     "output_type": "execute_result",
     "data": {
      "text/plain": [
       "ana         False\n",
       "benito      False\n",
       "camilo       True\n",
       "daniel       True\n",
       "erika        True\n",
       "fabian      False\n",
       "gabriala     True\n",
       "Name: edad, dtype: bool"
      ]
     },
     "metadata": {},
     "execution_count": 31
    }
   ],
   "source": [
    "df['edad'] >= 12 # todas las personas mayores o iguales a 12 resp en booleano "
   ]
  },
  {
   "cell_type": "code",
   "execution_count": 32,
   "metadata": {},
   "outputs": [
    {
     "output_type": "execute_result",
     "data": {
      "text/plain": [
       "          edad   cm pais genero   Q1  Q2\n",
       "camilo      13  130   co      F  8.0   9\n",
       "daniel      14  155   mx      M  NaN   8\n",
       "erika       12  125   mx      M  7.0   8\n",
       "gabriala    12  125   ch      F  3.0   9"
      ],
      "text/html": "<div>\n<style scoped>\n    .dataframe tbody tr th:only-of-type {\n        vertical-align: middle;\n    }\n\n    .dataframe tbody tr th {\n        vertical-align: top;\n    }\n\n    .dataframe thead th {\n        text-align: right;\n    }\n</style>\n<table border=\"1\" class=\"dataframe\">\n  <thead>\n    <tr style=\"text-align: right;\">\n      <th></th>\n      <th>edad</th>\n      <th>cm</th>\n      <th>pais</th>\n      <th>genero</th>\n      <th>Q1</th>\n      <th>Q2</th>\n    </tr>\n  </thead>\n  <tbody>\n    <tr>\n      <th>camilo</th>\n      <td>13</td>\n      <td>130</td>\n      <td>co</td>\n      <td>F</td>\n      <td>8.0</td>\n      <td>9</td>\n    </tr>\n    <tr>\n      <th>daniel</th>\n      <td>14</td>\n      <td>155</td>\n      <td>mx</td>\n      <td>M</td>\n      <td>NaN</td>\n      <td>8</td>\n    </tr>\n    <tr>\n      <th>erika</th>\n      <td>12</td>\n      <td>125</td>\n      <td>mx</td>\n      <td>M</td>\n      <td>7.0</td>\n      <td>8</td>\n    </tr>\n    <tr>\n      <th>gabriala</th>\n      <td>12</td>\n      <td>125</td>\n      <td>ch</td>\n      <td>F</td>\n      <td>3.0</td>\n      <td>9</td>\n    </tr>\n  </tbody>\n</table>\n</div>"
     },
     "metadata": {},
     "execution_count": 32
    }
   ],
   "source": [
    "df[df['edad'] >= 12] # Muestra un subconjunto de datos filtrado por la edad "
   ]
  },
  {
   "cell_type": "code",
   "execution_count": 43,
   "metadata": {},
   "outputs": [
    {
     "output_type": "execute_result",
     "data": {
      "text/plain": [
       "          edad   cm pais genero   Q1  Q2\n",
       "camilo      13  130   co      F  8.0   9\n",
       "daniel      14  155   mx      M  NaN   8\n",
       "erika       12  125   mx      M  7.0   8\n",
       "gabriala    12  125   ch      F  3.0   9"
      ],
      "text/html": "<div>\n<style scoped>\n    .dataframe tbody tr th:only-of-type {\n        vertical-align: middle;\n    }\n\n    .dataframe tbody tr th {\n        vertical-align: top;\n    }\n\n    .dataframe thead th {\n        text-align: right;\n    }\n</style>\n<table border=\"1\" class=\"dataframe\">\n  <thead>\n    <tr style=\"text-align: right;\">\n      <th></th>\n      <th>edad</th>\n      <th>cm</th>\n      <th>pais</th>\n      <th>genero</th>\n      <th>Q1</th>\n      <th>Q2</th>\n    </tr>\n  </thead>\n  <tbody>\n    <tr>\n      <th>camilo</th>\n      <td>13</td>\n      <td>130</td>\n      <td>co</td>\n      <td>F</td>\n      <td>8.0</td>\n      <td>9</td>\n    </tr>\n    <tr>\n      <th>daniel</th>\n      <td>14</td>\n      <td>155</td>\n      <td>mx</td>\n      <td>M</td>\n      <td>NaN</td>\n      <td>8</td>\n    </tr>\n    <tr>\n      <th>erika</th>\n      <td>12</td>\n      <td>125</td>\n      <td>mx</td>\n      <td>M</td>\n      <td>7.0</td>\n      <td>8</td>\n    </tr>\n    <tr>\n      <th>gabriala</th>\n      <td>12</td>\n      <td>125</td>\n      <td>ch</td>\n      <td>F</td>\n      <td>3.0</td>\n      <td>9</td>\n    </tr>\n  </tbody>\n</table>\n</div>"
     },
     "metadata": {},
     "execution_count": 43
    }
   ],
   "source": [
    "df.query('edad >= 12') # Consultando por querys"
   ]
  },
  {
   "cell_type": "code",
   "execution_count": 42,
   "metadata": {},
   "outputs": [
    {
     "output_type": "execute_result",
     "data": {
      "text/plain": [
       "        edad   cm pais genero   Q1  Q2\n",
       "daniel    14  155   mx      M  NaN   8\n",
       "erika     12  125   mx      M  7.0   8"
      ],
      "text/html": "<div>\n<style scoped>\n    .dataframe tbody tr th:only-of-type {\n        vertical-align: middle;\n    }\n\n    .dataframe tbody tr th {\n        vertical-align: top;\n    }\n\n    .dataframe thead th {\n        text-align: right;\n    }\n</style>\n<table border=\"1\" class=\"dataframe\">\n  <thead>\n    <tr style=\"text-align: right;\">\n      <th></th>\n      <th>edad</th>\n      <th>cm</th>\n      <th>pais</th>\n      <th>genero</th>\n      <th>Q1</th>\n      <th>Q2</th>\n    </tr>\n  </thead>\n  <tbody>\n    <tr>\n      <th>daniel</th>\n      <td>14</td>\n      <td>155</td>\n      <td>mx</td>\n      <td>M</td>\n      <td>NaN</td>\n      <td>8</td>\n    </tr>\n    <tr>\n      <th>erika</th>\n      <td>12</td>\n      <td>125</td>\n      <td>mx</td>\n      <td>M</td>\n      <td>7.0</td>\n      <td>8</td>\n    </tr>\n  </tbody>\n</table>\n</div>"
     },
     "metadata": {},
     "execution_count": 42
    }
   ],
   "source": [
    "df[(df['edad'] >= 12) & (df['pais'] =='mx')] # Seleccionando cuyos estudiantes sean mayor o igual a 12 y que sean de mexico \"mx\""
   ]
  },
  {
   "cell_type": "code",
   "execution_count": 45,
   "metadata": {},
   "outputs": [
    {
     "output_type": "execute_result",
     "data": {
      "text/plain": [
       "ana          True\n",
       "benito      False\n",
       "camilo       True\n",
       "daniel      False\n",
       "erika        True\n",
       "fabian       True\n",
       "gabriala     True\n",
       "dtype: bool"
      ]
     },
     "metadata": {},
     "execution_count": 45
    }
   ],
   "source": [
    "df['Q2'] >= df['Q1'] # Comparaciones entre 2 datos (estudiantes que tuvieron una mejora en Q2 vs Q1)"
   ]
  },
  {
   "cell_type": "code",
   "execution_count": 47,
   "metadata": {},
   "outputs": [
    {
     "output_type": "execute_result",
     "data": {
      "text/plain": [
       "          edad   cm pais genero   Q1  Q2\n",
       "ana         10  115   co      M  5.0   7\n",
       "camilo      13  130   co      F  8.0   9\n",
       "erika       12  125   mx      M  7.0   8\n",
       "fabian      11  120   ch      M  8.0   8\n",
       "gabriala    12  125   ch      F  3.0   9"
      ],
      "text/html": "<div>\n<style scoped>\n    .dataframe tbody tr th:only-of-type {\n        vertical-align: middle;\n    }\n\n    .dataframe tbody tr th {\n        vertical-align: top;\n    }\n\n    .dataframe thead th {\n        text-align: right;\n    }\n</style>\n<table border=\"1\" class=\"dataframe\">\n  <thead>\n    <tr style=\"text-align: right;\">\n      <th></th>\n      <th>edad</th>\n      <th>cm</th>\n      <th>pais</th>\n      <th>genero</th>\n      <th>Q1</th>\n      <th>Q2</th>\n    </tr>\n  </thead>\n  <tbody>\n    <tr>\n      <th>ana</th>\n      <td>10</td>\n      <td>115</td>\n      <td>co</td>\n      <td>M</td>\n      <td>5.0</td>\n      <td>7</td>\n    </tr>\n    <tr>\n      <th>camilo</th>\n      <td>13</td>\n      <td>130</td>\n      <td>co</td>\n      <td>F</td>\n      <td>8.0</td>\n      <td>9</td>\n    </tr>\n    <tr>\n      <th>erika</th>\n      <td>12</td>\n      <td>125</td>\n      <td>mx</td>\n      <td>M</td>\n      <td>7.0</td>\n      <td>8</td>\n    </tr>\n    <tr>\n      <th>fabian</th>\n      <td>11</td>\n      <td>120</td>\n      <td>ch</td>\n      <td>M</td>\n      <td>8.0</td>\n      <td>8</td>\n    </tr>\n    <tr>\n      <th>gabriala</th>\n      <td>12</td>\n      <td>125</td>\n      <td>ch</td>\n      <td>F</td>\n      <td>3.0</td>\n      <td>9</td>\n    </tr>\n  </tbody>\n</table>\n</div>"
     },
     "metadata": {},
     "execution_count": 47
    }
   ],
   "source": [
    "df[df['Q2'] >= df['Q1']] # Comparaciones entre 2 datos (estudiantes que tuvieron una mejora en Q2 vs Q1)"
   ]
  },
  {
   "cell_type": "code",
   "execution_count": 48,
   "metadata": {},
   "outputs": [
    {
     "output_type": "stream",
     "name": "stdout",
     "text": [
      "<class 'pandas.core.frame.DataFrame'>\nIndex: 7 entries, ana to gabriala\nData columns (total 6 columns):\n #   Column  Non-Null Count  Dtype  \n---  ------  --------------  -----  \n 0   edad    7 non-null      int64  \n 1   cm      7 non-null      int64  \n 2   pais    7 non-null      object \n 3   genero  7 non-null      object \n 4   Q1      6 non-null      float64\n 5   Q2      7 non-null      int64  \ndtypes: float64(1), int64(3), object(2)\nmemory usage: 692.0+ bytes\n"
     ]
    }
   ],
   "source": [
    "df.info() # devuelve un resumen con la estructura de las variables y el tipo de datos que contienen."
   ]
  },
  {
   "cell_type": "code",
   "execution_count": 49,
   "metadata": {},
   "outputs": [
    {
     "output_type": "execute_result",
     "data": {
      "text/plain": [
       "            edad          cm         Q1        Q2\n",
       "count   7.000000    7.000000   6.000000  7.000000\n",
       "mean   11.571429  125.714286   6.833333  8.285714\n",
       "std     1.718249   14.556949   2.483277  0.755929\n",
       "min     9.000000  110.000000   3.000000  7.000000\n",
       "25%    10.500000  117.500000   5.500000  8.000000\n",
       "50%    12.000000  125.000000   7.500000  8.000000\n",
       "75%    12.500000  127.500000   8.000000  9.000000\n",
       "max    14.000000  155.000000  10.000000  9.000000"
      ],
      "text/html": "<div>\n<style scoped>\n    .dataframe tbody tr th:only-of-type {\n        vertical-align: middle;\n    }\n\n    .dataframe tbody tr th {\n        vertical-align: top;\n    }\n\n    .dataframe thead th {\n        text-align: right;\n    }\n</style>\n<table border=\"1\" class=\"dataframe\">\n  <thead>\n    <tr style=\"text-align: right;\">\n      <th></th>\n      <th>edad</th>\n      <th>cm</th>\n      <th>Q1</th>\n      <th>Q2</th>\n    </tr>\n  </thead>\n  <tbody>\n    <tr>\n      <th>count</th>\n      <td>7.000000</td>\n      <td>7.000000</td>\n      <td>6.000000</td>\n      <td>7.000000</td>\n    </tr>\n    <tr>\n      <th>mean</th>\n      <td>11.571429</td>\n      <td>125.714286</td>\n      <td>6.833333</td>\n      <td>8.285714</td>\n    </tr>\n    <tr>\n      <th>std</th>\n      <td>1.718249</td>\n      <td>14.556949</td>\n      <td>2.483277</td>\n      <td>0.755929</td>\n    </tr>\n    <tr>\n      <th>min</th>\n      <td>9.000000</td>\n      <td>110.000000</td>\n      <td>3.000000</td>\n      <td>7.000000</td>\n    </tr>\n    <tr>\n      <th>25%</th>\n      <td>10.500000</td>\n      <td>117.500000</td>\n      <td>5.500000</td>\n      <td>8.000000</td>\n    </tr>\n    <tr>\n      <th>50%</th>\n      <td>12.000000</td>\n      <td>125.000000</td>\n      <td>7.500000</td>\n      <td>8.000000</td>\n    </tr>\n    <tr>\n      <th>75%</th>\n      <td>12.500000</td>\n      <td>127.500000</td>\n      <td>8.000000</td>\n      <td>9.000000</td>\n    </tr>\n    <tr>\n      <th>max</th>\n      <td>14.000000</td>\n      <td>155.000000</td>\n      <td>10.000000</td>\n      <td>9.000000</td>\n    </tr>\n  </tbody>\n</table>\n</div>"
     },
     "metadata": {},
     "execution_count": 49
    }
   ],
   "source": [
    "df.describe() #  devuelve un summary() de tu set de datos. Si tienes variables numericas te devolvera: minimo. maximo, media,std,…etc de las columnas numericas."
   ]
  },
  {
   "cell_type": "code",
   "execution_count": null,
   "metadata": {},
   "outputs": [],
   "source": []
  }
 ]
}